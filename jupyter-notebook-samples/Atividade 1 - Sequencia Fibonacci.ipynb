{
 "cells": [
  {
   "cell_type": "markdown",
   "metadata": {},
   "source": [
    "# Atividade - Sequência Fibonacci\n",
    "\n",
    "*João Otávio Caetano Dias*\n",
    "\n",
    "1.A sequência de Fibonacci funciona como uma lista de números que se inicia com 0 , 1 e todos os próximos números dessa lista são a soma dos dois anteriores.\n",
    "\n",
    "2.Em português estruturado, desenvolva um pseudoalgoritmo do procedimento para computar números na lista de Fibonacci\n",
    "\n",
    "3.O resultado esperado desse procedimento: Fibonacci = (0,1,1,2,3,5,8,13,21,34,55)"
   ]
  },
  {
   "cell_type": "code",
   "execution_count": 8,
   "metadata": {},
   "outputs": [
    {
     "name": "stdout",
     "output_type": "stream",
     "text": [
      "[0, 1, 1, 2, 3, 5, 8, 13, 21, 34, 55]\n"
     ]
    }
   ],
   "source": [
    "lista_fibo = [0,1]\n",
    "while lista_fibo[-1]<55 :\n",
    "    lista_fibo.append(lista_fibo[-1] + lista_fibo[-2])\n",
    "print(lista_fibo)"
   ]
  }
 ],
 "metadata": {
  "kernelspec": {
   "display_name": "Python 3",
   "language": "python",
   "name": "python3"
  },
  "language_info": {
   "codemirror_mode": {
    "name": "ipython",
    "version": 3
   },
   "file_extension": ".py",
   "mimetype": "text/x-python",
   "name": "python",
   "nbconvert_exporter": "python",
   "pygments_lexer": "ipython3",
   "version": "3.6.7"
  }
 },
 "nbformat": 4,
 "nbformat_minor": 2
}
