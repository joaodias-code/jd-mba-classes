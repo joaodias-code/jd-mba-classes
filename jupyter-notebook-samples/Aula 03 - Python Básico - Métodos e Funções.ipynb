{
 "cells": [
  {
   "cell_type": "markdown",
   "metadata": {},
   "source": [
    "## Live University\n",
    "\n",
    "\n"
   ]
  },
  {
   "cell_type": "markdown",
   "metadata": {},
   "source": [
    "### Python Básico - Métodos e Funções\n",
    "\n",
    "<img src=\"http://blog.klocwork.com/wp-content/uploads/2016/01/python-logo.png\" align=left>"
   ]
  },
  {
   "cell_type": "markdown",
   "metadata": {},
   "source": [
    "## Métodos e Funções\n",
    "\n",
    "Métodos e funções são procedimentos que recebem um input (a maioria das vezes) retornam algo. \n",
    "Existem métodos internos que são funcionalidades de classes (programação orientada a objeto), ou mesmo procedimentos desenvolvidos dentro do algoritmo (def).\n",
    "\n",
    "Existem milhares de métodos e funções (tanto internas quanto externas) no Python. Ler as documentações do Python e de bibliotecas externas são uma boa maneira de se explorar todas as possibilidades que métodos e funções geram.\n",
    "\n"
   ]
  },
  {
   "cell_type": "code",
   "execution_count": null,
   "metadata": {},
   "outputs": [],
   "source": [
    "# Método count\n",
    "nomes = ['ana','carolina','eduardo','juliana','eduardo','ana'] \n",
    "nomes.count('ana')"
   ]
  },
  {
   "cell_type": "code",
   "execution_count": null,
   "metadata": {},
   "outputs": [],
   "source": [
    "# Método de listas append\n",
    "nomes.append('rodrigo')\n",
    "print(nomes)"
   ]
  },
  {
   "cell_type": "code",
   "execution_count": null,
   "metadata": {},
   "outputs": [],
   "source": [
    "# Método pop (remove o último item da lista)\n",
    "nomes.pop()\n",
    "print(nomes)"
   ]
  },
  {
   "cell_type": "code",
   "execution_count": null,
   "metadata": {},
   "outputs": [],
   "source": [
    "# Outras funções internas do Python\n",
    "lista = [1,2,3,4,5,6,7,8,9]\n",
    "soma = sum(lista)\n",
    "maior = max(lista)\n",
    "menor = min(lista)\n",
    "comprimento = len(lista)\n",
    "soma, maior, menor, comprimento"
   ]
  },
  {
   "cell_type": "code",
   "execution_count": null,
   "metadata": {},
   "outputs": [],
   "source": [
    "# Método interno de dicionários para gerar uma lista com todas as chaves do dicionário\n",
    "inventario = {'abacaxis': 430, 'bananas': 312, 'laranjas': 525, 'peras': 217}"
   ]
  },
  {
   "cell_type": "code",
   "execution_count": null,
   "metadata": {},
   "outputs": [],
   "source": [
    "inventario.keys()"
   ]
  },
  {
   "cell_type": "code",
   "execution_count": null,
   "metadata": {},
   "outputs": [],
   "source": [
    "# atribuindo essas chaves a uma nova lista com a função interna \"list\"\n",
    "chaves = list(inventario.keys())\n",
    "print(chaves)\n",
    "print(chaves[0])"
   ]
  },
  {
   "cell_type": "markdown",
   "metadata": {},
   "source": [
    "#### Convertendo dados com construtores str(), float(), int()"
   ]
  },
  {
   "cell_type": "code",
   "execution_count": null,
   "metadata": {},
   "outputs": [],
   "source": [
    "# Funções internas de conversão de dados\n",
    "x = 1\n",
    "y = float(x)\n",
    "print(y)"
   ]
  },
  {
   "cell_type": "code",
   "execution_count": null,
   "metadata": {},
   "outputs": [],
   "source": [
    "x = \"1\"\n",
    "y = int(x)\n",
    "print(y)"
   ]
  },
  {
   "cell_type": "code",
   "execution_count": null,
   "metadata": {},
   "outputs": [],
   "source": [
    "# lembre-se que se x não fosse convertido em string, a operação da variável \"c\" geraria um erro de TypeError\n",
    "x = 1\n",
    "y = \"Número: \"\n",
    "c = y + str(x) \n",
    "print(c)"
   ]
  },
  {
   "cell_type": "code",
   "execution_count": null,
   "metadata": {},
   "outputs": [],
   "source": [
    "# arredondando números decimais\n",
    "decimal = 3.7\n",
    "inteiro = round(decimal)\n",
    "print(inteiro)"
   ]
  },
  {
   "cell_type": "markdown",
   "metadata": {},
   "source": [
    "### Comando Def\n",
    "\n",
    "Podemos desenvolver nossas próprias funções e especificar quais argumentos elas receberão e quais outputs elas retornarão.\n",
    "\n",
    "a sintaxe para definir uma função é a seguinte:\n",
    "\n",
    "<strong>def</strong> nome_da_função(argumentos da função):\n",
    "            \n",
    "            comandos\n",
    "\n",
    "Os parâmetros ou argumentos de uma função são os valores de entrada. Não existe um número fixo de argumentos, geralmente funções mais complexas recebem mais argumentos de entrada. A natureza do argumento depende da natureza do procedimento. Ele pode ser uma lista, um valor (número, string),um dicionário, etc"
   ]
  },
  {
   "cell_type": "code",
   "execution_count": null,
   "metadata": {},
   "outputs": [],
   "source": [
    "def contarNome(lista_de_nomes, nome_alvo):\n",
    "    contagem = lista_de_nomes.count(nome_alvo)\n",
    "    return contagem"
   ]
  },
  {
   "cell_type": "code",
   "execution_count": null,
   "metadata": {},
   "outputs": [],
   "source": [
    "nomes = ['ana','carolina','eduardo','juliana','eduardo','ana','julio','gabriel','gabriela','ana','eduardo']"
   ]
  },
  {
   "cell_type": "code",
   "execution_count": null,
   "metadata": {},
   "outputs": [],
   "source": [
    "resultado = contarNome(nomes, \"ana\")\n",
    "print(resultado)"
   ]
  },
  {
   "cell_type": "code",
   "execution_count": null,
   "metadata": {},
   "outputs": [],
   "source": [
    "def tirarUltimo(lista_de_nomes):\n",
    "    lista_de_nomes.pop()"
   ]
  },
  {
   "cell_type": "code",
   "execution_count": null,
   "metadata": {},
   "outputs": [],
   "source": [
    "tirarUltimo(nomes)\n",
    "print(nomes)"
   ]
  },
  {
   "cell_type": "markdown",
   "metadata": {},
   "source": [
    "\n",
    "\n",
    "<strong><em>Variáveis Locais</em></strong>\n",
    "\n",
    "- Variáveis dentro de funções são chamadas de locais ou ainda de temporárias pois existem apenas durante a execução da função. Quando a função termina de executar essas variáveis deixam de existir. Elas não podem ser usadas fora da função. \n",
    "- Comparando com o que foi visto até agora, as variáveis exploradas no começo deste arquivo são variáveis globais, que podem ser utilizadas por qualquer operação ou função. \n",
    "\n",
    "\n",
    "<strong><em>Return</em></strong>\n",
    "\n",
    "- É representado pelo comando <em>return</em>\n",
    "- Funções podem ou não retornar algum valor. Existem funções que realizam alterações em estruturas de dados já existentes sem retornar nada (como no exemplo a função \"tirarUltimo\"), assim como existem funções que geram algum tipo de informação (uma contagem, uma nova lista, um novo dicionário, etc etc)\n",
    "- No caso de funções que retornam um valor ou estrutura de dados, podemos atribuir esse valor a uma variável (exemplo da função \"contarNomes\" sendo atribuída a variável \"resultado\"), onde essa variável passa a ser o dado o que a função retornou: <em>variável = função(argumentos)</em>\n",
    "\n",
    "<strong><em>Chamando a função</em></strong>\n",
    "\n",
    "- Depois de desenvolver o código do procedimento, podemos utilizado. Assim como qualquer função interna do python, chamamos a função pelo nome dela e os argumentos que ela exige entre parêntesis: nomeFunção(argumento1, argumento2,...argumentoN)\n",
    "- Lembrando que funções podem ser chamadas ao serem atribuídas a uma variável \n",
    "\n",
    "\n",
    "<strong><em>Argumentos/Parâmetros</em></strong>\n",
    "\n",
    "- Argumentos de uma função são os inputs necessários para uma função retornar o resultado desejado, e são escritos entre parêntesis. Na função acima, \"lista_de_nomes\" e \"nome_alvo\" são os argumentos necessários para o procedimento gerar uma contagem. \n",
    "- Quando uma função é chamada, todos os argumentos que ela exige para funcionar devem ser declarados, caso contrário o código retornará um erro, afinal, um input necessário para o procedimento não foi informado. \n",
    "- Argumentos podem ser posicionais ou nomeados. Um argumento passado é posicional quando informamos os inputs da função de acordo com a ordem que os argumentos foram definidos no código da função. No exemplo acima, em <em>contarNome(nomes, 'ana')</em>, \"nomes\" é decalaro como o argumento \"lista_de_nomes\", e \"ana\" é declarado como o argumento \"nome_alvo\". Eles foram declarados puramente por posição. \n",
    "- Poderiamos declarar esses argumentos como argumentos nomeados da seguinte maneira: <em>contarNome(lista_de_nomes=nomes, nome_alvo=\"ana\")</em>"
   ]
  },
  {
   "cell_type": "code",
   "execution_count": null,
   "metadata": {},
   "outputs": [],
   "source": [
    "variavel_global = \"Oi!\""
   ]
  },
  {
   "cell_type": "code",
   "execution_count": null,
   "metadata": {},
   "outputs": [],
   "source": [
    "def printarTudo():\n",
    "    print(variavel_global)"
   ]
  },
  {
   "cell_type": "code",
   "execution_count": null,
   "metadata": {},
   "outputs": [],
   "source": [
    "printarTudo()"
   ]
  },
  {
   "cell_type": "markdown",
   "metadata": {},
   "source": [
    "Repare que além do que já foi demonstrado acima, existem ainda funções que não requerem argumentos, como é o caso do procedimento \"printarTudo\". A funcionalidade delas é baseada em variáveis globais, sem necessidade de declarar um argumento para a função."
   ]
  },
  {
   "cell_type": "code",
   "execution_count": 8,
   "metadata": {},
   "outputs": [],
   "source": [
    "def argumento_default(printar=True):\n",
    "    if printar:\n",
    "        print('o parâmetro \"printar\" tem como valor padrão True, então posso chamar essa função sem declarar esse argumento')\n",
    "    else:\n",
    "        print('Mas podemos modificá-lo ao chamar a função')"
   ]
  },
  {
   "cell_type": "code",
   "execution_count": 9,
   "metadata": {},
   "outputs": [
    {
     "name": "stdout",
     "output_type": "stream",
     "text": [
      "o parâmetro \"printar\" tem como valor padrão True, então posso chamar essa função sem declarar esse argumento\n"
     ]
    }
   ],
   "source": [
    "argumento_default()"
   ]
  },
  {
   "cell_type": "code",
   "execution_count": 10,
   "metadata": {},
   "outputs": [
    {
     "name": "stdout",
     "output_type": "stream",
     "text": [
      "Mas podemos modificá-lo ao chamar a função\n"
     ]
    }
   ],
   "source": [
    "argumento_default(False)"
   ]
  },
  {
   "cell_type": "markdown",
   "metadata": {},
   "source": [
    "### Coconstrução\n",
    "\n",
    "- Criando procedimentos para gerar informações sobre uma sequência númerica, retornar um dicionário com essas informações e atribuir esse dicionário a variáveis\n",
    "- Utilizando múltiplos procedimentos\n",
    "\n"
   ]
  },
  {
   "cell_type": "code",
   "execution_count": null,
   "metadata": {},
   "outputs": [],
   "source": [
    "lista1 = [0,22,34,-1,24,400]\n",
    "lista2 = [22,66,33,44,55,88,-99]\n",
    "lista3 = [0,0,1,2,3,4,5,6]\n",
    "lista4 = [0,1,1,2,3,5,8,13,21,34]"
   ]
  },
  {
   "cell_type": "code",
   "execution_count": null,
   "metadata": {},
   "outputs": [],
   "source": [
    "# funções \n"
   ]
  },
  {
   "cell_type": "code",
   "execution_count": null,
   "metadata": {},
   "outputs": [],
   "source": [
    "# atribuir a variáveis\n"
   ]
  },
  {
   "cell_type": "code",
   "execution_count": null,
   "metadata": {},
   "outputs": [],
   "source": [
    "# exibir os resultados\n"
   ]
  },
  {
   "cell_type": "markdown",
   "metadata": {},
   "source": [
    "## Exercícios "
   ]
  },
  {
   "cell_type": "markdown",
   "metadata": {},
   "source": [
    "1) Crie uma função para analisar sequências numéricas, que retorna uma lista com o comprimento e a média dessa sequência\n",
    "\n",
    "<strong>ex</strong>: sequencia = [1,1,1,1]\n",
    "\n",
    "print(procedimento(lista))\n",
    "\n",
    "resultado: [4,1]\n",
    "\n",
    "DICA:\n",
    "\n",
    "- para conferir o resultado, você pode printar diretamente a função com os parâmetros, ou atribuí-la a uma variável e printar a variável\n",
    "- Lembre-se de executar todas as células na ordem, caso contrário você terá erros relacionados a variáveis e objetos não existentes, pois suas células não foram executadas"
   ]
  },
  {
   "cell_type": "code",
   "execution_count": null,
   "metadata": {},
   "outputs": [],
   "source": [
    "# Listas alvo\n",
    "x = [1,2,7,900,24,-15]\n",
    "y = [0,0,0,35,79.5,82,-2]"
   ]
  },
  {
   "cell_type": "code",
   "execution_count": null,
   "metadata": {},
   "outputs": [],
   "source": [
    "# Construa a função nessa célula\n",
    "\n",
    "\n",
    "\n"
   ]
  },
  {
   "cell_type": "code",
   "execution_count": null,
   "metadata": {},
   "outputs": [],
   "source": [
    "# execute a função nessa célula e verifique o resultado\n",
    "\n",
    "\n"
   ]
  },
  {
   "cell_type": "markdown",
   "metadata": {},
   "source": [
    "2) Crie uma função para excluir o elemento do meio de uma lista, independente do tamanho da lista\n",
    "\n",
    "<strong>ex</strong>: lista = ['a','b','c','d','e','f','g']\n",
    "\n",
    "função(lista)\n",
    "\n",
    "lista = ['a','b','c','e','f','g']\n",
    "\n",
    "<strong>ex2</strong>: lista2 = [1,2,3,4]\n",
    "\n",
    "função(lista)\n",
    "\n",
    "lista2 = [1,2,4]\n",
    "\n",
    "DICA \n",
    "- se a lista for par, a posição central dela é um número decimal (n.5), nesses casos arredonde para um número inteiro.\n",
    "- operações com divisão no Python sempre geram números do tipo <em>float</em>. Acessar valores de uma lista sempre deve ser feito com dados do tipo <em>int</em>. Lembre-se de que 2.0, por mais que na definição matemática seja um número inteiro, o tipo de dado nesse caso é <em>float</em>"
   ]
  },
  {
   "cell_type": "code",
   "execution_count": null,
   "metadata": {},
   "outputs": [],
   "source": [
    "# listas alvo\n",
    "x = [True,False,True,True,True,False]\n",
    "y = ['laranja','pera','maça','uva','abacaxi','goiaba']\n",
    "z = [0,1,2,3,4,5,5,4,3,2,1,0]"
   ]
  },
  {
   "cell_type": "code",
   "execution_count": null,
   "metadata": {},
   "outputs": [],
   "source": [
    "# construa a função aqui\n",
    "\n",
    "\n"
   ]
  },
  {
   "cell_type": "code",
   "execution_count": null,
   "metadata": {},
   "outputs": [],
   "source": [
    "# execute a função nessa célula e verifique o resultado\n"
   ]
  }
 ],
 "metadata": {
  "kernelspec": {
   "display_name": "Python 3",
   "language": "python",
   "name": "python3"
  },
  "language_info": {
   "codemirror_mode": {
    "name": "ipython",
    "version": 3
   },
   "file_extension": ".py",
   "mimetype": "text/x-python",
   "name": "python",
   "nbconvert_exporter": "python",
   "pygments_lexer": "ipython3",
   "version": "3.6.4"
  }
 },
 "nbformat": 4,
 "nbformat_minor": 2
}
