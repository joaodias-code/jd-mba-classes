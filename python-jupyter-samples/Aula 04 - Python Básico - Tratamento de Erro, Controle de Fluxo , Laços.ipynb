{
 "cells": [
  {
   "cell_type": "markdown",
   "metadata": {},
   "source": [
    "## Live University"
   ]
  },
  {
   "cell_type": "markdown",
   "metadata": {},
   "source": [
    "### Python Básico - Tratamento de erro, Controle de Fluxo e Laços \n",
    "\n",
    "\n",
    "<img src=\"http://blog.klocwork.com/wp-content/uploads/2016/01/python-logo.png\" align=left>"
   ]
  },
  {
   "cell_type": "markdown",
   "metadata": {},
   "source": [
    "## Estruturas condicionais"
   ]
  },
  {
   "cell_type": "markdown",
   "metadata": {},
   "source": [
    "Estruturas condicionais fazem parte do controle de fluxo em programação. Elas permitem criar regras para determinados blocos de código testando condições. As instruções <em>if</em>, <em>elif</em> e <em>else</em> são a base das estruturas condicionais em Python.\n",
    "\n",
    "\n",
    "Exemplo de expressões:\n",
    "\n",
    "- SE condição:\n",
    "- ENTÃO comando\n",
    "- SENÃO:\n",
    "- comando alternativo\n",
    "\n",
    "Outro exemplo:\n",
    "\n",
    "- SE condição:\n",
    "- ENTÃO comando\n",
    "- OU ENTÃO SE condição 2:\n",
    "- ENTÃO comando 2\n",
    "- SENÃO:\n",
    "- comando alternativo\n",
    "\n",
    "\n",
    "traduzindo para a linguagem de programação\n",
    "\n",
    "SE = If\n",
    "\n",
    "OU ENTÃO SE = Elif\n",
    "\n",
    "SENÃO = Else\n"
   ]
  },
  {
   "cell_type": "code",
   "execution_count": null,
   "metadata": {},
   "outputs": [],
   "source": [
    "x = 5\n",
    "y = 6\n",
    "\n",
    "if x > y:\n",
    "    print('x é maior que y')\n",
    "else:\n",
    "    print('y é maior do que x')"
   ]
  },
  {
   "cell_type": "markdown",
   "metadata": {},
   "source": [
    "Nesse exemplo, essa estrutura condicional não cobre todas as possibilidades, uma vez que y e x podem ser iguais. E nesse caso, mesmo que x e y sejam iguais, o resultado desse código continuará sendo \"y é maior do que x\", já que a única condição especificada foi x > y. Se y for igual a x, a primeira condição será falsa, e o comando alternativo será executado, mesmo que y não seja de fato maior que x"
   ]
  },
  {
   "cell_type": "code",
   "execution_count": null,
   "metadata": {},
   "outputs": [],
   "source": [
    "x = 6\n",
    "y = 6\n",
    "\n",
    "if x > y:\n",
    "    print('x é maior que y')\n",
    "elif y > x:\n",
    "    print('y é maior do que x')\n",
    "else:\n",
    "    print('x é igual a y')"
   ]
  },
  {
   "cell_type": "code",
   "execution_count": null,
   "metadata": {},
   "outputs": [],
   "source": [
    "estou_de_dieta = True\n",
    "\n",
    "if estou_de_dieta:\n",
    "    print('não vou fazer bolo')\n",
    "else:\n",
    "    print('Partiu fazer um bolo de cenoura delicioso')"
   ]
  },
  {
   "cell_type": "markdown",
   "metadata": {},
   "source": [
    "Como foi exibido na célula acima, uma variável pode servir de condição, desde que o valor dessa variável seja booleano (True, False)"
   ]
  },
  {
   "cell_type": "code",
   "execution_count": null,
   "metadata": {},
   "outputs": [],
   "source": [
    "x = (5 > 6)\n",
    "y = 1\n",
    "\n",
    "if x:\n",
    "    print('não faça nada')\n",
    "else:\n",
    "    y = 2\n",
    "\n",
    "if y == 2:\n",
    "    print('y igual a 2')"
   ]
  },
  {
   "cell_type": "code",
   "execution_count": null,
   "metadata": {},
   "outputs": [],
   "source": [
    "lista_compras = ['alface','ovo','carne','leite']\n",
    "item = 'suco de laranja'"
   ]
  },
  {
   "cell_type": "code",
   "execution_count": null,
   "metadata": {},
   "outputs": [],
   "source": [
    "if item not in lista_compras:\n",
    "    lista_compras.append(item)"
   ]
  },
  {
   "cell_type": "code",
   "execution_count": null,
   "metadata": {},
   "outputs": [],
   "source": [
    "print(lista_compras)"
   ]
  },
  {
   "cell_type": "markdown",
   "metadata": {},
   "source": [
    "#### Relembrando dos operadores lógicos"
   ]
  },
  {
   "cell_type": "code",
   "execution_count": null,
   "metadata": {},
   "outputs": [],
   "source": [
    "print(True and True)\n",
    "print(False and False)\n",
    "print(True and False)\n",
    "print(False and True)"
   ]
  },
  {
   "cell_type": "code",
   "execution_count": null,
   "metadata": {},
   "outputs": [],
   "source": [
    "print(True or True)\n",
    "print(False or False)\n",
    "print(True or False)\n",
    "print(False or True)"
   ]
  },
  {
   "cell_type": "markdown",
   "metadata": {},
   "source": [
    "### Coconstrução\n",
    "\n",
    "- Construir um procedimento de uma calculadora simples\n"
   ]
  },
  {
   "cell_type": "code",
   "execution_count": null,
   "metadata": {},
   "outputs": [],
   "source": [
    "# Construir uma calculadora simples com inputs\n",
    "\n"
   ]
  },
  {
   "cell_type": "markdown",
   "metadata": {},
   "source": [
    "### Estruturas de repetição"
   ]
  },
  {
   "cell_type": "markdown",
   "metadata": {},
   "source": [
    " Estruturas de repetição servem para automatizar comandos e aplicá-los a quantidades maiores de dados, explorar estruturas de dados, etc.\n",
    "\n",
    "As 2 estruturas de repetição exploradas no Python são os comandos <strong>for</strong> e o <strong>while</strong>"
   ]
  },
  {
   "cell_type": "markdown",
   "metadata": {},
   "source": [
    "### For"
   ]
  },
  {
   "cell_type": "markdown",
   "metadata": {},
   "source": [
    "O For Loop é utilizado principalmente para interar sobre listas e seqûencias, de maneira que a quantidade de vezes que os comandos serão executados vai depender do comprimento da estrutura de dados em que você está interando. \n",
    "\n",
    "O For Loop é executado com a seguinte sintaxe:\n",
    "\n",
    "<strong>for</strong> valor <strong>in</strong> estrutura de dados/valor numérico:"
   ]
  },
  {
   "cell_type": "code",
   "execution_count": null,
   "metadata": {},
   "outputs": [],
   "source": [
    "lista_exemplo = [0,1,2,3,4,5,\"casa\"]"
   ]
  },
  {
   "cell_type": "code",
   "execution_count": null,
   "metadata": {},
   "outputs": [],
   "source": [
    "for i in lista_exemplo:\n",
    "    print(i)   "
   ]
  },
  {
   "cell_type": "markdown",
   "metadata": {},
   "source": [
    "No exemplo acima, interamos sobre a lista_exemplo, onde \"i\" assumiu o valor de cada um dos itens da lista. Aplicamos o método print para cada uma das interações. "
   ]
  },
  {
   "cell_type": "code",
   "execution_count": null,
   "metadata": {},
   "outputs": [],
   "source": [
    "contagem = 0\n",
    "lista_exemplo = [0,1,2,3,4,5,\"casa\"]"
   ]
  },
  {
   "cell_type": "code",
   "execution_count": null,
   "metadata": {},
   "outputs": [],
   "source": [
    "for i in lista_exemplo:\n",
    "    contagem += 1"
   ]
  },
  {
   "cell_type": "code",
   "execution_count": null,
   "metadata": {},
   "outputs": [],
   "source": [
    "print(contagem)"
   ]
  },
  {
   "cell_type": "markdown",
   "metadata": {},
   "source": [
    "No exemplo acima, a estrutura de repetição do for loop foi usada para realizar a contagem de quantos itens existem na lista. A lógica é que cada vez que o i assumia um novo valor (o que é o mesmo que dizer cada vez que uma nova interação começou) a variável cumulativa contagem adicionava 1. Como o for loop interou 7 vezes, 7 vezes foi somado 1 a variável contagem.\n",
    "\n",
    "Observação: podemos usar a atribuição <em>+=</em> para variáveis cumulativas. <em>contagem += 1</em> é o mesmo que escrever <em>contagem = contagem + 1</em> "
   ]
  },
  {
   "cell_type": "code",
   "execution_count": null,
   "metadata": {},
   "outputs": [],
   "source": [
    "dias_semana = 'segunda','terça','quarta','quinta','sexta','sábado','domingo'"
   ]
  },
  {
   "cell_type": "code",
   "execution_count": null,
   "metadata": {},
   "outputs": [],
   "source": [
    "for dia in dias_semana:\n",
    "    \n",
    "    if dia == 'sábado' or dia == 'domingo':\n",
    "        print('final de semana')\n",
    "    else:\n",
    "        print('dia útil')"
   ]
  },
  {
   "cell_type": "markdown",
   "metadata": {},
   "source": [
    "####  range( ) e len( )\n",
    "\n",
    "For loops interam de acordo com o comprimento da estrutura sobre a se qual está interando. Porém, 2 funções em particular permitem definir manualmente quantas interações o for loop vai executar. Nesses casos, o \"i\" assume o valor do número da interação ao invés do valor do item contido na estrutura. \n",
    "\n",
    "a função range( ) recebe como argumento um número inteiro que significa o número de repetições. A função len( ) por sua vez retorna o comprimento de uma sequência (como uma lista por exemplo). O len( ) pode ser passado como argumento para a função range( )"
   ]
  },
  {
   "cell_type": "code",
   "execution_count": null,
   "metadata": {},
   "outputs": [],
   "source": [
    "for i in range(3):\n",
    "    print(i)"
   ]
  },
  {
   "cell_type": "code",
   "execution_count": null,
   "metadata": {},
   "outputs": [],
   "source": [
    "dias_semana = ['segunda','terça','quarta','quinta','sexta','sábado','domingo']\n",
    "print(len(dias_semana))"
   ]
  },
  {
   "cell_type": "code",
   "execution_count": null,
   "metadata": {},
   "outputs": [],
   "source": [
    "for dia in range(len(dias_semana)):\n",
    "    print(dia)"
   ]
  },
  {
   "cell_type": "markdown",
   "metadata": {},
   "source": [
    "### While"
   ]
  },
  {
   "cell_type": "markdown",
   "metadata": {},
   "source": [
    "O <strong>While</strong> é a outra estrutura de repetição condicional. A diferença para a instrução <em>if</em> nesse caso, é que o if necessita de uma condição verdadeira para executar o código indentado nele, enquanto que o While necessita de uma condição para determinar quando ele deve interromper a execução das repetições. Quando a condição deixa de ser verdadeira, a execução é interrompida.\n",
    "\n",
    "Essa estrutura é executada da seguinte maneira:\n",
    "\n",
    "<stront>While</strong> condição:\n",
    "    \n",
    "    código\n"
   ]
  },
  {
   "cell_type": "code",
   "execution_count": null,
   "metadata": {},
   "outputs": [],
   "source": [
    "contagem = 0\n",
    "\n",
    "while contagem < 5:\n",
    "    contagem += 1\n",
    "    print(contagem)"
   ]
  },
  {
   "cell_type": "markdown",
   "metadata": {},
   "source": [
    "#### comando break e comando pass\n",
    "\n"
   ]
  },
  {
   "cell_type": "code",
   "execution_count": null,
   "metadata": {},
   "outputs": [],
   "source": [
    "contagem = 0\n",
    "\n",
    "while contagem < 10:\n",
    "    contagem += 1\n",
    "    print(contagem)\n",
    "    if contagem == 8:\n",
    "        break        "
   ]
  },
  {
   "cell_type": "code",
   "execution_count": null,
   "metadata": {},
   "outputs": [],
   "source": [
    "contagem = 0\n",
    "\n",
    "while contagem < 10:\n",
    "    contagem += 1\n",
    "    if contagem != 8 and contagem != 2:\n",
    "        print(contagem)\n",
    "    else:\n",
    "        pass"
   ]
  },
  {
   "cell_type": "markdown",
   "metadata": {},
   "source": [
    "### Coconstrução\n",
    "\n",
    "- Quebrar uma lista contendo vários tipos de dados em listas numéricas e listas de texto\n",
    "- Ignorar valores booleanos"
   ]
  },
  {
   "cell_type": "code",
   "execution_count": null,
   "metadata": {},
   "outputs": [],
   "source": [
    "# lista alvo\n",
    "lista = [False,'r',1,3.0,'a','b',-3,'1',4.32,20,'python',None,22,True]"
   ]
  },
  {
   "cell_type": "code",
   "execution_count": null,
   "metadata": {},
   "outputs": [],
   "source": [
    "# construindo o código\n"
   ]
  },
  {
   "cell_type": "code",
   "execution_count": null,
   "metadata": {},
   "outputs": [],
   "source": [
    "print(lista_numeros, lista_textos)"
   ]
  },
  {
   "cell_type": "markdown",
   "metadata": {},
   "source": [
    "## Tratamento de Erros\n",
    "\n",
    "Problemas durante a execução de um código em geral ocorrem de duas maneiras, erros de sintaxe e exceções.\n",
    "\n",
    "Enquanto que erros de sintaxe competem ao programador evitar, exceções podem surgir por diversos motivos. Nem sempre são fatais, mas devem ser consideradas o máximo possível, afim de que o algoritmo desenvolvido tenha uma \"resposta\" para diferentes problemas. \n",
    "\n",
    "Exceções ocorrem quando um código está correto do ponto de vista de sintaxe, mas por diversos motivos ocorre um erro.\n",
    "\n",
    "Felizmente, o Python possui instruções desenvolvidas para tentar antecipar possíveis exceções, atribuindo instruções específicas para o código caso um erro ocorra. \n",
    "\n",
    "TENTE:\n",
    "\n",
    "    INSTRUÇÕES INICIAIS\n",
    "    \n",
    "EXCETO:\n",
    "\n",
    "    INSTRUÇÕES ALTERNATIVAS\n"
   ]
  },
  {
   "cell_type": "code",
   "execution_count": null,
   "metadata": {},
   "outputs": [],
   "source": [
    "x = 4\n",
    "y = 0\n",
    "\n",
    "print(x/y) "
   ]
  },
  {
   "cell_type": "code",
   "execution_count": null,
   "metadata": {},
   "outputs": [],
   "source": [
    "try:\n",
    "    x = int(input('Valor de x: '))\n",
    "    y = int(input('Valor de y: '))\n",
    "    print(x/y)\n",
    "except ZeroDivisionError:\n",
    "    print('Não divida por 0!!!')\n",
    "except ValueError:\n",
    "    print('Esse código aceita apenas valores numéricos')\n",
    "    "
   ]
  },
  {
   "cell_type": "markdown",
   "metadata": {},
   "source": [
    "Não é necessário especificar qual o erro que você está esperando tratar. É possível simplesmente utilizar o <em>except:</em> quando você deduz que certo bloco pode ter erros, mas não existem instruções específicas para cada tipo de erro"
   ]
  },
  {
   "cell_type": "code",
   "execution_count": null,
   "metadata": {},
   "outputs": [],
   "source": [
    "def somar(x,y):\n",
    "    soma = x + y\n",
    "    return soma"
   ]
  },
  {
   "cell_type": "code",
   "execution_count": null,
   "metadata": {},
   "outputs": [],
   "source": [
    "\n",
    "try:\n",
    "    somar(int(input('Digite uma string')),int(input('Digite uma string')))\n",
    "except:\n",
    "    print('Houve um erro')"
   ]
  },
  {
   "cell_type": "markdown",
   "metadata": {},
   "source": [
    "## Exercícios"
   ]
  },
  {
   "cell_type": "markdown",
   "metadata": {},
   "source": [
    "1) Desenvolva um procedimento para gerar e retornar as seguintes informações:\n",
    "\n",
    "- Maior Valor\n",
    "- Menor Valor\n",
    "- Soma de todos os valores\n",
    "- Comprimento da sequência numérica\n",
    "- Média da sequência\n",
    "\n",
    "<strong>DICAS</strong>\n",
    "\n",
    "- Todos as informações só são possíveis para valores numéricos, portanto é necessário lidar com valores não numéricos\n",
    "- O objetivo do exercício é extrair essas informações, e não a base de dados (no caso a lista), portanto não é necessário adequar a lista original. \n",
    "- armazene e retorne os dados em um dicionário\n",
    "- Como a maioria dos problemas em Python, existem diversas maneiras de se resolver\n"
   ]
  },
  {
   "cell_type": "code",
   "execution_count": null,
   "metadata": {},
   "outputs": [],
   "source": [
    "# base de dados\n",
    "base = ['q','dd','1',2,4,565,True,'i',None,None,45,80,'a',77,88,99,1,-7.3,'z',None,-22.99, '23',-330.1]"
   ]
  },
  {
   "cell_type": "code",
   "execution_count": null,
   "metadata": {},
   "outputs": [],
   "source": [
    "# Desenvolva aqui o código\n",
    "\n"
   ]
  },
  {
   "cell_type": "markdown",
   "metadata": {},
   "source": [
    "2) Desenvolva uma função para computar a sequência fibonacci onde o argumento que essa função recebe é a quantidade de números que devem ser calculados na sequência. A regra básica para computar essa sequência é somar sempre os 2 últimos valores para gerar um novo valor, e assim por diante. \n",
    "\n",
    "<strong>exemplo</strong>\n",
    "\n",
    "fibonacci(3)\n",
    "\n",
    "sequencia = [0,1,1]\n",
    "\n",
    "fibonacci(7)\n",
    "\n",
    "sequencia = [0,1,1,2,3,5,8]\n",
    "\n",
    "<strong>DICAS</strong>:\n",
    "\n",
    "- Ao invés de computar desde o primeiro termo, inicie a seqûencia já com o 0 e 1 (sequencia = [0,1]) e realize os cálculos a partir disso.\n",
    "- Tenha em mente que se você declarar a função com o argumento de quantidade de valores igual a 0, 1 ou 2, ela deve retornar respectivamente: None, [0], [0,1]\n",
    "- Será necessário utilizar uma estrutura de repetição\n",
    "- Sinta-se livre para atribuir essa sequência a uma variável ou simplesmente printar o resultado"
   ]
  },
  {
   "cell_type": "code",
   "execution_count": null,
   "metadata": {},
   "outputs": [],
   "source": [
    "# Desenvolva o código nessa célula\n",
    "\n"
   ]
  },
  {
   "cell_type": "code",
   "execution_count": null,
   "metadata": {},
   "outputs": [],
   "source": []
  }
 ],
 "metadata": {
  "kernelspec": {
   "display_name": "Python 3",
   "language": "python",
   "name": "python3"
  },
  "language_info": {
   "codemirror_mode": {
    "name": "ipython",
    "version": 3
   },
   "file_extension": ".py",
   "mimetype": "text/x-python",
   "name": "python",
   "nbconvert_exporter": "python",
   "pygments_lexer": "ipython3",
   "version": "3.6.4"
  }
 },
 "nbformat": 4,
 "nbformat_minor": 2
}
