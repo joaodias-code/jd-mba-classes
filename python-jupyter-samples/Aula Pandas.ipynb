{
 "cells": [
  {
   "cell_type": "markdown",
   "metadata": {},
   "source": [
    "O <b>pandas</b>, talvez sejá uma das bibliotecas mais famosa que temos no python.\n",
    "\n",
    "O principal intuido dessa biblioteca é proporcionar ao desenvolver, a possibilidade de se trabalhar com estruturas de dados complexas. \n",
    "\n",
    "Outra tarefa estremamente importante, que o pandas ajuda, é a parte de limpeza e entendimento dos dados.\n",
    "\n",
    "O processo de limpeza dos dados, pode ser custoso e demorado. É necessário identificar os dados que estão faltando e descobrir se existem possíveis valores que podem alterar o resultado. Sem o tratamento adequado, não é possível realizar uma análise concreta."
   ]
  },
  {
   "cell_type": "markdown",
   "metadata": {},
   "source": [
    "<b>Vamos agora fazer o entendimento do pandas.</b>"
   ]
  },
  {
   "cell_type": "code",
   "execution_count": 1,
   "metadata": {},
   "outputs": [],
   "source": [
    "#primeiro vamos importar a biblioteca\n",
    "import pandas as pd\n",
    "import numpy as np"
   ]
  },
  {
   "cell_type": "markdown",
   "metadata": {},
   "source": [
    "<b>Series</b> <br>\n",
    "Uma Series é como um array unidimensional, uma lista de valores. Toda Series possui um índice, o index, que dá rótulos a cada elemento da lista. Abaixo criamos uma Series notas, o index desta Series é a coluna à esquerda, que vai de 0 a 4 neste caso, que o pandas criou automaticamente, já que não especificamos uma lista de rótulos."
   ]
  },
  {
   "cell_type": "code",
   "execution_count": 8,
   "metadata": {},
   "outputs": [],
   "source": [
    "notas = pd.Series([2,7,5,10,6])\n"
   ]
  },
  {
   "cell_type": "code",
   "execution_count": 9,
   "metadata": {},
   "outputs": [
    {
     "data": {
      "text/plain": [
       "0     2\n",
       "1     7\n",
       "2     5\n",
       "3    10\n",
       "4     6\n",
       "dtype: int64"
      ]
     },
     "execution_count": 9,
     "metadata": {},
     "output_type": "execute_result"
    }
   ],
   "source": [
    "#notas = pd.Series([2,7,5,10,6, 'a'])\n",
    "notas"
   ]
  },
  {
   "cell_type": "markdown",
   "metadata": {},
   "source": [
    "Outra facilidade proporcionada pela estrutura são seus métodos que fornecem informações estatísticas sobre os valores, como média .mean() e desvio padrão .std(). "
   ]
  },
  {
   "cell_type": "code",
   "execution_count": 10,
   "metadata": {},
   "outputs": [
    {
     "name": "stdout",
     "output_type": "stream",
     "text": [
      "Média: 6.0\n",
      "Desvio padrão: 2.9154759474226504\n"
     ]
    }
   ],
   "source": [
    "print(\"Média:\", notas.mean())\n",
    "print(\"Desvio padrão:\", notas.std())"
   ]
  },
  {
   "cell_type": "markdown",
   "metadata": {},
   "source": [
    "Para resumir brevemente as estatísticas dos dados se usa o .describe()"
   ]
  },
  {
   "cell_type": "code",
   "execution_count": 18,
   "metadata": {},
   "outputs": [
    {
     "name": "stdout",
     "output_type": "stream",
     "text": [
      "22800.4 8 count       8.000000\n",
      "mean     2850.050000\n",
      "std       976.892459\n",
      "min      1580.000000\n",
      "25%      2272.500000\n",
      "50%      2615.200000\n",
      "75%      3250.000000\n",
      "max      4500.000000\n",
      "dtype: float64\n"
     ]
    },
    {
     "data": {
      "text/plain": [
       "count     5.000000\n",
       "mean      6.000000\n",
       "std       2.915476\n",
       "min       2.000000\n",
       "25%       5.000000\n",
       "50%       6.000000\n",
       "75%       7.000000\n",
       "max      10.000000\n",
       "dtype: float64"
      ]
     },
     "execution_count": 18,
     "metadata": {},
     "output_type": "execute_result"
    }
   ],
   "source": [
    "salarios = pd.Series([1580,2340,2890.40,3000,4500,2300,4000,2190])\n",
    "print(salarios.sum(), salarios.count(), salarios.describe())\n",
    "notas.describe()"
   ]
  },
  {
   "cell_type": "markdown",
   "metadata": {},
   "source": [
    "A estrutura é flexível o suficiente pra aplicarmos algumas expressões matemáticas e funções matemáticas do numpy diretamente:"
   ]
  },
  {
   "cell_type": "code",
   "execution_count": 21,
   "metadata": {},
   "outputs": [
    {
     "name": "stdout",
     "output_type": "stream",
     "text": [
      "0     2496400.00\n",
      "1     5475600.00\n",
      "2     8354412.16\n",
      "3     9000000.00\n",
      "4    20250000.00\n",
      "5     5290000.00\n",
      "6    16000000.00\n",
      "7     4796100.00\n",
      "dtype: float64\n"
     ]
    },
    {
     "data": {
      "text/plain": [
       "0      4\n",
       "1     49\n",
       "2     25\n",
       "3    100\n",
       "4     36\n",
       "dtype: int64"
      ]
     },
     "execution_count": 21,
     "metadata": {},
     "output_type": "execute_result"
    }
   ],
   "source": [
    "print(salarios**2)\n",
    "notas**2"
   ]
  },
  {
   "cell_type": "code",
   "execution_count": 24,
   "metadata": {},
   "outputs": [
    {
     "name": "stdout",
     "output_type": "stream",
     "text": [
      "0    7.365180\n",
      "1    7.757906\n",
      "2    7.969150\n",
      "3    8.006368\n",
      "4    8.411833\n",
      "5    7.740664\n",
      "6    8.294050\n",
      "7    7.691657\n",
      "dtype: float64\n"
     ]
    },
    {
     "data": {
      "text/plain": [
       "0    0.693147\n",
       "1    1.945910\n",
       "2    1.609438\n",
       "3    2.302585\n",
       "4    1.791759\n",
       "dtype: float64"
      ]
     },
     "execution_count": 24,
     "metadata": {},
     "output_type": "execute_result"
    }
   ],
   "source": [
    "print(np.log(salarios))\n",
    "np.log(notas)"
   ]
  },
  {
   "cell_type": "markdown",
   "metadata": {},
   "source": [
    "<b>DataFrame</b> é uma estrutura bidimensional de dados, como uma planilha. Abaixo criaremos um DataFrame que possui valores de diferentes tipos, usando um dicionário como entrada dos dados:"
   ]
  },
  {
   "cell_type": "code",
   "execution_count": 53,
   "metadata": {},
   "outputs": [],
   "source": [
    "dic = {\"chave1\": 45, \"chave2\": 23}\n",
    "df = pd.DataFrame({'Aluno' : [\"Wilfred\", \"Abbie\", \"Harry\", \"Julia\", \"Carrie\"],\n",
    "                   'Faltas' : [3,4,2,1,4],\n",
    "                   'Prova' : [2,7,5,10,6],\n",
    "                   'Seminário': [8.5,7.5,9.0,7.5,8.0]})"
   ]
  },
  {
   "cell_type": "code",
   "execution_count": 54,
   "metadata": {},
   "outputs": [
    {
     "name": "stdout",
     "output_type": "stream",
     "text": [
      "{'chave1': 45, 'chave2': 23}\n"
     ]
    },
    {
     "data": {
      "text/html": [
       "<div>\n",
       "<style scoped>\n",
       "    .dataframe tbody tr th:only-of-type {\n",
       "        vertical-align: middle;\n",
       "    }\n",
       "\n",
       "    .dataframe tbody tr th {\n",
       "        vertical-align: top;\n",
       "    }\n",
       "\n",
       "    .dataframe thead th {\n",
       "        text-align: right;\n",
       "    }\n",
       "</style>\n",
       "<table border=\"1\" class=\"dataframe\">\n",
       "  <thead>\n",
       "    <tr style=\"text-align: right;\">\n",
       "      <th></th>\n",
       "      <th>Aluno</th>\n",
       "      <th>Faltas</th>\n",
       "      <th>Prova</th>\n",
       "      <th>Seminário</th>\n",
       "    </tr>\n",
       "  </thead>\n",
       "  <tbody>\n",
       "    <tr>\n",
       "      <td>0</td>\n",
       "      <td>Wilfred</td>\n",
       "      <td>3</td>\n",
       "      <td>2</td>\n",
       "      <td>8.5</td>\n",
       "    </tr>\n",
       "    <tr>\n",
       "      <td>1</td>\n",
       "      <td>Abbie</td>\n",
       "      <td>4</td>\n",
       "      <td>7</td>\n",
       "      <td>7.5</td>\n",
       "    </tr>\n",
       "    <tr>\n",
       "      <td>2</td>\n",
       "      <td>Harry</td>\n",
       "      <td>2</td>\n",
       "      <td>5</td>\n",
       "      <td>9.0</td>\n",
       "    </tr>\n",
       "    <tr>\n",
       "      <td>3</td>\n",
       "      <td>Julia</td>\n",
       "      <td>1</td>\n",
       "      <td>10</td>\n",
       "      <td>7.5</td>\n",
       "    </tr>\n",
       "    <tr>\n",
       "      <td>4</td>\n",
       "      <td>Carrie</td>\n",
       "      <td>4</td>\n",
       "      <td>6</td>\n",
       "      <td>8.0</td>\n",
       "    </tr>\n",
       "  </tbody>\n",
       "</table>\n",
       "</div>"
      ],
      "text/plain": [
       "     Aluno  Faltas  Prova  Seminário\n",
       "0  Wilfred       3      2        8.5\n",
       "1    Abbie       4      7        7.5\n",
       "2    Harry       2      5        9.0\n",
       "3    Julia       1     10        7.5\n",
       "4   Carrie       4      6        8.0"
      ]
     },
     "execution_count": 54,
     "metadata": {},
     "output_type": "execute_result"
    }
   ],
   "source": [
    "print(dic)\n",
    "df"
   ]
  },
  {
   "cell_type": "markdown",
   "metadata": {},
   "source": [
    "Avaliando os tipos de dados, de um dataframe"
   ]
  },
  {
   "cell_type": "code",
   "execution_count": 55,
   "metadata": {},
   "outputs": [
    {
     "data": {
      "text/plain": [
       "Aluno         object\n",
       "Faltas         int64\n",
       "Prova          int64\n",
       "Seminário    float64\n",
       "dtype: object"
      ]
     },
     "execution_count": 55,
     "metadata": {},
     "output_type": "execute_result"
    }
   ],
   "source": [
    "df.dtypes"
   ]
  },
  {
   "cell_type": "markdown",
   "metadata": {},
   "source": [
    "É possível acessar a lista de colunas de forma bem intuitiva:"
   ]
  },
  {
   "cell_type": "code",
   "execution_count": 57,
   "metadata": {},
   "outputs": [
    {
     "data": {
      "text/plain": [
       "Index(['Aluno', 'Faltas', 'Prova', 'Seminário'], dtype='object')"
      ]
     },
     "execution_count": 57,
     "metadata": {},
     "output_type": "execute_result"
    }
   ],
   "source": [
    "df.columns"
   ]
  },
  {
   "cell_type": "markdown",
   "metadata": {},
   "source": [
    "Voce pode acessar a coluna pelo nome dela."
   ]
  },
  {
   "cell_type": "code",
   "execution_count": 52,
   "metadata": {},
   "outputs": [
    {
     "data": {
      "text/plain": [
       "0    oi\n",
       "1    oi\n",
       "2    oi\n",
       "3    oi\n",
       "4    oi\n",
       "Name: Seminário, dtype: object"
      ]
     },
     "execution_count": 52,
     "metadata": {},
     "output_type": "execute_result"
    }
   ],
   "source": [
    "df[\"Seminário\"]"
   ]
  },
  {
   "cell_type": "markdown",
   "metadata": {},
   "source": [
    "Muitas vezes é necessário selecionarmos valores específicos de um DataFrame, seja uma linha ou uma célula específica, e isso pode ser feito de diversas formas. A documentação oficial contém vasta informação para esse tipo de tarefa, aqui nos concentraremos nas formas mais comuns de selecionarmos dados."
   ]
  },
  {
   "cell_type": "markdown",
   "metadata": {},
   "source": [
    "Para selecionar pelo index ou rótulo usamos o atributo .loc:"
   ]
  },
  {
   "cell_type": "code",
   "execution_count": 60,
   "metadata": {},
   "outputs": [
    {
     "name": "stdout",
     "output_type": "stream",
     "text": [
      "   Aluno  Faltas  Prova  Seminário\n",
      "1  Abbie       4      7        7.5\n",
      "2  Harry       2      5        9.0\n",
      "3  Julia       1     10        7.5\n"
     ]
    }
   ],
   "source": [
    "#df.loc[3]\n",
    "df_aula = df.loc[1:3]\n",
    "print(df_aula)"
   ]
  },
  {
   "cell_type": "markdown",
   "metadata": {},
   "source": [
    "ou por:"
   ]
  },
  {
   "cell_type": "code",
   "execution_count": 16,
   "metadata": {},
   "outputs": [
    {
     "data": {
      "text/html": [
       "<div>\n",
       "<style scoped>\n",
       "    .dataframe tbody tr th:only-of-type {\n",
       "        vertical-align: middle;\n",
       "    }\n",
       "\n",
       "    .dataframe tbody tr th {\n",
       "        vertical-align: top;\n",
       "    }\n",
       "\n",
       "    .dataframe thead th {\n",
       "        text-align: right;\n",
       "    }\n",
       "</style>\n",
       "<table border=\"1\" class=\"dataframe\">\n",
       "  <thead>\n",
       "    <tr style=\"text-align: right;\">\n",
       "      <th></th>\n",
       "      <th>Aluno</th>\n",
       "      <th>Faltas</th>\n",
       "      <th>Prova</th>\n",
       "      <th>Seminário</th>\n",
       "    </tr>\n",
       "  </thead>\n",
       "  <tbody>\n",
       "    <tr>\n",
       "      <th>0</th>\n",
       "      <td>Wilfred</td>\n",
       "      <td>3</td>\n",
       "      <td>2</td>\n",
       "      <td>8.5</td>\n",
       "    </tr>\n",
       "    <tr>\n",
       "      <th>2</th>\n",
       "      <td>Harry</td>\n",
       "      <td>2</td>\n",
       "      <td>5</td>\n",
       "      <td>9.0</td>\n",
       "    </tr>\n",
       "  </tbody>\n",
       "</table>\n",
       "</div>"
      ],
      "text/plain": [
       "     Aluno  Faltas  Prova  Seminário\n",
       "0  Wilfred       3      2        8.5\n",
       "2    Harry       2      5        9.0"
      ]
     },
     "execution_count": 16,
     "metadata": {},
     "output_type": "execute_result"
    }
   ],
   "source": [
    "df[df[\"Seminário\"] > 8.0]"
   ]
  },
  {
   "cell_type": "code",
   "execution_count": 17,
   "metadata": {},
   "outputs": [
    {
     "data": {
      "text/html": [
       "<div>\n",
       "<style scoped>\n",
       "    .dataframe tbody tr th:only-of-type {\n",
       "        vertical-align: middle;\n",
       "    }\n",
       "\n",
       "    .dataframe tbody tr th {\n",
       "        vertical-align: top;\n",
       "    }\n",
       "\n",
       "    .dataframe thead th {\n",
       "        text-align: right;\n",
       "    }\n",
       "</style>\n",
       "<table border=\"1\" class=\"dataframe\">\n",
       "  <thead>\n",
       "    <tr style=\"text-align: right;\">\n",
       "      <th></th>\n",
       "      <th>Aluno</th>\n",
       "      <th>Faltas</th>\n",
       "      <th>Prova</th>\n",
       "      <th>Seminário</th>\n",
       "    </tr>\n",
       "  </thead>\n",
       "  <tbody>\n",
       "    <tr>\n",
       "      <th>2</th>\n",
       "      <td>Harry</td>\n",
       "      <td>2</td>\n",
       "      <td>5</td>\n",
       "      <td>9.0</td>\n",
       "    </tr>\n",
       "  </tbody>\n",
       "</table>\n",
       "</div>"
      ],
      "text/plain": [
       "   Aluno  Faltas  Prova  Seminário\n",
       "2  Harry       2      5        9.0"
      ]
     },
     "execution_count": 17,
     "metadata": {},
     "output_type": "execute_result"
    }
   ],
   "source": [
    "df[(df[\"Seminário\"] > 8.0) & (df[\"Prova\"] > 3)]"
   ]
  },
  {
   "cell_type": "code",
   "execution_count": 67,
   "metadata": {},
   "outputs": [
    {
     "data": {
      "text/html": [
       "<div>\n",
       "<style scoped>\n",
       "    .dataframe tbody tr th:only-of-type {\n",
       "        vertical-align: middle;\n",
       "    }\n",
       "\n",
       "    .dataframe tbody tr th {\n",
       "        vertical-align: top;\n",
       "    }\n",
       "\n",
       "    .dataframe thead th {\n",
       "        text-align: right;\n",
       "    }\n",
       "</style>\n",
       "<table border=\"1\" class=\"dataframe\">\n",
       "  <thead>\n",
       "    <tr style=\"text-align: right;\">\n",
       "      <th></th>\n",
       "      <th>Aluno</th>\n",
       "      <th>Faltas</th>\n",
       "      <th>Prova</th>\n",
       "      <th>Seminário</th>\n",
       "    </tr>\n",
       "  </thead>\n",
       "  <tbody>\n",
       "    <tr>\n",
       "      <td>1</td>\n",
       "      <td>Abbie</td>\n",
       "      <td>4</td>\n",
       "      <td>7</td>\n",
       "      <td>7.5</td>\n",
       "    </tr>\n",
       "    <tr>\n",
       "      <td>2</td>\n",
       "      <td>Harry</td>\n",
       "      <td>2</td>\n",
       "      <td>5</td>\n",
       "      <td>9.0</td>\n",
       "    </tr>\n",
       "    <tr>\n",
       "      <td>3</td>\n",
       "      <td>Julia</td>\n",
       "      <td>1</td>\n",
       "      <td>10</td>\n",
       "      <td>7.5</td>\n",
       "    </tr>\n",
       "    <tr>\n",
       "      <td>4</td>\n",
       "      <td>Carrie</td>\n",
       "      <td>4</td>\n",
       "      <td>6</td>\n",
       "      <td>8.0</td>\n",
       "    </tr>\n",
       "  </tbody>\n",
       "</table>\n",
       "</div>"
      ],
      "text/plain": [
       "    Aluno  Faltas  Prova  Seminário\n",
       "1   Abbie       4      7        7.5\n",
       "2   Harry       2      5        9.0\n",
       "3   Julia       1     10        7.5\n",
       "4  Carrie       4      6        8.0"
      ]
     },
     "execution_count": 67,
     "metadata": {},
     "output_type": "execute_result"
    }
   ],
   "source": [
    "#faltas maior que 4 e provas maior que 5\n",
    "df[(df[\"Faltas\"]==5) | (df[\"Prova\"] > 4)]"
   ]
  },
  {
   "cell_type": "markdown",
   "metadata": {},
   "source": [
    "<b>Leitura de Dados</b><br>\n",
    "Na seção anterior vimos como manipular dados que foram criados durante esta apresentação, acontece que, na maioria das vezes, queremos analisar dados que já estão prontos. O pandas nos fornece uma série de funcionalidades de leitura de dados, pros mais diversos formatos estruturais de dados, experimente a auto-completação de pd.read_<TAB>, entre eles estão:<br>\n",
    "    \n",
    "pd.read_csv, para ler arquivos .csv, formato comum de armazenar dados de tabelas<br>\n",
    "\n",
    "pd.read_xlsx, para ler arquivos Excel .xlsx, é necessário instalar uma biblioteca adicional pra esta funcionalidade.<br>\n",
    "\n",
    "pd.read_html, para ler tabelas diretamente de um website <br>\n",
    "\n",
    "Usaremos para analisar dados externos nesta introdução o .read_csv, pois é neste formato que se encontram nossos dados. CSV, ou comma-separated values é um formato muito comum de dados abertos, trata-se, como a sigla sugere, de valores divididos por vírgula, apesar de o caracter separador poder ser o ponto-e-vírgula ou outro.<br>\n",
    "O arquivo dados.csv está na mesma pasta do nosso script, então podemos passar como argumento do .read_csv apenas o seu nome. Outro argumento interessante da função é o sep, que por padrão é a vírgula, mas que pode ser definido como outro caractere caso seu dado esteja usando outro separador."
   ]
  },
  {
   "cell_type": "code",
   "execution_count": 68,
   "metadata": {},
   "outputs": [],
   "source": [
    "df = pd.read_csv(\"dados.csv\")"
   ]
  },
  {
   "cell_type": "code",
   "execution_count": 79,
   "metadata": {},
   "outputs": [
    {
     "data": {
      "text/plain": [
       "<bound method Series.unique of 0       Botafogo\n",
       "1       Botafogo\n",
       "2       Botafogo\n",
       "3       Botafogo\n",
       "4       Botafogo\n",
       "          ...   \n",
       "1992      Tijuca\n",
       "1993      Tijuca\n",
       "1994      Tijuca\n",
       "1995      Tijuca\n",
       "1996      Tijuca\n",
       "Name: bairro, Length: 1997, dtype: object>"
      ]
     },
     "execution_count": 79,
     "metadata": {},
     "output_type": "execute_result"
    }
   ],
   "source": [
    "df.head(4)"
   ]
  },
  {
   "cell_type": "code",
   "execution_count": 20,
   "metadata": {},
   "outputs": [
    {
     "data": {
      "text/html": [
       "<div>\n",
       "<style scoped>\n",
       "    .dataframe tbody tr th:only-of-type {\n",
       "        vertical-align: middle;\n",
       "    }\n",
       "\n",
       "    .dataframe tbody tr th {\n",
       "        vertical-align: top;\n",
       "    }\n",
       "\n",
       "    .dataframe thead th {\n",
       "        text-align: right;\n",
       "    }\n",
       "</style>\n",
       "<table border=\"1\" class=\"dataframe\">\n",
       "  <thead>\n",
       "    <tr style=\"text-align: right;\">\n",
       "      <th></th>\n",
       "      <th>condominio</th>\n",
       "      <th>quartos</th>\n",
       "      <th>suites</th>\n",
       "      <th>vagas</th>\n",
       "      <th>area</th>\n",
       "      <th>bairro</th>\n",
       "      <th>preco</th>\n",
       "      <th>pm2</th>\n",
       "    </tr>\n",
       "  </thead>\n",
       "  <tbody>\n",
       "    <tr>\n",
       "      <th>1992</th>\n",
       "      <td>1080</td>\n",
       "      <td>3</td>\n",
       "      <td>1.0</td>\n",
       "      <td>1.0</td>\n",
       "      <td>80</td>\n",
       "      <td>Tijuca</td>\n",
       "      <td>680000</td>\n",
       "      <td>8500.00</td>\n",
       "    </tr>\n",
       "    <tr>\n",
       "      <th>1993</th>\n",
       "      <td>750</td>\n",
       "      <td>3</td>\n",
       "      <td>0.0</td>\n",
       "      <td>1.0</td>\n",
       "      <td>82</td>\n",
       "      <td>Tijuca</td>\n",
       "      <td>650000</td>\n",
       "      <td>7926.83</td>\n",
       "    </tr>\n",
       "    <tr>\n",
       "      <th>1994</th>\n",
       "      <td>700</td>\n",
       "      <td>3</td>\n",
       "      <td>1.0</td>\n",
       "      <td>1.0</td>\n",
       "      <td>100</td>\n",
       "      <td>Tijuca</td>\n",
       "      <td>629900</td>\n",
       "      <td>6299.00</td>\n",
       "    </tr>\n",
       "    <tr>\n",
       "      <th>1995</th>\n",
       "      <td>1850</td>\n",
       "      <td>3</td>\n",
       "      <td>1.0</td>\n",
       "      <td>2.0</td>\n",
       "      <td>166</td>\n",
       "      <td>Tijuca</td>\n",
       "      <td>1600000</td>\n",
       "      <td>9638.55</td>\n",
       "    </tr>\n",
       "    <tr>\n",
       "      <th>1996</th>\n",
       "      <td>800</td>\n",
       "      <td>3</td>\n",
       "      <td>1.0</td>\n",
       "      <td>1.0</td>\n",
       "      <td>107</td>\n",
       "      <td>Tijuca</td>\n",
       "      <td>540000</td>\n",
       "      <td>5046.73</td>\n",
       "    </tr>\n",
       "  </tbody>\n",
       "</table>\n",
       "</div>"
      ],
      "text/plain": [
       "      condominio  quartos  suites  vagas  area  bairro    preco      pm2\n",
       "1992        1080        3     1.0    1.0    80  Tijuca   680000  8500.00\n",
       "1993         750        3     0.0    1.0    82  Tijuca   650000  7926.83\n",
       "1994         700        3     1.0    1.0   100  Tijuca   629900  6299.00\n",
       "1995        1850        3     1.0    2.0   166  Tijuca  1600000  9638.55\n",
       "1996         800        3     1.0    1.0   107  Tijuca   540000  5046.73"
      ]
     },
     "execution_count": 20,
     "metadata": {},
     "output_type": "execute_result"
    }
   ],
   "source": [
    "df.tail()"
   ]
  },
  {
   "cell_type": "markdown",
   "metadata": {},
   "source": [
    "Além de confiar em mim, quando mencionei os bairros que continham no nosso conjunto de dados, você pode verificar a informação usando um método que lista os valores únicos numa coluna:"
   ]
  },
  {
   "cell_type": "code",
   "execution_count": 80,
   "metadata": {},
   "outputs": [
    {
     "data": {
      "text/plain": [
       "array(['Botafogo', 'Copacabana', 'Gávea', 'Grajaú', 'Ipanema', 'Leblon',\n",
       "       'Tijuca'], dtype=object)"
      ]
     },
     "execution_count": 80,
     "metadata": {},
     "output_type": "execute_result"
    }
   ],
   "source": [
    "df[\"bairro\"].unique()"
   ]
  },
  {
   "cell_type": "code",
   "execution_count": 81,
   "metadata": {},
   "outputs": [
    {
     "data": {
      "text/plain": [
       "Copacabana    346\n",
       "Tijuca        341\n",
       "Botafogo      307\n",
       "Ipanema       281\n",
       "Leblon        280\n",
       "Grajaú        237\n",
       "Gávea         205\n",
       "Name: bairro, dtype: int64"
      ]
     },
     "execution_count": 81,
     "metadata": {},
     "output_type": "execute_result"
    }
   ],
   "source": [
    "df[\"bairro\"].value_counts()"
   ]
  },
  {
   "cell_type": "markdown",
   "metadata": {},
   "source": [
    "Os valores contados também podem ser normalizados para expressar porcentagens:"
   ]
  },
  {
   "cell_type": "code",
   "execution_count": 23,
   "metadata": {},
   "outputs": [
    {
     "data": {
      "text/plain": [
       "Copacabana    0.173260\n",
       "Tijuca        0.170756\n",
       "Botafogo      0.153731\n",
       "Ipanema       0.140711\n",
       "Leblon        0.140210\n",
       "Grajaú        0.118678\n",
       "Gávea         0.102654\n",
       "Name: bairro, dtype: float64"
      ]
     },
     "execution_count": 23,
     "metadata": {},
     "output_type": "execute_result"
    }
   ],
   "source": [
    "df[\"bairro\"].value_counts(normalize=True)"
   ]
  },
  {
   "cell_type": "markdown",
   "metadata": {},
   "source": [
    "Group by"
   ]
  },
  {
   "cell_type": "code",
   "execution_count": 87,
   "metadata": {},
   "outputs": [],
   "source": [
    "df['count'] = '1' #cria uma coluna com todos valores igual 1\n",
    "df[['condominio','quartos','count']].groupby(['condominio']).count()\n",
    "\n",
    "# exporta para CSV\n",
    "df[['condominio','bairro','count']].groupby(['bairro']).mean().to_csv('aula.csv')\n",
    "\n",
    "#df.groupby(\"bairro\").mean()"
   ]
  },
  {
   "cell_type": "code",
   "execution_count": 25,
   "metadata": {},
   "outputs": [
    {
     "data": {
      "text/plain": [
       "bairro\n",
       "Grajaú         6145.624473\n",
       "Tijuca         7149.804985\n",
       "Copacabana    11965.298699\n",
       "Botafogo      12034.486189\n",
       "Gávea         16511.582780\n",
       "Ipanema       19738.407794\n",
       "Leblon        20761.351036\n",
       "Name: pm2, dtype: float64"
      ]
     },
     "execution_count": 25,
     "metadata": {},
     "output_type": "execute_result"
    }
   ],
   "source": [
    "df.groupby(\"bairro\").mean()[\"pm2\"].sort_values()"
   ]
  },
  {
   "cell_type": "markdown",
   "metadata": {},
   "source": [
    "É comum queremos aplicar uma função qualquer aos dados, ou à parte deles, neste caso o pandas fornece o método .apply. Por exemplo, para deixar os nomes dos bairros como apenas as suas três primeiras letras"
   ]
  },
  {
   "cell_type": "code",
   "execution_count": 26,
   "metadata": {},
   "outputs": [
    {
     "data": {
      "text/plain": [
       "0       Bot\n",
       "1       Bot\n",
       "2       Bot\n",
       "3       Bot\n",
       "4       Bot\n",
       "       ... \n",
       "1992    Tij\n",
       "1993    Tij\n",
       "1994    Tij\n",
       "1995    Tij\n",
       "1996    Tij\n",
       "Name: bairro, Length: 1997, dtype: object"
      ]
     },
     "execution_count": 26,
     "metadata": {},
     "output_type": "execute_result"
    }
   ],
   "source": [
    "def truncar(bairro):\n",
    "    return bairro[:3]\n",
    "df[\"bairro\"].apply(truncar)"
   ]
  },
  {
   "cell_type": "markdown",
   "metadata": {},
   "source": [
    "ou usando a função por lambda"
   ]
  },
  {
   "cell_type": "code",
   "execution_count": 27,
   "metadata": {},
   "outputs": [
    {
     "data": {
      "text/plain": [
       "0       Bot\n",
       "1       Bot\n",
       "2       Bot\n",
       "3       Bot\n",
       "4       Bot\n",
       "       ... \n",
       "1992    Tij\n",
       "1993    Tij\n",
       "1994    Tij\n",
       "1995    Tij\n",
       "1996    Tij\n",
       "Name: bairro, Length: 1997, dtype: object"
      ]
     },
     "execution_count": 27,
     "metadata": {},
     "output_type": "execute_result"
    }
   ],
   "source": [
    "df[\"bairro\"].apply(lambda x: x[:3])"
   ]
  },
  {
   "cell_type": "markdown",
   "metadata": {},
   "source": [
    "No pandas é possivel tratarmos dados incompletos"
   ]
  },
  {
   "cell_type": "code",
   "execution_count": 90,
   "metadata": {},
   "outputs": [
    {
     "data": {
      "text/html": [
       "<div>\n",
       "<style scoped>\n",
       "    .dataframe tbody tr th:only-of-type {\n",
       "        vertical-align: middle;\n",
       "    }\n",
       "\n",
       "    .dataframe tbody tr th {\n",
       "        vertical-align: top;\n",
       "    }\n",
       "\n",
       "    .dataframe thead th {\n",
       "        text-align: right;\n",
       "    }\n",
       "</style>\n",
       "<table border=\"1\" class=\"dataframe\">\n",
       "  <thead>\n",
       "    <tr style=\"text-align: right;\">\n",
       "      <th></th>\n",
       "      <th>condominio</th>\n",
       "      <th>quartos</th>\n",
       "      <th>suites</th>\n",
       "      <th>vagas</th>\n",
       "      <th>area</th>\n",
       "      <th>bairro</th>\n",
       "      <th>preco</th>\n",
       "      <th>pm2</th>\n",
       "      <th>count</th>\n",
       "    </tr>\n",
       "  </thead>\n",
       "  <tbody>\n",
       "    <tr>\n",
       "      <td>0</td>\n",
       "      <td>350</td>\n",
       "      <td>1</td>\n",
       "      <td>0.0</td>\n",
       "      <td>1.0</td>\n",
       "      <td>21</td>\n",
       "      <td>Botafogo</td>\n",
       "      <td>340000</td>\n",
       "      <td>16190.48</td>\n",
       "      <td>1</td>\n",
       "    </tr>\n",
       "    <tr>\n",
       "      <td>1</td>\n",
       "      <td>800</td>\n",
       "      <td>1</td>\n",
       "      <td>0.0</td>\n",
       "      <td>1.0</td>\n",
       "      <td>64</td>\n",
       "      <td>Botafogo</td>\n",
       "      <td>770000</td>\n",
       "      <td>NaN</td>\n",
       "      <td>1</td>\n",
       "    </tr>\n",
       "    <tr>\n",
       "      <td>2</td>\n",
       "      <td>674</td>\n",
       "      <td>1</td>\n",
       "      <td>0.0</td>\n",
       "      <td>1.0</td>\n",
       "      <td>61</td>\n",
       "      <td>Botafogo</td>\n",
       "      <td>600000</td>\n",
       "      <td>9836.07</td>\n",
       "      <td>1</td>\n",
       "    </tr>\n",
       "    <tr>\n",
       "      <td>3</td>\n",
       "      <td>700</td>\n",
       "      <td>1</td>\n",
       "      <td>1.0</td>\n",
       "      <td>1.0</td>\n",
       "      <td>70</td>\n",
       "      <td>Botafogo</td>\n",
       "      <td>700000</td>\n",
       "      <td>10000.00</td>\n",
       "      <td>1</td>\n",
       "    </tr>\n",
       "    <tr>\n",
       "      <td>4</td>\n",
       "      <td>440</td>\n",
       "      <td>1</td>\n",
       "      <td>0.0</td>\n",
       "      <td>1.0</td>\n",
       "      <td>44</td>\n",
       "      <td>Botafogo</td>\n",
       "      <td>515000</td>\n",
       "      <td>11704.55</td>\n",
       "      <td>1</td>\n",
       "    </tr>\n",
       "  </tbody>\n",
       "</table>\n",
       "</div>"
      ],
      "text/plain": [
       "   condominio  quartos  suites  vagas  area    bairro   preco       pm2 count\n",
       "0         350        1     0.0    1.0    21  Botafogo  340000  16190.48     1\n",
       "1         800        1     0.0    1.0    64  Botafogo  770000       NaN     1\n",
       "2         674        1     0.0    1.0    61  Botafogo  600000   9836.07     1\n",
       "3         700        1     1.0    1.0    70  Botafogo  700000  10000.00     1\n",
       "4         440        1     0.0    1.0    44  Botafogo  515000  11704.55     1"
      ]
     },
     "execution_count": 90,
     "metadata": {},
     "output_type": "execute_result"
    }
   ],
   "source": [
    "df2 = df.head()\n",
    "# procura no campo pm2 o que for igual 12031.25 trocar valor por nan\n",
    "df2 = df2.replace({\"pm2\": {12031.25: np.nan}})\n",
    "df2"
   ]
  },
  {
   "cell_type": "markdown",
   "metadata": {},
   "source": [
    "O pandas simplifica a remoção de quaiquer linhas ou colunas que possuem um np.nan, por padrão o .dropna() retorna as linhas que não contém um NaN:"
   ]
  },
  {
   "cell_type": "code",
   "execution_count": 91,
   "metadata": {},
   "outputs": [
    {
     "data": {
      "text/html": [
       "<div>\n",
       "<style scoped>\n",
       "    .dataframe tbody tr th:only-of-type {\n",
       "        vertical-align: middle;\n",
       "    }\n",
       "\n",
       "    .dataframe tbody tr th {\n",
       "        vertical-align: top;\n",
       "    }\n",
       "\n",
       "    .dataframe thead th {\n",
       "        text-align: right;\n",
       "    }\n",
       "</style>\n",
       "<table border=\"1\" class=\"dataframe\">\n",
       "  <thead>\n",
       "    <tr style=\"text-align: right;\">\n",
       "      <th></th>\n",
       "      <th>condominio</th>\n",
       "      <th>quartos</th>\n",
       "      <th>suites</th>\n",
       "      <th>vagas</th>\n",
       "      <th>area</th>\n",
       "      <th>bairro</th>\n",
       "      <th>preco</th>\n",
       "      <th>pm2</th>\n",
       "      <th>count</th>\n",
       "    </tr>\n",
       "  </thead>\n",
       "  <tbody>\n",
       "    <tr>\n",
       "      <td>0</td>\n",
       "      <td>350</td>\n",
       "      <td>1</td>\n",
       "      <td>0.0</td>\n",
       "      <td>1.0</td>\n",
       "      <td>21</td>\n",
       "      <td>Botafogo</td>\n",
       "      <td>340000</td>\n",
       "      <td>16190.48</td>\n",
       "      <td>1</td>\n",
       "    </tr>\n",
       "    <tr>\n",
       "      <td>2</td>\n",
       "      <td>674</td>\n",
       "      <td>1</td>\n",
       "      <td>0.0</td>\n",
       "      <td>1.0</td>\n",
       "      <td>61</td>\n",
       "      <td>Botafogo</td>\n",
       "      <td>600000</td>\n",
       "      <td>9836.07</td>\n",
       "      <td>1</td>\n",
       "    </tr>\n",
       "    <tr>\n",
       "      <td>3</td>\n",
       "      <td>700</td>\n",
       "      <td>1</td>\n",
       "      <td>1.0</td>\n",
       "      <td>1.0</td>\n",
       "      <td>70</td>\n",
       "      <td>Botafogo</td>\n",
       "      <td>700000</td>\n",
       "      <td>10000.00</td>\n",
       "      <td>1</td>\n",
       "    </tr>\n",
       "    <tr>\n",
       "      <td>4</td>\n",
       "      <td>440</td>\n",
       "      <td>1</td>\n",
       "      <td>0.0</td>\n",
       "      <td>1.0</td>\n",
       "      <td>44</td>\n",
       "      <td>Botafogo</td>\n",
       "      <td>515000</td>\n",
       "      <td>11704.55</td>\n",
       "      <td>1</td>\n",
       "    </tr>\n",
       "  </tbody>\n",
       "</table>\n",
       "</div>"
      ],
      "text/plain": [
       "   condominio  quartos  suites  vagas  area    bairro   preco       pm2 count\n",
       "0         350        1     0.0    1.0    21  Botafogo  340000  16190.48     1\n",
       "2         674        1     0.0    1.0    61  Botafogo  600000   9836.07     1\n",
       "3         700        1     1.0    1.0    70  Botafogo  700000  10000.00     1\n",
       "4         440        1     0.0    1.0    44  Botafogo  515000  11704.55     1"
      ]
     },
     "execution_count": 91,
     "metadata": {},
     "output_type": "execute_result"
    }
   ],
   "source": [
    "#dropar todas linhas com NaN\n",
    "df2.dropna()"
   ]
  },
  {
   "cell_type": "markdown",
   "metadata": {},
   "source": [
    "preenchendo valores."
   ]
  },
  {
   "cell_type": "code",
   "execution_count": 92,
   "metadata": {},
   "outputs": [
    {
     "data": {
      "text/html": [
       "<div>\n",
       "<style scoped>\n",
       "    .dataframe tbody tr th:only-of-type {\n",
       "        vertical-align: middle;\n",
       "    }\n",
       "\n",
       "    .dataframe tbody tr th {\n",
       "        vertical-align: top;\n",
       "    }\n",
       "\n",
       "    .dataframe thead th {\n",
       "        text-align: right;\n",
       "    }\n",
       "</style>\n",
       "<table border=\"1\" class=\"dataframe\">\n",
       "  <thead>\n",
       "    <tr style=\"text-align: right;\">\n",
       "      <th></th>\n",
       "      <th>condominio</th>\n",
       "      <th>quartos</th>\n",
       "      <th>suites</th>\n",
       "      <th>vagas</th>\n",
       "      <th>area</th>\n",
       "      <th>bairro</th>\n",
       "      <th>preco</th>\n",
       "      <th>pm2</th>\n",
       "      <th>count</th>\n",
       "    </tr>\n",
       "  </thead>\n",
       "  <tbody>\n",
       "    <tr>\n",
       "      <td>0</td>\n",
       "      <td>350</td>\n",
       "      <td>1</td>\n",
       "      <td>0.0</td>\n",
       "      <td>1.0</td>\n",
       "      <td>21</td>\n",
       "      <td>Botafogo</td>\n",
       "      <td>340000</td>\n",
       "      <td>16190.48</td>\n",
       "      <td>1</td>\n",
       "    </tr>\n",
       "    <tr>\n",
       "      <td>1</td>\n",
       "      <td>800</td>\n",
       "      <td>1</td>\n",
       "      <td>0.0</td>\n",
       "      <td>1.0</td>\n",
       "      <td>64</td>\n",
       "      <td>Botafogo</td>\n",
       "      <td>770000</td>\n",
       "      <td>99.00</td>\n",
       "      <td>1</td>\n",
       "    </tr>\n",
       "    <tr>\n",
       "      <td>2</td>\n",
       "      <td>674</td>\n",
       "      <td>1</td>\n",
       "      <td>0.0</td>\n",
       "      <td>1.0</td>\n",
       "      <td>61</td>\n",
       "      <td>Botafogo</td>\n",
       "      <td>600000</td>\n",
       "      <td>9836.07</td>\n",
       "      <td>1</td>\n",
       "    </tr>\n",
       "    <tr>\n",
       "      <td>3</td>\n",
       "      <td>700</td>\n",
       "      <td>1</td>\n",
       "      <td>1.0</td>\n",
       "      <td>1.0</td>\n",
       "      <td>70</td>\n",
       "      <td>Botafogo</td>\n",
       "      <td>700000</td>\n",
       "      <td>10000.00</td>\n",
       "      <td>1</td>\n",
       "    </tr>\n",
       "    <tr>\n",
       "      <td>4</td>\n",
       "      <td>440</td>\n",
       "      <td>1</td>\n",
       "      <td>0.0</td>\n",
       "      <td>1.0</td>\n",
       "      <td>44</td>\n",
       "      <td>Botafogo</td>\n",
       "      <td>515000</td>\n",
       "      <td>11704.55</td>\n",
       "      <td>1</td>\n",
       "    </tr>\n",
       "  </tbody>\n",
       "</table>\n",
       "</div>"
      ],
      "text/plain": [
       "   condominio  quartos  suites  vagas  area    bairro   preco       pm2 count\n",
       "0         350        1     0.0    1.0    21  Botafogo  340000  16190.48     1\n",
       "1         800        1     0.0    1.0    64  Botafogo  770000     99.00     1\n",
       "2         674        1     0.0    1.0    61  Botafogo  600000   9836.07     1\n",
       "3         700        1     1.0    1.0    70  Botafogo  700000  10000.00     1\n",
       "4         440        1     0.0    1.0    44  Botafogo  515000  11704.55     1"
      ]
     },
     "execution_count": 92,
     "metadata": {},
     "output_type": "execute_result"
    }
   ],
   "source": [
    "#preencher com valor 99 onde tiver NaN\n",
    "df2.fillna(99)"
   ]
  },
  {
   "cell_type": "code",
   "execution_count": 95,
   "metadata": {},
   "outputs": [
    {
     "data": {
      "text/html": [
       "<div>\n",
       "<style scoped>\n",
       "    .dataframe tbody tr th:only-of-type {\n",
       "        vertical-align: middle;\n",
       "    }\n",
       "\n",
       "    .dataframe tbody tr th {\n",
       "        vertical-align: top;\n",
       "    }\n",
       "\n",
       "    .dataframe thead th {\n",
       "        text-align: right;\n",
       "    }\n",
       "</style>\n",
       "<table border=\"1\" class=\"dataframe\">\n",
       "  <thead>\n",
       "    <tr style=\"text-align: right;\">\n",
       "      <th></th>\n",
       "      <th>condominio</th>\n",
       "      <th>quartos</th>\n",
       "      <th>suites</th>\n",
       "      <th>vagas</th>\n",
       "      <th>area</th>\n",
       "      <th>bairro</th>\n",
       "      <th>preco</th>\n",
       "      <th>pm2</th>\n",
       "      <th>count</th>\n",
       "    </tr>\n",
       "  </thead>\n",
       "  <tbody>\n",
       "    <tr>\n",
       "      <td>0</td>\n",
       "      <td>False</td>\n",
       "      <td>False</td>\n",
       "      <td>False</td>\n",
       "      <td>False</td>\n",
       "      <td>False</td>\n",
       "      <td>False</td>\n",
       "      <td>False</td>\n",
       "      <td>False</td>\n",
       "      <td>False</td>\n",
       "    </tr>\n",
       "    <tr>\n",
       "      <td>1</td>\n",
       "      <td>False</td>\n",
       "      <td>False</td>\n",
       "      <td>False</td>\n",
       "      <td>False</td>\n",
       "      <td>False</td>\n",
       "      <td>False</td>\n",
       "      <td>False</td>\n",
       "      <td>True</td>\n",
       "      <td>False</td>\n",
       "    </tr>\n",
       "    <tr>\n",
       "      <td>2</td>\n",
       "      <td>False</td>\n",
       "      <td>False</td>\n",
       "      <td>False</td>\n",
       "      <td>False</td>\n",
       "      <td>False</td>\n",
       "      <td>False</td>\n",
       "      <td>False</td>\n",
       "      <td>False</td>\n",
       "      <td>False</td>\n",
       "    </tr>\n",
       "    <tr>\n",
       "      <td>3</td>\n",
       "      <td>False</td>\n",
       "      <td>False</td>\n",
       "      <td>False</td>\n",
       "      <td>False</td>\n",
       "      <td>False</td>\n",
       "      <td>False</td>\n",
       "      <td>False</td>\n",
       "      <td>False</td>\n",
       "      <td>False</td>\n",
       "    </tr>\n",
       "    <tr>\n",
       "      <td>4</td>\n",
       "      <td>False</td>\n",
       "      <td>False</td>\n",
       "      <td>False</td>\n",
       "      <td>False</td>\n",
       "      <td>False</td>\n",
       "      <td>False</td>\n",
       "      <td>False</td>\n",
       "      <td>False</td>\n",
       "      <td>False</td>\n",
       "    </tr>\n",
       "  </tbody>\n",
       "</table>\n",
       "</div>"
      ],
      "text/plain": [
       "   condominio  quartos  suites  vagas   area  bairro  preco    pm2  count\n",
       "0       False    False   False  False  False   False  False  False  False\n",
       "1       False    False   False  False  False   False  False   True  False\n",
       "2       False    False   False  False  False   False  False  False  False\n",
       "3       False    False   False  False  False   False  False  False  False\n",
       "4       False    False   False  False  False   False  False  False  False"
      ]
     },
     "execution_count": 95,
     "metadata": {},
     "output_type": "execute_result"
    }
   ],
   "source": [
    "df2.isna()\n",
    "#df2.isna().count()"
   ]
  },
  {
   "cell_type": "code",
   "execution_count": 96,
   "metadata": {},
   "outputs": [
    {
     "data": {
      "text/plain": [
       "condominio    0\n",
       "quartos       0\n",
       "suites        0\n",
       "vagas         0\n",
       "area          0\n",
       "bairro        0\n",
       "preco         0\n",
       "pm2           1\n",
       "count         0\n",
       "dtype: int64"
      ]
     },
     "execution_count": 96,
     "metadata": {},
     "output_type": "execute_result"
    }
   ],
   "source": [
    "df2.isnull().sum()"
   ]
  }
 ],
 "metadata": {
  "kernelspec": {
   "display_name": "Python 3",
   "language": "python",
   "name": "python3"
  },
  "language_info": {
   "codemirror_mode": {
    "name": "ipython",
    "version": 3
   },
   "file_extension": ".py",
   "mimetype": "text/x-python",
   "name": "python",
   "nbconvert_exporter": "python",
   "pygments_lexer": "ipython3",
   "version": "3.7.4"
  }
 },
 "nbformat": 4,
 "nbformat_minor": 2
}
