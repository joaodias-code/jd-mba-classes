{
 "cells": [
  {
   "cell_type": "markdown",
   "metadata": {},
   "source": [
    "<b>Álgebra linear</b> é um ramo da matemática que surgiu do estudo detalhado de sistemas de equações lineares, sejam elas algébricas ou diferenciais. A álgebra linear utiliza alguns conceitos e estruturas fundamentais da matemática como vetores, espaços vetoriais, transformações lineares, sistemas de equações lineares e matrizes."
   ]
  },
  {
   "cell_type": "markdown",
   "metadata": {},
   "source": [
    "Neste notebook, iremos estudar alguns conceitos basicos de algebra linear e iremos para isso usar a biblioteca <b>Numpy</b>"
   ]
  },
  {
   "cell_type": "markdown",
   "metadata": {},
   "source": [
    "<b>NumPy</b> é um pacote para a linguagem Python que suporta arrays e matrizes multidimensionais, possuindo uma larga coleção de funções matemáticas para trabalhar com estas estruturas."
   ]
  },
  {
   "cell_type": "code",
   "execution_count": 4,
   "metadata": {},
   "outputs": [],
   "source": [
    "#importando a biblioteca numpy\n",
    "import numpy as np"
   ]
  },
  {
   "cell_type": "markdown",
   "metadata": {},
   "source": [
    "<b>O que são matrizes ?</b><br>\n",
    "    \n",
    "Matrizes são organizações de informações numéricas em uma tabela retangular formada por linhas e colunas.\n",
    "Essa organização em uma tabela facilita que se possa efetuar vários cálculos simultâneos com as informações contidas na matriz.\n",
    "\n",
    "Em Python, temos um ótimo suporte para computação científica com o pacote numpy. Uma matriz A = [aij]ij em Python é definida usando-se a seguinte sintaxe:"
   ]
  },
  {
   "cell_type": "code",
   "execution_count": 6,
   "metadata": {},
   "outputs": [],
   "source": [
    "A = np.array([[ 1,2,3],[2,3,4]])"
   ]
  },
  {
   "cell_type": "code",
   "execution_count": 7,
   "metadata": {
    "scrolled": false
   },
   "outputs": [
    {
     "data": {
      "text/plain": [
       "array([[1, 2, 3],\n",
       "       [2, 3, 4]])"
      ]
     },
     "execution_count": 7,
     "metadata": {},
     "output_type": "execute_result"
    }
   ],
   "source": [
    "A"
   ]
  },
  {
   "cell_type": "markdown",
   "metadata": {},
   "source": [
    "https://matematicabasica.net/matrizes/#matrizes-especiais\n",
    "\n",
    "https://www.geeksforgeeks.org/numpy-linear-algebra/"
   ]
  },
  {
   "cell_type": "markdown",
   "metadata": {},
   "source": [
    "<b>Criação de matrizes</b>\n",
    "Matrizes são estruturas bidimensionais (tabelas) com m linhas por n colunas muito importantes na matemática, \n",
    "utilizadas por exemplo para a resolução de sistemas de equações e transformações lineares.\n",
    "\n",
    "Em Python, uma matriz pode ser representada como uma lista de listas, onde um elemento da lista contém uma linha \n",
    "da matriz, que por sua vez corresponde a uma lista com os elementos da coluna da matriz."
   ]
  },
  {
   "cell_type": "code",
   "execution_count": 12,
   "metadata": {},
   "outputs": [],
   "source": [
    "linha_com_zeros = [0]*5\n",
    "A = [ linha_com_zeros ] * 5\n",
    "A[1][1] = 2"
   ]
  },
  {
   "cell_type": "code",
   "execution_count": 13,
   "metadata": {},
   "outputs": [
    {
     "data": {
      "text/plain": [
       "[[0, 2, 0, 0, 0],\n",
       " [0, 2, 0, 0, 0],\n",
       " [0, 2, 0, 0, 0],\n",
       " [0, 2, 0, 0, 0],\n",
       " [0, 2, 0, 0, 0]]"
      ]
     },
     "execution_count": 13,
     "metadata": {},
     "output_type": "execute_result"
    }
   ],
   "source": [
    "A"
   ]
  },
  {
   "cell_type": "markdown",
   "metadata": {},
   "source": [
    "A variável linha_com_zeros contém uma referência à lista [0, 0, 0, 0, 0]. No trecho de código acima, na tentativa de cria uma matriz A, essa mesma referência é copiada 5 vezes. Assim, todas as linhas apontam para a mesma lista!\n",
    "\n",
    "Para criarmos uma matriz é necessário criarmos 5 listas diferentes (uma para cada linha) como por exemplo:"
   ]
  },
  {
   "cell_type": "code",
   "execution_count": 20,
   "metadata": {},
   "outputs": [],
   "source": [
    "A = []\n",
    "for i in range(5):\n",
    "    A = A + [[0]*5] # cria uma nova lista [0]*5\n",
    "A[1][1] = 2"
   ]
  },
  {
   "cell_type": "code",
   "execution_count": 21,
   "metadata": {},
   "outputs": [
    {
     "data": {
      "text/plain": [
       "[[0, 0, 0, 0, 0],\n",
       " [0, 2, 0, 0, 0],\n",
       " [0, 0, 0, 0, 0],\n",
       " [0, 0, 0, 0, 0],\n",
       " [0, 0, 0, 0, 0]]"
      ]
     },
     "execution_count": 21,
     "metadata": {},
     "output_type": "execute_result"
    }
   ],
   "source": [
    "A"
   ]
  },
  {
   "cell_type": "markdown",
   "metadata": {},
   "source": [
    "Podemos ainda criar uma matriz de zeros utilizando uma função como"
   ]
  },
  {
   "cell_type": "code",
   "execution_count": 24,
   "metadata": {},
   "outputs": [],
   "source": [
    "def crie_matriz(n_linhas, n_colunas, valor):\n",
    "    ''' (int, int, valor) -> matriz (lista de listas)\n",
    "\n",
    "    Cria e retorna uma matriz com n_linhas linha e n_colunas\n",
    "    colunas em que cada elemento é igual ao valor dado.\n",
    "    '''\n",
    "\n",
    "    matriz = [] # lista vazia\n",
    "    for i in range(n_linhas):\n",
    "        # cria a linha i\n",
    "        linha = [] # lista vazia\n",
    "        for j in range(n_colunas):\n",
    "            linha += [valor]\n",
    "\n",
    "        # coloque linha na matriz\n",
    "        matriz += [linha]\n",
    "    return matriz"
   ]
  },
  {
   "cell_type": "code",
   "execution_count": 25,
   "metadata": {},
   "outputs": [
    {
     "data": {
      "text/plain": [
       "[[9, 9, 9], [9, 9, 9], [9, 9, 9]]"
      ]
     },
     "execution_count": 25,
     "metadata": {},
     "output_type": "execute_result"
    }
   ],
   "source": [
    "crie_matriz(3,3,9)"
   ]
  },
  {
   "cell_type": "markdown",
   "metadata": {},
   "source": [
    "Veja a seguir uma versão errada da função crie_matriz(). Nessa versão cada linha da matriz é um apelido de uma mesma lista."
   ]
  },
  {
   "cell_type": "code",
   "execution_count": 26,
   "metadata": {},
   "outputs": [],
   "source": [
    "def crie_matriz_errada(n_linhas, n_colunas, valor):\n",
    "    ''' (int, int, valor) -> matriz (lista de listas)\n",
    "\n",
    "    Cria e retorna uma matriz com n_linhas linha e n_colunas\n",
    "    colunas em que cada elemento é igual ao valor dado.\n",
    "    '''\n",
    "\n",
    "    matriz = [] # lista vazia\n",
    "    # cria uma linha com valor\n",
    "\n",
    "    linha = [] # lista vazia\n",
    "    for j in range(n_colunas):\n",
    "        linha += [valor]\n",
    "\n",
    "    for i in range(n_linhas):\n",
    "\n",
    "        # coloque linha na matriz\n",
    "        matriz += [linha]\n",
    "\n",
    "    return matriz\n",
    "\n",
    "#-----------------------\n",
    "A = crie_matriz_errada(3,4,0)\n",
    "A[1][1] = 2"
   ]
  },
  {
   "cell_type": "code",
   "execution_count": 27,
   "metadata": {},
   "outputs": [
    {
     "data": {
      "text/plain": [
       "[[0, 0, 0], [0, 0, 0], [0, 0, 0]]"
      ]
     },
     "execution_count": 27,
     "metadata": {},
     "output_type": "execute_result"
    }
   ],
   "source": [
    "crie_matriz_errada(3,3,0)"
   ]
  },
  {
   "cell_type": "markdown",
   "metadata": {},
   "source": [
    "Exercicio. Escreva a função a leia_matriz() a seguir. Abaixo esta um exemplo com um passo a passo da execução da função.\n",
    "\n",
    ">>> a = leia_matriz()\n",
    "Digite o número de linhas: 3\n",
    "Digite o número de colunas: 4\n",
    "matriz = []\n",
    "linha 0 = []\n",
    "Digite o elemento (0,0): 1\n",
    "linha 0 = [1]\n",
    "Digite o elemento (0,1): 2\n",
    "linha 0 = [1, 2]\n",
    "Digite o elemento (0,2): 3\n",
    "linha 0 = [1, 2, 3]\n",
    "Digite o elemento (0,3): 4\n",
    "linha 0 = [1, 2, 3, 4]\n",
    "matriz = [[1, 2, 3, 4]]\n",
    "linha 1 = []\n",
    "Digite o elemento (1,0): 5\n",
    "linha 1 = [5]\n",
    "Digite o elemento (1,1): 6\n",
    "linha 1 = [5, 6]\n",
    "Digite o elemento (1,2): 7\n",
    "linha 1 = [5, 6, 7]\n",
    "Digite o elemento (1,3): 8\n",
    "linha 1 = [5, 6, 7, 8]\n",
    "matriz = [[1, 2, 3, 4], [5, 6, 7, 8]]\n",
    "linha 2 = []\n",
    "Digite o elemento (2,0): 9\n",
    "linha 2 = [9]\n",
    "Digite o elemento (2,1): 10\n",
    "linha 2 = [9, 10]\n",
    "Digite o elemento (2,2): 11\n",
    "linha 2 = [9, 10, 11]\n",
    "Digite o elemento (2,3): 12\n",
    "linha 2 = [9, 10, 11, 12]\n",
    "matriz = [[1, 2, 3, 4], [5, 6, 7, 8], [9, 10, 11, 12]]\n",
    ">>> a"
   ]
  },
  {
   "cell_type": "code",
   "execution_count": 28,
   "metadata": {},
   "outputs": [
    {
     "name": "stdout",
     "output_type": "stream",
     "text": [
      "Vixe! Ainda nao fiz a funcao!\n",
      "None\n"
     ]
    }
   ],
   "source": [
    "#-------------------------------------------------------\n",
    "def leia_matriz():\n",
    "    '''(None) -> matriz (lista de listas)\n",
    "\n",
    "    Funcao que le do teclado o numero n_linhas de linhas\n",
    "    e o numero n_colunas de colunas e os elementos de\n",
    "    uma matriz de inteiros dimensao n_linha x n_colunas.\n",
    "\n",
    "    A funcao cria e retorna a matriz lida.\n",
    "    '''\n",
    "    print(\"Vixe! Ainda nao fiz a funcao!\")\n",
    "\n",
    "#-----------------------------------------------------\n",
    "# teste\n",
    "a_mat = leia_matriz()\n",
    "print(a_mat)"
   ]
  },
  {
   "cell_type": "code",
   "execution_count": 3,
   "metadata": {},
   "outputs": [
    {
     "name": "stdout",
     "output_type": "stream",
     "text": [
      "Informe o número de linhas: 2\n",
      "Informe o númeo de colunas: 2\n"
     ]
    },
    {
     "ename": "TypeError",
     "evalue": "array() missing required argument 'object' (pos 1)",
     "output_type": "error",
     "traceback": [
      "\u001b[1;31m---------------------------------------------------------------------------\u001b[0m",
      "\u001b[1;31mTypeError\u001b[0m                                 Traceback (most recent call last)",
      "\u001b[1;32m<ipython-input-3-0058392f95a9>\u001b[0m in \u001b[0;36m<module>\u001b[1;34m\u001b[0m\n\u001b[0;32m     13\u001b[0m     \u001b[0mprint\u001b[0m\u001b[1;33m(\u001b[0m\u001b[0marr\u001b[0m\u001b[1;33m)\u001b[0m\u001b[1;33m\u001b[0m\u001b[1;33m\u001b[0m\u001b[0m\n\u001b[0;32m     14\u001b[0m \u001b[1;33m\u001b[0m\u001b[0m\n\u001b[1;32m---> 15\u001b[1;33m \u001b[0mleia_natriz\u001b[0m\u001b[1;33m(\u001b[0m\u001b[1;33m)\u001b[0m\u001b[1;33m\u001b[0m\u001b[1;33m\u001b[0m\u001b[0m\n\u001b[0m",
      "\u001b[1;32m<ipython-input-3-0058392f95a9>\u001b[0m in \u001b[0;36mleia_natriz\u001b[1;34m()\u001b[0m\n\u001b[0;32m      5\u001b[0m     \u001b[0mn_colunas\u001b[0m \u001b[1;33m=\u001b[0m \u001b[0minput\u001b[0m\u001b[1;33m(\u001b[0m\u001b[1;34m\"Informe o númeo de colunas: \"\u001b[0m\u001b[1;33m)\u001b[0m\u001b[1;33m\u001b[0m\u001b[1;33m\u001b[0m\u001b[0m\n\u001b[0;32m      6\u001b[0m \u001b[1;33m\u001b[0m\u001b[0m\n\u001b[1;32m----> 7\u001b[1;33m     \u001b[0marr\u001b[0m \u001b[1;33m=\u001b[0m \u001b[0mnp\u001b[0m\u001b[1;33m.\u001b[0m\u001b[0marray\u001b[0m\u001b[1;33m(\u001b[0m\u001b[1;33m)\u001b[0m\u001b[1;33m\u001b[0m\u001b[1;33m\u001b[0m\u001b[0m\n\u001b[0m\u001b[0;32m      8\u001b[0m \u001b[1;33m\u001b[0m\u001b[0m\n\u001b[0;32m      9\u001b[0m     \u001b[1;32mfor\u001b[0m \u001b[0mx\u001b[0m \u001b[1;32min\u001b[0m \u001b[0mrange\u001b[0m\u001b[1;33m(\u001b[0m\u001b[0mnlinhas\u001b[0m\u001b[1;33m)\u001b[0m\u001b[1;33m:\u001b[0m\u001b[1;33m\u001b[0m\u001b[1;33m\u001b[0m\u001b[0m\n",
      "\u001b[1;31mTypeError\u001b[0m: array() missing required argument 'object' (pos 1)"
     ]
    }
   ],
   "source": [
    "import numpy as np\n",
    "\n",
    "def leia_natriz():\n",
    "    n_linhas = input(\"Informe o número de linhas: \")\n",
    "    n_colunas = input(\"Informe o númeo de colunas: \")\n",
    "    \n",
    "    arr = np.array()\n",
    "    \n",
    "    for x in range(nlinhas):\n",
    "        for y in range(ncolunas):\n",
    "            arr[x][y] = input(\"Informe a posição (\" + str(x) + \")(\" + str(y) + \"):\")\n",
    "    \n",
    "    print(arr)\n",
    "\n",
    "leia_natriz()"
   ]
  },
  {
   "cell_type": "markdown",
   "metadata": {},
   "source": [
    "Exercício 2\n",
    "Escreva a função a abaixo:"
   ]
  },
  {
   "cell_type": "code",
   "execution_count": 29,
   "metadata": {},
   "outputs": [
    {
     "name": "stdout",
     "output_type": "stream",
     "text": [
      "Vixe! Ainda nao fiz a funcao!\n"
     ]
    }
   ],
   "source": [
    "#-----------------------------------------------------\n",
    "def imprima_matriz(matriz):\n",
    "    '''(matriz) -> None\n",
    "\n",
    "    Recebe e imprime uma matriz de inteiros.\n",
    "\n",
    "    >>> a = [[1,2,3],[2,1,4],[3,4,1]]\n",
    "    >>> a\n",
    "    [[1, 2, 3], [2, 1, 4], [3, 4, 1]]\n",
    "    >>> imprima_matriz(a)\n",
    "    Matriz: 3 x 3\n",
    "         1     2     3\n",
    "         2     1     4\n",
    "         3     4     1\n",
    "\n",
    "    '''\n",
    "    print(\"Vixe! Ainda nao fiz a funcao!\")\n",
    "\n",
    "#-----------------------------------------------------\n",
    "# testes\n",
    "a = [[1,2,3],[2,1,4],[3,4,1]]\n",
    "imprima_matriz(a)"
   ]
  },
  {
   "cell_type": "markdown",
   "metadata": {},
   "source": [
    "Exercício 3\n",
    "Escreva a função a abaixo:"
   ]
  },
  {
   "cell_type": "code",
   "execution_count": 30,
   "metadata": {},
   "outputs": [
    {
     "name": "stdout",
     "output_type": "stream",
     "text": [
      "Vixe! Ainda nao fiz a funcao!\n",
      "Nao passou no primeiro teste! :-(\n"
     ]
    }
   ],
   "source": [
    "#-----------------------------------------------------\n",
    "def simetrica(matriz):\n",
    "    \n",
    "    '''(matriz) -> bool\n",
    "\n",
    "    Recebe uma matriz e returna True se a matriz for simetrica,\n",
    "    em caso contrario retorna False.\n",
    "\n",
    "    Pre-condicao: a funcao supoe que a matriz e quadrada\n",
    "\n",
    "    >>> a = [[1,2,3],[2,1,4],[3,4,1]]\n",
    "    >>> a\n",
    "    [[1, 2, 3], [2, 1, 4], [3, 4, 1]]\n",
    "    >>> imprima_matriz(a)\n",
    "    Matriz: 3 x 3\n",
    "         1     2     3\n",
    "         2     1     4\n",
    "         3     4     1\n",
    "    >>> simetrica(a)\n",
    "    True\n",
    "    '''\n",
    "    print(\"Vixe! Ainda nao fiz a funcao!\")\n",
    "\n",
    "#-----------------------------------------------------\n",
    "# testes\n",
    "a = [[11, -3, 4, 8], [-3, 12, 6, 11], [4, 6, 5, 13], [8, 11, 13, 5]]\n",
    "if simetrica(a):\n",
    "    print(\"Passou no primeiro teste! :-)\")\n",
    "else:\n",
    "    print(\"Nao passou no primeiro teste! :-(\")"
   ]
  },
  {
   "cell_type": "code",
   "execution_count": null,
   "metadata": {},
   "outputs": [],
   "source": [
    "import numpy as np\n",
    "\n"
   ]
  },
  {
   "cell_type": "markdown",
   "metadata": {},
   "source": [
    "Exercício 4\n",
    "Escreva um programa que lê n e uma matriz A de inteiros de dimensão n x n, e verifica se A é simétrica.\n",
    "Sugestões: utilize as funções leia_matriz(), imprima_matriz() e simetrica() dos exercícios anteriores."
   ]
  },
  {
   "cell_type": "code",
   "execution_count": 31,
   "metadata": {},
   "outputs": [
    {
     "name": "stdout",
     "output_type": "stream",
     "text": [
      "Vixe! Ainda nao fiz o exercicio!\n"
     ]
    }
   ],
   "source": [
    "#-----------------------------------------------------\n",
    "def main():\n",
    "    '''\n",
    "    Programa que le n e uma matriz de inteiros n x n\n",
    "    e verifica se a matriz e simetrica.\n",
    "    '''\n",
    "    # escreva o seu programa abaixo e remova o print()\n",
    "    print(\"Vixe! Ainda nao fiz o exercicio!\")\n",
    "\n",
    "#-----------------------------------------------------\n",
    "if __name__ == '__main__':\n",
    "    main()"
   ]
  },
  {
   "cell_type": "markdown",
   "metadata": {},
   "source": [
    "Exercício 5¶\n",
    "Escreva um programa que leia inteiros positivos m e n e os elementos de uma matriz A de números inteiros de dimensão m x n e conta o número de linhas e colunas que tem apenas zeros."
   ]
  },
  {
   "cell_type": "code",
   "execution_count": 32,
   "metadata": {},
   "outputs": [
    {
     "name": "stdout",
     "output_type": "stream",
     "text": [
      "Vixe! Ainda nao fiz o exercicio!\n"
     ]
    }
   ],
   "source": [
    "def main():\n",
    "    '''\n",
    "    Programa que le uma matriz de inteiros\n",
    "    com m linha e n colunas e imprime o numero de linhas\n",
    "    e de coluna nulas da matriz.\n",
    "    '''\n",
    "    # escreva o seu programa abaixo e remova o print()\n",
    "    print(\"Vixe! Ainda nao fiz o exercicio!\")\n",
    "\n",
    "#-----------------------------------------------\n",
    "if __name__ == '__main__':\n",
    "    main()"
   ]
  },
  {
   "cell_type": "code",
   "execution_count": null,
   "metadata": {},
   "outputs": [],
   "source": []
  }
 ],
 "metadata": {
  "kernelspec": {
   "display_name": "Python 3",
   "language": "python",
   "name": "python3"
  },
  "language_info": {
   "codemirror_mode": {
    "name": "ipython",
    "version": 3
   },
   "file_extension": ".py",
   "mimetype": "text/x-python",
   "name": "python",
   "nbconvert_exporter": "python",
   "pygments_lexer": "ipython3",
   "version": "3.7.4"
  }
 },
 "nbformat": 4,
 "nbformat_minor": 2
}
