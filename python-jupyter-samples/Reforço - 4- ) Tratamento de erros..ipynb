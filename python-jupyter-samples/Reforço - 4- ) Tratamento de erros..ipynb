{
 "cells": [
  {
   "cell_type": "markdown",
   "metadata": {},
   "source": [
    "<center><h2>Basico de Python (Tratamento de Erros)\n",
    "</center>"
   ]
  },
  {
   "cell_type": "markdown",
   "metadata": {},
   "source": [
    "Python indica os erros e as condições excepcionais através do lançamento de exceções, ainda que algumas das bibliotecas de terceiros do Python utilize técnicas mais antigas, como retorno de valores de <b>\"erro\"</b>"
   ]
  },
  {
   "cell_type": "code",
   "execution_count": 1,
   "metadata": {},
   "outputs": [
    {
     "name": "stdout",
     "output_type": "stream",
     "text": [
      "Something happended\n"
     ]
    }
   ],
   "source": [
    "#exemplo 1:\n",
    "\n",
    "k = 2\n",
    "n = 2\n",
    "\n",
    "try:\n",
    "    x = d[k/n]\n",
    "except Exception:\n",
    "    print(\"Something happended\")"
   ]
  },
  {
   "cell_type": "code",
   "execution_count": 4,
   "metadata": {},
   "outputs": [
    {
     "ename": "ZeroDivisionError",
     "evalue": "division by zero",
     "output_type": "error",
     "traceback": [
      "\u001b[0;31m---------------------------------------------------------------------------\u001b[0m",
      "\u001b[0;31mZeroDivisionError\u001b[0m                         Traceback (most recent call last)",
      "\u001b[0;32m<ipython-input-4-77c27b354813>\u001b[0m in \u001b[0;36m<module>\u001b[0;34m()\u001b[0m\n\u001b[1;32m      1\u001b[0m \u001b[0;31m# erro muito comum, veja que não tem erro de sintaxe da linguagem.\u001b[0m\u001b[0;34m\u001b[0m\u001b[0;34m\u001b[0m\u001b[0m\n\u001b[0;32m----> 2\u001b[0;31m \u001b[0;36m10\u001b[0m \u001b[0;34m*\u001b[0m \u001b[0;34m(\u001b[0m\u001b[0;36m1\u001b[0m\u001b[0;34m/\u001b[0m\u001b[0;36m0\u001b[0m\u001b[0;34m)\u001b[0m\u001b[0;34m\u001b[0m\u001b[0m\n\u001b[0m\u001b[1;32m      3\u001b[0m \u001b[0;31m# mas a um erro, grave não se da para fazer divisão por zero.\u001b[0m\u001b[0;34m\u001b[0m\u001b[0;34m\u001b[0m\u001b[0m\n",
      "\u001b[0;31mZeroDivisionError\u001b[0m: division by zero"
     ]
    }
   ],
   "source": [
    "# exemplo 2. erro muito comum, veja que não tem erro de sintaxe da linguagem.\n",
    "10 * (1/0)\n",
    "# mas a um erro, grave não se da para fazer divisão por zero."
   ]
  },
  {
   "cell_type": "code",
   "execution_count": 10,
   "metadata": {},
   "outputs": [
    {
     "name": "stdout",
     "output_type": "stream",
     "text": [
      "Por favor, informe um número: x\n",
      "Oops!  Não foi um número válido.  Tente novamente...\n",
      "Por favor, informe um número: x\n",
      "Oops!  Não foi um número válido.  Tente novamente...\n",
      "Por favor, informe um número: x\n",
      "Oops!  Não foi um número válido.  Tente novamente...\n",
      "Por favor, informe um número: x\n",
      "Oops!  Não foi um número válido.  Tente novamente...\n",
      "Por favor, informe um número: x\n",
      "Oops!  Não foi um número válido.  Tente novamente...\n",
      "Por favor, informe um número: x\n",
      "Oops!  Não foi um número válido.  Tente novamente...\n",
      "Por favor, informe um número: x\n",
      "Oops!  Não foi um número válido.  Tente novamente...\n",
      "Por favor, informe um número: 1\n"
     ]
    }
   ],
   "source": [
    "# exemplo 3. veja como tratar esse erro:\n",
    "\n",
    "while True:\n",
    "    try:\n",
    "        x = int(input(\"Por favor, informe um número: \"))\n",
    "        break\n",
    "    except ValueError:\n",
    "        print(\"Oops!  Não foi um número válido.  Tente novamente...\")"
   ]
  },
  {
   "cell_type": "code",
   "execution_count": 13,
   "metadata": {},
   "outputs": [
    {
     "name": "stdout",
     "output_type": "stream",
     "text": [
      "I/O error({0})\n"
     ]
    }
   ],
   "source": [
    "# exemplo 4. hierarquia de exeções:\n",
    "\n",
    "try:\n",
    "    f = open('meuarquivo.txt')\n",
    "    s = f.readline()\n",
    "    i = int(s.strip())\n",
    "except IOError:\n",
    "    print(\"I/O error({0})\")\n",
    "except ValueError:\n",
    "    print(\"Não foi possível converter o dado para inteiro.\")\n",
    "except:\n",
    "    print (\"Erro inesperado:\", sys.exc_info()[0])\n",
    "    raise"
   ]
  },
  {
   "cell_type": "markdown",
   "metadata": {},
   "source": [
    "<b>Exercicio: </b> Aprendemos bem até aqui, então faça uma calculadora. <br/>\n",
    "<b><i>Observação: </b></i> Trate os erros"
   ]
  },
  {
   "cell_type": "code",
   "execution_count": null,
   "metadata": {
    "collapsed": true
   },
   "outputs": [],
   "source": []
  }
 ],
 "metadata": {
  "kernelspec": {
   "display_name": "Python 3",
   "language": "python",
   "name": "python3"
  },
  "language_info": {
   "codemirror_mode": {
    "name": "ipython",
    "version": 3
   },
   "file_extension": ".py",
   "mimetype": "text/x-python",
   "name": "python",
   "nbconvert_exporter": "python",
   "pygments_lexer": "ipython3",
   "version": "3.5.6"
  }
 },
 "nbformat": 4,
 "nbformat_minor": 2
}
