{
 "cells": [
  {
   "cell_type": "markdown",
   "metadata": {},
   "source": [
    "## Live University"
   ]
  },
  {
   "cell_type": "markdown",
   "metadata": {},
   "source": [
    "### Python Básico - Variáveis e Estruturas de Dados\n",
    "\n",
    "\n",
    "<img src=\"http://blog.klocwork.com/wp-content/uploads/2016/01/python-logo.png\" align=left>"
   ]
  },
  {
   "cell_type": "markdown",
   "metadata": {},
   "source": [
    "## Indentação\n",
    "\n",
    "Antes de começar a introduzir variáveis e estruturas de dados é necessário introduzir um aspecto fundamental do Python: a indentação\n",
    "\n",
    "Indentação é o recuo do texto em relação a margem. Essa estruturação existe para definir a hierarquia dos blocos de código. \n",
    "O código no Python é executado de cima para baixo, mas além disso, é executado também de acordo com a indentação. Na estrutura dos algoritmos, os blocos de código são delimitados pela profundidade da indentação. \n",
    "\n",
    "Por padrão, os blocos de código são indentados de 4 em 4 espaços. Não respeitar essa regra pode causar mau funcionamento do código e erros. Por exemplo, uma simples mudança na indentação do comando <em>return</em> em uma função que envolve estruturas de repetição pode gerar diferenças enormes no resultado da função. \n",
    "\n",
    "#### Exemplo de indentação no Python:\n",
    "\n",
    "Bloco1\n",
    "\n",
    "    Bloco1.1\n",
    "    \n",
    "        Bloco1.2\n",
    "         \n",
    "            Bloco1.3\n",
    "\n",
    "Bloco2\n",
    "\n",
    "    Bloco2.1\n",
    "...\n"
   ]
  },
  {
   "cell_type": "markdown",
   "metadata": {},
   "source": [
    "## Variáveis \n"
   ]
  },
  {
   "cell_type": "markdown",
   "metadata": {},
   "source": [
    "Uma variável nos permite gravar arquivos na memória e acessá-los rapidamente por nome e usar durante o algoritmo.\n",
    "Um comando de atribuição cria uma nova variável e atribui um valor.\n",
    "\n",
    "Como foi visto na aula anterior, variáveis podem assumir diferentes tipos de valores (tipos de dados), números inteiros ou decimais, texto, valores booleanos, etc.\n",
    "\n",
    "A sintaxe básica de associação chave valor:\n",
    "\n",
    "<strong>Nome da variável = Valor da variável</strong>"
   ]
  },
  {
   "cell_type": "code",
   "execution_count": null,
   "metadata": {},
   "outputs": [],
   "source": [
    "meu_nome = 'Lucas'\n",
    "print(meu_nome)"
   ]
  },
  {
   "cell_type": "markdown",
   "metadata": {},
   "source": [
    "Uma das funções mais básicas do Python é o método \"print\" (métodos serão abordados mais a frente). Como o próprio nome diz, a função do print é exibir o que foi passado como argumento. No exemplo da célula acima, o print exibiu o valor associado a variável meu_nome"
   ]
  },
  {
   "cell_type": "code",
   "execution_count": null,
   "metadata": {},
   "outputs": [],
   "source": [
    "pi = 3.14\n",
    "print(pi)"
   ]
  },
  {
   "cell_type": "code",
   "execution_count": null,
   "metadata": {},
   "outputs": [],
   "source": [
    "Live_University_top = True\n",
    "print(Live_University_top)"
   ]
  },
  {
   "cell_type": "markdown",
   "metadata": {},
   "source": [
    "#### Operações com variáveis"
   ]
  },
  {
   "cell_type": "markdown",
   "metadata": {},
   "source": [
    "Variáveis suportam diversas operações desde que se respeite o tipo de dado envolvido nas operações. Números com números, booleanos com booleanos, strings com strings (concatenação). Tentativas de operações entre dados de diferentes tipos gerarão erros."
   ]
  },
  {
   "cell_type": "code",
   "execution_count": null,
   "metadata": {},
   "outputs": [],
   "source": [
    "a = 1\n",
    "b = 2\n",
    "print(a + b)"
   ]
  },
  {
   "cell_type": "code",
   "execution_count": null,
   "metadata": {},
   "outputs": [],
   "source": [
    "a = \"meu nome é \"\n",
    "b = \"Caio\"\n",
    "print(a + b)"
   ]
  },
  {
   "cell_type": "code",
   "execution_count": null,
   "metadata": {},
   "outputs": [],
   "source": [
    "a = True\n",
    "b = False\n",
    "print(a + b)"
   ]
  },
  {
   "cell_type": "code",
   "execution_count": null,
   "metadata": {},
   "outputs": [],
   "source": [
    "a,b,c = 1,2,3\n",
    "print(b)"
   ]
  },
  {
   "cell_type": "markdown",
   "metadata": {},
   "source": [
    "Valores Booleanos representam valores binários, True = 1, False = 0. Na soma acima, True + False = 1 + 0 = 1"
   ]
  },
  {
   "cell_type": "code",
   "execution_count": null,
   "metadata": {},
   "outputs": [],
   "source": [
    "a = 1\n",
    "b = \"Laranja\"\n",
    "a + b"
   ]
  },
  {
   "cell_type": "markdown",
   "metadata": {},
   "source": [
    "A tentativa de soma de um Int (número inteiro) com uma String (texto) gerou um erro como já era esperado"
   ]
  },
  {
   "cell_type": "markdown",
   "metadata": {},
   "source": [
    "<strong>Mutabilidade</strong>\n",
    "\n",
    "Como o próprio nome sugere, variáveis podem assumir valores diferentes, em tempos diferentes, em ordens diferentes, ou seja, elas <strong>variam</strong>. \n",
    "Variáveis numéricas por exemplo podem ser cumulativas. Isso ocorre pois o Python executa o código de cima para baixo, por ordem. "
   ]
  },
  {
   "cell_type": "code",
   "execution_count": null,
   "metadata": {},
   "outputs": [],
   "source": [
    "a = 1\n",
    "a = a + 1\n",
    "a = a + 1\n",
    "print(a)"
   ]
  },
  {
   "cell_type": "code",
   "execution_count": null,
   "metadata": {},
   "outputs": [],
   "source": [
    "time = \"Corinthians\"\n",
    "time = \"Palmeiras\"\n",
    "print(time)"
   ]
  },
  {
   "cell_type": "markdown",
   "metadata": {},
   "source": [
    "Uma boa (fundamental) prática na hora de declarar variáveis é utilizar nomes o mais pertinentes possíveis para expressar o que o valor da variável representa. Isso auxilia muito o entendimento e a clareza do código, tanto para você mesmo que está desenvolvendo - especialmente se for um código extenso - e principalmente para pessoas que venham a acessar seu código (seja por manutenção ou qualquer outro motivo).\n",
    "\n",
    "As duas maneiras mais adotadas de se nomear variáveis:\n",
    "\n",
    "1- ) como camelcase: \n",
    "custoMaterial\n",
    "\n",
    "2- ) com uso de _ :\n",
    "custo_material"
   ]
  },
  {
   "cell_type": "markdown",
   "metadata": {},
   "source": [
    "<strong>Posso usar todas as palavras para declarar variáveis? NÃO!</strong>"
   ]
  },
  {
   "cell_type": "markdown",
   "metadata": {},
   "source": [
    "<table style=\"width:100%\">\n",
    "  <tr>\n",
    "    <td>False</td>\n",
    "    <td>None</td> \n",
    "    <td>True</td>\n",
    "    <td>and</td>\n",
    "    <td>as</td>\n",
    "    <td>assert</td>\n",
    "    <td>break</td>\n",
    "  </tr>\n",
    "  <tr>\n",
    "    <td>class</td>\n",
    "    <td>continue</td> \n",
    "    <td>def</td>\n",
    "    <td>del</td>\n",
    "    <td>elif</td>\n",
    "    <td>else</td>\n",
    "    <td>except</td>\n",
    "  </tr>\n",
    "  <tr>\n",
    "    <td>finally</td>\n",
    "    <td>for</td> \n",
    "    <td>from</td>\n",
    "    <td>global</td>\n",
    "    <td>if</td>\n",
    "    <td>import</td>\n",
    "    <td>in</td>\n",
    "  </tr>\n",
    "  <tr>\n",
    "    <td>is</td>\n",
    "    <td>lambda</td> \n",
    "    <td>nonlocal</td>\n",
    "    <td>not</td>\n",
    "    <td>or</td>\n",
    "    <td>pass</td>\n",
    "    <td>raise</td>\n",
    "  </tr>\n",
    "  <tr>\n",
    "    <td>return</td>\n",
    "    <td>try</td> \n",
    "    <td>wihle</td>\n",
    "    <td>with</td>\n",
    "    <td>yield</td>\n",
    "    <td></td>\n",
    "    <td></td>\n",
    "  </tr>\n",
    "</table>"
   ]
  },
  {
   "cell_type": "markdown",
   "metadata": {},
   "source": [
    "As palavras reservadas definem as regras de sintaxe e estrutura da linguagem, e elas não podem ser usadas como nomes de variáveis. Python tem aproximadamente 30 palavras reservadas (e esse número pode variar, à medida em que a linguagem evolui):"
   ]
  },
  {
   "cell_type": "markdown",
   "metadata": {},
   "source": [
    "## Estruturas de Dados\n"
   ]
  },
  {
   "cell_type": "markdown",
   "metadata": {},
   "source": [
    "Variáveis que assumem um único valor não são a única maneira de se lidar com dados no Python. Existem diferentes estruturas de dados presentes no mundo da computação. Por se tratarem de estruturas contendo muitos valores, o Python fornece maneiras de acessar valores individuais dentro da estrutura de acordo com a maneira como os dados foram indexados.\n",
    "\n",
    "Tuplas e Listas indexam os dados de maneira posicional, ou seja, a ordem dos valores pode ser utilizado para acessá-los. \n",
    "\n",
    "OBSERVAÇÃO: no Python a posição de um valor não começa no 1, mas sim no 0. O primeiro valor de uma lista está na posição 0"
   ]
  },
  {
   "cell_type": "markdown",
   "metadata": {},
   "source": [
    "#### Tuplas\n",
    "\n",
    "nome da tupla = valores separados por vírgula (os valores podem tanto estar dentro de parêntesis quanto sem eles)"
   ]
  },
  {
   "cell_type": "code",
   "execution_count": null,
   "metadata": {},
   "outputs": [],
   "source": [
    "dias_chatos = ('segunda','terça')\n",
    "print(dias_uteis)"
   ]
  },
  {
   "cell_type": "code",
   "execution_count": null,
   "metadata": {},
   "outputs": [],
   "source": [
    "peso_altura = (70,1.90)\n",
    "print(peso_altura)"
   ]
  },
  {
   "cell_type": "markdown",
   "metadata": {},
   "source": [
    "##### Operações com tuplas"
   ]
  },
  {
   "cell_type": "code",
   "execution_count": null,
   "metadata": {},
   "outputs": [],
   "source": [
    "dias_uteis = 'segunda','terça','quarta','quinta','sexta'\n",
    "final_de_semana = 'sábado','domingo'\n",
    "dias_da_semana = dias_uteis + final_de_semana\n",
    "print(dias_da_semana)"
   ]
  },
  {
   "cell_type": "markdown",
   "metadata": {},
   "source": [
    "#### Listas\n",
    "\n",
    "nome da lista = [valore separados por virgulas]"
   ]
  },
  {
   "cell_type": "code",
   "execution_count": null,
   "metadata": {},
   "outputs": [],
   "source": [
    "sequencia_fibonacci = [0,1,1,2,3,5,8,13]\n",
    "print(sequencia_fibonacci)"
   ]
  },
  {
   "cell_type": "code",
   "execution_count": null,
   "metadata": {},
   "outputs": [],
   "source": [
    "# Acessando o segundo valor da sequencia_fibonacci\n",
    "sequencia_fibonacci[1]"
   ]
  },
  {
   "cell_type": "code",
   "execution_count": null,
   "metadata": {},
   "outputs": [],
   "source": [
    "# Acessando o último valor\n",
    "sequencia_fibonacci[-1]"
   ]
  },
  {
   "cell_type": "code",
   "execution_count": null,
   "metadata": {},
   "outputs": [],
   "source": [
    "# Alterando o primeiro valor da lista\n",
    "sequencia_fibonacci[0] = \"Número Zero\""
   ]
  },
  {
   "cell_type": "code",
   "execution_count": null,
   "metadata": {},
   "outputs": [],
   "source": [
    "# criando uma variável com os 4 primeiros valores da sequência fibonacci tirando o 0\n",
    "nova_lista = sequencia_fibonacci[1:5]\n",
    "print(nova_lista)"
   ]
  },
  {
   "cell_type": "code",
   "execution_count": null,
   "metadata": {},
   "outputs": [],
   "source": [
    "# função interna e método para se deletar itens de uma lista\n",
    "lista = [0,1,2,3,4,5]\n",
    "del lista[2] # remove o 3º item da lista (lembre que a ordem é 0,1,2,3..., então índice 2 = 3º item)\n",
    "lista.remove(5) # o método .remove remove os itens pelo valor deles, e não pela posição. Por (5) eu quiz dizer o valor = 5\n",
    "lista"
   ]
  },
  {
   "cell_type": "markdown",
   "metadata": {},
   "source": [
    "##### Operações com listas"
   ]
  },
  {
   "cell_type": "code",
   "execution_count": null,
   "metadata": {},
   "outputs": [],
   "source": [
    "lista1 = [1,2]\n",
    "lista2 = [3,4]\n",
    "nova_lista = lista1 + lista2\n",
    "print(nova_lista)"
   ]
  },
  {
   "cell_type": "code",
   "execution_count": null,
   "metadata": {},
   "outputs": [],
   "source": [
    "lista3 = [\"cinco\",\"seis\"]\n",
    "print(nova_lista + lista3)"
   ]
  },
  {
   "cell_type": "code",
   "execution_count": null,
   "metadata": {},
   "outputs": [],
   "source": [
    "lista = [0]*4\n",
    "print(lista)"
   ]
  },
  {
   "cell_type": "markdown",
   "metadata": {},
   "source": [
    "#### Matrizes\n",
    "\n",
    "listas dentro de listas"
   ]
  },
  {
   "cell_type": "code",
   "execution_count": null,
   "metadata": {},
   "outputs": [],
   "source": [
    "matriz = [ [0,0,0,1,0],\n",
    "            [0,0,0,0,0],\n",
    "            [0,2,0,0,0],\n",
    "            [0,0,0,0,0],\n",
    "            [0,0,0,3,0] ]\n",
    "matriz"
   ]
  },
  {
   "cell_type": "code",
   "execution_count": null,
   "metadata": {},
   "outputs": [],
   "source": [
    "# Acessando o quarto item da primeira linha\n",
    "print(matriz[0][3])"
   ]
  },
  {
   "cell_type": "markdown",
   "metadata": {},
   "source": [
    "#### Dicionários\n",
    "\n",
    "nome do dicionário = {\"nome da chave\" : valor}"
   ]
  },
  {
   "cell_type": "code",
   "execution_count": null,
   "metadata": {},
   "outputs": [],
   "source": [
    "inventario = {'abacaxis': 430, 'bananas': 312, 'laranjas': 525, 'peras': 217}\n",
    "print(inventario)"
   ]
  },
  {
   "cell_type": "code",
   "execution_count": null,
   "metadata": {},
   "outputs": [],
   "source": [
    "# Acessando as informações de inventário referentes a abacaxi\n",
    "print(inventario['abacaxis'])"
   ]
  },
  {
   "cell_type": "code",
   "execution_count": null,
   "metadata": {},
   "outputs": [],
   "source": [
    "# Adicionando um novo item\n",
    "inventario['morangos'] = 300\n",
    "inventario"
   ]
  },
  {
   "cell_type": "code",
   "execution_count": null,
   "metadata": {},
   "outputs": [],
   "source": [
    "# Deletando um item do dicionário \n",
    "del inventario['morangos']\n",
    "inventario"
   ]
  },
  {
   "cell_type": "markdown",
   "metadata": {},
   "source": [
    "O entendimento dos dados e de suas estruturas é parte obrigatória na vida de qualquer programador, e para cientistas de dados não poderia ser diferente.\n",
    "\n",
    "Todos os processos e algoritmos na ciência de dados envolvem a manipulação de estruturas de dados, seja em uma análise exploratória, seja na vizualização dos dados, seja na normalização e processamento dos dados, seja em algoritmos de aprendizagem de máquina (Machine Learning)"
   ]
  },
  {
   "cell_type": "markdown",
   "metadata": {},
   "source": [
    "## Coconstrução\n",
    "\n",
    "- Criando variáveis\n",
    "- Criando uma lista e adicionando novos elementos\n",
    "- Construindo um dicionário"
   ]
  },
  {
   "cell_type": "code",
   "execution_count": null,
   "metadata": {},
   "outputs": [],
   "source": [
    "# Criando variáveis\n"
   ]
  },
  {
   "cell_type": "code",
   "execution_count": null,
   "metadata": {},
   "outputs": [],
   "source": [
    "# Criando uma lista\n"
   ]
  },
  {
   "cell_type": "code",
   "execution_count": null,
   "metadata": {},
   "outputs": [],
   "source": [
    "# Construindo um dicionário\n"
   ]
  },
  {
   "cell_type": "markdown",
   "metadata": {},
   "source": [
    "### Exercícios\n",
    "\n",
    "- Execute a célula com o botão \"Run\". \n",
    "- Insira a sua resposta e aperte Enter\n",
    "- A célula retorna True se você acertar, False se você errar\n",
    "- Não altere o código"
   ]
  },
  {
   "cell_type": "markdown",
   "metadata": {},
   "source": [
    "1) Qual será o valor da variável \"c\" após rodar essa célula?\n"
   ]
  },
  {
   "cell_type": "code",
   "execution_count": null,
   "metadata": {},
   "outputs": [],
   "source": [
    "a = 1\n",
    "b = 2\n",
    "a = b + a\n",
    "b = a + b\n",
    "c = a + b\n",
    "\n",
    "resposta = int(input(\"Qual é o valor de c? \"))\n",
    "print(resposta == c)"
   ]
  },
  {
   "cell_type": "markdown",
   "metadata": {},
   "source": [
    "2) A quantidade de itens na lista será igual a quanto depois das seguintes operações?"
   ]
  },
  {
   "cell_type": "code",
   "execution_count": null,
   "metadata": {},
   "outputs": [],
   "source": [
    "lista = [1,3,None,4,True,3,10,[0,1,2,3]]\n",
    "lista[1] = lista[1:2]\n",
    "del lista[3]\n",
    "\n",
    "resposta = int(input('Quantos itens essa lista possui agora? '))\n",
    "print(resposta == len(lista))"
   ]
  },
  {
   "cell_type": "markdown",
   "metadata": {},
   "source": [
    "3) Quantas vezes os termos \"rio de janeiro\" e \"minas gerais\" aparecem na lista?"
   ]
  },
  {
   "cell_type": "code",
   "execution_count": null,
   "metadata": {},
   "outputs": [],
   "source": [
    "lista = [\"são paulo\",\"rio de janeiro\",\"minas gerais\",\"espírito santo\",'minas gerais','são paulo']\n",
    "lista[-2] = \"minas gerais\"\n",
    "lista[2] = \"rio de janeiro\"\n",
    "\n",
    "resposta1 = int(input('Quantas vezes o termo \"rio de janeiro\" aparece?  '))\n",
    "resposta2 = int(input('Quantas vezes o termo \"minas gerais\" aparece?  '))\n",
    "print(resposta1 == lista.count('rio de janeiro') and resposta2 == lista.count('minas gerais'))"
   ]
  },
  {
   "cell_type": "markdown",
   "metadata": {},
   "source": [
    "4) Quantas goiabas esse inventário passou a ter depois das seguintes operações?"
   ]
  },
  {
   "cell_type": "code",
   "execution_count": null,
   "metadata": {},
   "outputs": [],
   "source": [
    "inventario = {'abacaxis': 430, 'bananas': 312, 'laranjas': 525, 'peras': 217, 'morangos': 321,\n",
    "             'melão': 108, 'goiabas': 32}\n",
    "\n",
    "inventario['goiabas'] = inventario['goiabas'] + inventario['melão']\n",
    "inventario['melão'] = 216\n",
    "\n",
    "resposta = int(input(\" Quantas goiabas esse inventário possui? \"))\n",
    "print(resposta == inventario['goiabas'])"
   ]
  }
 ],
 "metadata": {
  "kernelspec": {
   "display_name": "Python 3",
   "language": "python",
   "name": "python3"
  },
  "language_info": {
   "codemirror_mode": {
    "name": "ipython",
    "version": 3
   },
   "file_extension": ".py",
   "mimetype": "text/x-python",
   "name": "python",
   "nbconvert_exporter": "python",
   "pygments_lexer": "ipython3",
   "version": "3.6.4"
  }
 },
 "nbformat": 4,
 "nbformat_minor": 2
}
