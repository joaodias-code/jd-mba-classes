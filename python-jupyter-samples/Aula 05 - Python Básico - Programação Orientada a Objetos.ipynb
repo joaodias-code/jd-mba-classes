{
 "cells": [
  {
   "cell_type": "markdown",
   "metadata": {},
   "source": [
    "## Live University"
   ]
  },
  {
   "cell_type": "markdown",
   "metadata": {},
   "source": [
    "### Python Básico - Programação Orientada a Objetos\n",
    "\n",
    "<img src=\"http://blog.klocwork.com/wp-content/uploads/2016/01/python-logo.png\" align=left>"
   ]
  },
  {
   "cell_type": "markdown",
   "metadata": {},
   "source": [
    "## Programação Orientada a Objetos "
   ]
  },
  {
   "cell_type": "markdown",
   "metadata": {},
   "source": [
    "<h5>Pensando no exemplo de uma receita de bolo.</h5>\n",
    "\n",
    "- Na programação estruturada, os ingredientes seriam considerados dados globais (variáveis globais). Com esses ingredientes, é realizado um passo a passo de preparo (procedimentos), onde o resultado é o bolo. \n",
    "- A programação orientada a objetos tem outra abordagem do mesmo problema: imagine que cada parte dessa situação é um objeto próprio, com atributos e métodos próprios (os ingredientes, o forno, o liquidificador, o cozinheiro), e o bolo é resultado das interações entre esses objetos. O objeto bolo, depois de ser preparado, pode ser relacionado a outros objetos, como uma pessoa atravéz do método <em>comer</em>, uma faca com o método <em>cortar</em>, etc.\n",
    "\n",
    "\n",
    "Em resumo, a programação é orientada a objetos que possuem seus próprios atributos e métodos, que interagem de diferentes maneiras com outros objetos com outros atributos e métodos específicos a eles.\n",
    "\n",
    "Um ponto fundamental da orientação a objetos é a <strong>Abstração</strong>. A abstração é a característica de se abstrair uma estrutura de programação a partir de situação real. A orientação a objetos é justamente a capacidade de se programar de acordo com o funcionamento real das coisas. Se pararmos para analisar o mundo real, conseguimos entender o motivo de existir a orientação a objetos. Imagine que você, o notebook na sua frente, as suas roupas, em resumo, tudo são objetos com características e funcionalidades próprias, exatamente o que é representado nesse tipo de programação. "
   ]
  },
  {
   "cell_type": "markdown",
   "metadata": {},
   "source": [
    "### Orientação a Objetos no Python"
   ]
  },
  {
   "cell_type": "markdown",
   "metadata": {},
   "source": [
    "Objetos no Python são \"instâncias\" de classes de objetos. Classes de objetos definem quais atributos e métodos um objeto deve possuir. Quando uma variável assume essa classe de objeto, declarando atributos iniciais, essa variável é um objeto instanciado daquela classe.\n",
    "\n",
    "Vejamos alguns exemplos"
   ]
  },
  {
   "cell_type": "code",
   "execution_count": null,
   "metadata": {},
   "outputs": [],
   "source": [
    "class Cachorro:\n",
    "    \n",
    "    def __init__(self, raca, cor, idade):\n",
    "        self.raca = raca\n",
    "        self.cor = cor\n",
    "        self.idade = idade\n",
    "\n",
    "shake = Cachorro('Beagle','Marrom',12)\n",
    "toby = Cachorro('Labrador','Preto',4)"
   ]
  },
  {
   "cell_type": "markdown",
   "metadata": {},
   "source": [
    "No exemplo acima, criamos uma classe Cachorro e duas instâncias dessa classe, <em>shake</em> e <em>toby</em>, que possuem valores específicos para atributos normais de um cachorro. "
   ]
  },
  {
   "cell_type": "code",
   "execution_count": null,
   "metadata": {},
   "outputs": [],
   "source": [
    "# classe Calculadora\n",
    "\n",
    "class Calculadora:\n",
    "\n",
    "    def __init__(self, a, b):\n",
    "        self.a = a\n",
    "        self.b = b\n",
    "\n",
    "    def soma(self):\n",
    "        return self.a + self.b\n",
    "\n",
    "    def subtrai(self):\n",
    "        return self.a - self.b\n",
    "\n",
    "    def multiplica(self):\n",
    "        return self.a * self.b\n",
    "\n",
    "    def divide(self):\n",
    "        if self.b == 0:\n",
    "            return ('Divisão por 0')\n",
    "        return self.a / self.b"
   ]
  },
  {
   "cell_type": "markdown",
   "metadata": {},
   "source": [
    "Na célula acima, temos um exemplo de classe Calculadora. O método __init__ é um método especial, que serve para inicializar os valores específicos para atributos da classe. No caso da calculadora, ela possui 2 atributos específicos, <em>a</em> e <em>b</em>. \n",
    "\n",
    "O termo <strong>self</strong> é um termo particular da orientação a objetos no Python, assim como o <strong>this</strong> no Java ou C. Ele serve para indicar que um atributo ou método pertence aquela classe e portanto, sempre deve ser passado como o primeiro parâmetro em qualquer atributo ou método pertencente a classe. \n"
   ]
  },
  {
   "cell_type": "code",
   "execution_count": null,
   "metadata": {},
   "outputs": [],
   "source": [
    "calculadora = Calculadora(4,6)"
   ]
  },
  {
   "cell_type": "markdown",
   "metadata": {},
   "source": [
    "Instanciar um objeto significa atribuir os atributos e métodos de uma classe a uma variável. Essa variável passa a ser um objeto da classe com valores definidos para os atributos dessa classe"
   ]
  },
  {
   "cell_type": "code",
   "execution_count": null,
   "metadata": {},
   "outputs": [],
   "source": [
    "calculadora.a"
   ]
  },
  {
   "cell_type": "code",
   "execution_count": null,
   "metadata": {},
   "outputs": [],
   "source": [
    "calculadora.divide()"
   ]
  },
  {
   "cell_type": "markdown",
   "metadata": {},
   "source": [
    "Nas células acima exploramos os atributos e métodos da classe"
   ]
  },
  {
   "cell_type": "markdown",
   "metadata": {},
   "source": [
    "### Herança de Classes\n",
    "\n",
    "\n",
    "\n",
    "Objetos podem assumir estruturas hierárquicas de herança, onde existem classes \"pai\" (ou superclasse), com atributos e métodos próprios (que do ponto de vista de modelagem de dados, são os atributos e métodos comuns a todos) e classes \"filha\" (ou subclasse), que herdam os atributos e métodos da classe Pai e de classes que estejam hierarquicamente acima da classe Pai, e que possuem também seus próprios atributos e métodos. \n",
    "\n",
    "Herança de classes é definida no Python com a seguinte sintaxe:\n",
    "\n",
    "class ClasseFilha(ClassePai):\n",
    "        \n",
    "        métodos ClasseFilho...\n",
    "        \n",
    "Vamos ver um exemplo"
   ]
  },
  {
   "cell_type": "code",
   "execution_count": null,
   "metadata": {},
   "outputs": [],
   "source": [
    "# Classe Fruta (Superclasse)\n",
    "\n",
    "class Fruta:\n",
    "    \n",
    "    def __init__(self, preco_unidade):\n",
    "        self.preco_unidade = preco_unidade\n",
    "    \n",
    "    def getPrecoUnidade(self):\n",
    "        return self.preco_unidade"
   ]
  },
  {
   "cell_type": "markdown",
   "metadata": {},
   "source": [
    "Primeiro criamos uma classe pai (Fruta). Ela tem apenas um atributo (preço por unidade) e um método que é justamente retornar o preço. "
   ]
  },
  {
   "cell_type": "code",
   "execution_count": null,
   "metadata": {},
   "outputs": [],
   "source": [
    "# Classe Feira (Subclasse)\n",
    "\n",
    "class Feira(Fruta):\n",
    "    \n",
    "    def __init__(self, qtd, preco_unidade):\n",
    "        self.qtd = qtd\n",
    "        super().__init__(preco_unidade)\n",
    "    \n",
    "    def setPreco(self):\n",
    "        self.preco = self.preco_unidade * self.qtd\n",
    "        return self.preco"
   ]
  },
  {
   "cell_type": "markdown",
   "metadata": {},
   "source": [
    "Depois criamos uma classe filha (Feira) que tem o atributo <em>qtd</em> (quantidade), e que herda o atributo <em>preco_unidade</em> da classe pai Fruta. Ela possue um método para gerar o preço de determinada fruta de acordo com o preço unitário e a quantidade da fruta."
   ]
  },
  {
   "cell_type": "code",
   "execution_count": null,
   "metadata": {},
   "outputs": [],
   "source": [
    "# Instanciando um objeto banana e um objeto maça e especificando os valores para os atributos da classe\n",
    "# 10 e 20 são relativos ao atributo \"qtd\"\n",
    "# 2.3 e 1.4 são valores relativos ao atributo \"preco_unidade\"\n",
    "\n",
    "banana = Feira(10, 2.3)\n",
    "maca = Feira(20, 1.4)"
   ]
  },
  {
   "cell_type": "markdown",
   "metadata": {},
   "source": [
    "Declaramos banana e maça como instâncias do objeto Feira, que por sua vez herda as características do objeto Fruta e especificamos os valores dessa classe:\n",
    "10 e 20 são relativos ao atributo \"qtd\"\n",
    " 2.3 e 1.4 são valores relativos ao atributo \"preco_unidade\""
   ]
  },
  {
   "cell_type": "code",
   "execution_count": null,
   "metadata": {},
   "outputs": [],
   "source": [
    "# utilizando um método da classe Pai\n",
    "banana.getPrecoUnidade()"
   ]
  },
  {
   "cell_type": "code",
   "execution_count": null,
   "metadata": {},
   "outputs": [],
   "source": [
    "# utilizando um método da classe Filho\n",
    "maca.setPreco()"
   ]
  },
  {
   "cell_type": "markdown",
   "metadata": {},
   "source": [
    "#### Vamos construir um cenário que envolve pessoas e a aposentadoria delas.\n",
    "\n",
    "- Vamos imaginar como seria uma abordagem orientada a objetos dessa situação.\n",
    "- O cálculo da aposentadoria vai ser simplificado nesse caso, leva em consideração apenas a idade e o sexo da pessoa.\n",
    "- A pessoa leva consigo informações sobre o ano de nascimento e o sexo dela.\n",
    "- A aposentadoria não tem atributos, mas o método de calcular a aposentadoria exige atributos da pessoa"
   ]
  },
  {
   "cell_type": "code",
   "execution_count": null,
   "metadata": {},
   "outputs": [],
   "source": [
    "# Desenvolvendo o código\n",
    "\n",
    "\n"
   ]
  },
  {
   "cell_type": "markdown",
   "metadata": {},
   "source": [
    "### Exercício\n",
    "\n",
    "1) Crie uma classe Paciente, que tem como atributos nome, ano de nascimento, peso e altura. Essa classe deve ter dois métodos:\n",
    "- Um método que retorna a idade da pessoa\n",
    "- Um segundo método que retorna o IMC (índice de massa corporal), dado pela fórmula: peso / altura², onde o peso é medido em quilos, e a altura em metros (o código deve saber trabalhar com a altura declarada tanto em metros (1.7) quanto em cm (170))\n",
    "- Crie uma instância desse objeto para verificar o funcionamento do código\n"
   ]
  },
  {
   "cell_type": "code",
   "execution_count": null,
   "metadata": {},
   "outputs": [],
   "source": [
    "# Desenvolva o código aqui\n",
    "\n",
    "        "
   ]
  },
  {
   "cell_type": "markdown",
   "metadata": {},
   "source": [
    "2) Crie uma classe filha da classe Paciente no exercício anterior chamada Triagem. Esse objeto não tem atributos próprios, e tem como único método classificar se o paciente está acima do peso informações da classe Pessoa. Crie categorias para classificação das pessoas. Esse método de classificação deve gerar uma mensagem direcionada para a pessoa, de acordo com a categoria em que ela foi classificada ( por exemplo abaixo do peso, peso ideal e acima do peso).\n",
    "\n",
    "Sinta-se a vontade para definir como serão computadas essas regras.\n",
    "\n",
    "Abaixo a tabela do IMC para referência.\n",
    "\n",
    "<table align='left'> \n",
    "\t<thead> \n",
    "\t\t<tr> \n",
    "\t\t\t<td>Resultado</td> \n",
    "\t\t\t<td>Situa&ccedil;&atilde;o</td> \n",
    "\t\t</tr> \n",
    "\t</thead> \n",
    "\t<tbody> \n",
    "\t\t<tr> \n",
    "\t\t\t<td>Abaixo de 17</td> \n",
    "\t\t\t<td>Muito abaixo do <em>peso</em></td> \n",
    "\t\t</tr> \n",
    "\t\t<tr> \n",
    "\t\t\t<td>Entre 17 e 18,49</td> \n",
    "\t\t\t<td>Abaixo do <em>peso</em></td> \n",
    "\t\t</tr> \n",
    "\t\t<tr> \n",
    "\t\t\t<td>Entre 18,5 e 24,99</td> \n",
    "\t\t\t<td><em>Peso</em> normal</td> \n",
    "\t\t</tr> \n",
    "\t\t<tr> \n",
    "\t\t\t<td>Entre 25 e 29,99</td> \n",
    "\t\t\t<td>Acima do <em>peso</em></td> \n",
    "\t\t</tr> \n",
    "\t\t<tr> \n",
    "\t\t\t<td>Entre 30 e 34,99</td> \n",
    "\t\t\t<td><em>Obesidade</em> I</td> \n",
    "\t\t</tr> \n",
    "\t\t<tr> \n",
    "\t\t\t<td>Entre 35 e 39,99</td> \n",
    "\t\t\t<td><em>Obesidade</em> II (severa)</td> \n",
    "\t\t</tr> \n",
    "\t\t<tr> \n",
    "\t\t\t<td>Acima de 40</td> \n",
    "\t\t\t<td><em>Obesidade</em> III (m&oacute;rbida)</td> \n",
    "\t\t</tr> \n",
    "\t</tbody> \n",
    "</table>"
   ]
  },
  {
   "cell_type": "code",
   "execution_count": null,
   "metadata": {},
   "outputs": [],
   "source": [
    "# Desenvolva o código aqui\n",
    "\n"
   ]
  },
  {
   "cell_type": "code",
   "execution_count": null,
   "metadata": {},
   "outputs": [],
   "source": []
  }
 ],
 "metadata": {
  "kernelspec": {
   "display_name": "Python 3",
   "language": "python",
   "name": "python3"
  },
  "language_info": {
   "codemirror_mode": {
    "name": "ipython",
    "version": 3
   },
   "file_extension": ".py",
   "mimetype": "text/x-python",
   "name": "python",
   "nbconvert_exporter": "python",
   "pygments_lexer": "ipython3",
   "version": "3.6.4"
  }
 },
 "nbformat": 4,
 "nbformat_minor": 2
}
