{
 "cells": [
  {
   "cell_type": "markdown",
   "metadata": {},
   "source": [
    "<center><h2>Basico de Python (Manipulação de Arquivos)\n",
    "</center>"
   ]
  },
  {
   "cell_type": "markdown",
   "metadata": {},
   "source": [
    "Até esse momento vimos textos que estão em códigos, não estão armazenados em nenhum lugar. E isso não é a realidade do dia a dia.\n",
    "\n",
    "Os dados semprem estão armazenados em algum lugar: sejam em bancos de dados, csv, audio, textos e etc.\n",
    "Nesta seção vamos estudar dados armazenados em textos, na aula de numero 4, vamos tratar dados armazenados em outras estruturas.\n",
    "\n",
    "Um ponto extreamente importante, é que essa é uma ativadade bem recorrente para pessoas que trabalam com dados, ou seja manipula-los em estruturas que estão em arquivos."
   ]
  },
  {
   "cell_type": "markdown",
   "metadata": {},
   "source": [
    "<b>Comandos Basicos:</b>\n",
    "\n",
    "<table align=\"left\">\n",
    "<tr>\n",
    "    <td>Descrição</td>\n",
    "    <td>Modos</td>\n",
    "</tr>\n",
    "\n",
    "<tr>\n",
    "    <td>r</td>\n",
    "    <td>Abre o arquivo de texto para leitura. O stream (fluxo de entrada ou saída) é posicionado no início do arquivo</td>\n",
    "</tr>\n",
    "\n",
    "<tr>\n",
    "    <td>r+</td>\n",
    "    <td>Abre para leitura e escrita. O fluxo é posicionado no início do arquivo.</td>\n",
    "</tr>\n",
    "\n",
    "<tr>\n",
    "    <td>w</td>\n",
    "    <td>Trunca o arquivo para zero ou cria um arquivo de texto para escrita. O stream é posicionado no início do arquivo.</td>\n",
    "</tr>\n",
    "\n",
    "<tr>\n",
    "    <td>w+</td>\n",
    "    <td>Abre para leitura e escrita. O arquivo é criado se ele não existir, caso contrário será sobreescrito. O stream é posicionado no início do arquivo.</td>\n",
    "</tr>\n",
    "\n",
    "<tr>\n",
    "    <td>r+</td>\n",
    "    <td>Abre para leitura e escrita. O fluxo é posicionado no início do arquivo.</td>\n",
    "</tr>\n",
    "\n",
    "</table>"
   ]
  },
  {
   "cell_type": "code",
   "execution_count": 5,
   "metadata": {},
   "outputs": [],
   "source": [
    "#exemplo 1.0 leitura do arquivo\n",
    "ref_arquivo = open(\"Reforço - Arquivo teste.txt\",\"r\")\n",
    "\n",
    "for linha in ref_arquivo:\n",
    "    valores = linha.split()\n",
    "    print(linha)\n",
    "    \n",
    "ref_arquivo.close()"
   ]
  },
  {
   "cell_type": "code",
   "execution_count": 4,
   "metadata": {},
   "outputs": [
    {
     "ename": "FileNotFoundError",
     "evalue": "[Errno 2] No such file or directory: 'text.txt'",
     "output_type": "error",
     "traceback": [
      "\u001b[1;31m---------------------------------------------------------------------------\u001b[0m",
      "\u001b[1;31mFileNotFoundError\u001b[0m                         Traceback (most recent call last)",
      "\u001b[1;32m<ipython-input-4-c10ee396e4b9>\u001b[0m in \u001b[0;36m<module>\u001b[1;34m\u001b[0m\n\u001b[0;32m      1\u001b[0m \u001b[1;31m#exemplo 2.0 - gerar um array dos valores.\u001b[0m\u001b[1;33m\u001b[0m\u001b[1;33m\u001b[0m\u001b[1;33m\u001b[0m\u001b[0m\n\u001b[0;32m      2\u001b[0m \u001b[1;33m\u001b[0m\u001b[0m\n\u001b[1;32m----> 3\u001b[1;33m \u001b[0mref_arquivo\u001b[0m \u001b[1;33m=\u001b[0m \u001b[0mopen\u001b[0m\u001b[1;33m(\u001b[0m\u001b[1;34m\"text.txt\"\u001b[0m\u001b[1;33m,\u001b[0m\u001b[1;34m\"r\"\u001b[0m\u001b[1;33m)\u001b[0m\u001b[1;33m\u001b[0m\u001b[1;33m\u001b[0m\u001b[0m\n\u001b[0m\u001b[0;32m      4\u001b[0m \u001b[0mlinha\u001b[0m \u001b[1;33m=\u001b[0m \u001b[0mref_arquivo\u001b[0m\u001b[1;33m.\u001b[0m\u001b[0mreadline\u001b[0m\u001b[1;33m(\u001b[0m\u001b[1;33m)\u001b[0m\u001b[1;33m\u001b[0m\u001b[1;33m\u001b[0m\u001b[0m\n\u001b[0;32m      5\u001b[0m \u001b[1;32mwhile\u001b[0m \u001b[0mlinha\u001b[0m\u001b[1;33m:\u001b[0m\u001b[1;33m\u001b[0m\u001b[1;33m\u001b[0m\u001b[0m\n",
      "\u001b[1;31mFileNotFoundError\u001b[0m: [Errno 2] No such file or directory: 'text.txt'"
     ]
    }
   ],
   "source": [
    "#exemplo 2.0 - gerar um array dos valores.\n",
    "\n",
    "ref_arquivo = open(\"text.txt\",\"r\")\n",
    "linha = ref_arquivo.readline()\n",
    "while linha:\n",
    "    valores = linha.split()\n",
    "    print(valores)\n",
    "    linha = ref_arquivo.readline()\n",
    "\n",
    "ref_arquivo.close()"
   ]
  },
  {
   "cell_type": "code",
   "execution_count": 10,
   "metadata": {},
   "outputs": [
    {
     "name": "stdout",
     "output_type": "stream",
     "text": [
      "Qual arquivo procura:x\n"
     ]
    }
   ],
   "source": [
    "#exemplo 3.0 - arquivo com tratamento de exceção e criação de arquivo de log\n",
    "\n",
    "try:\n",
    "    nome_arquivo = input('Qual arquivo procura:')\n",
    "    arquivo = open(nome_arquivo, 'r+')\n",
    "    linha = arquivo.readline()\n",
    "    while linha:\n",
    "        print(linha)\n",
    "        linha = arquivo.readline()\n",
    "except FileNotFoundError:\n",
    "    arquivo = open(nome_arquivo, 'w+')\n",
    "    arquivo.writelines(u'Arquivo criado pois nao existia')\n",
    "arquivo.close()"
   ]
  },
  {
   "cell_type": "markdown",
   "metadata": {},
   "source": [
    "<b>Exercicio: </b> crie um arquivo com o texto acima, abra o arquivo para leitura, identifique as seguintes palavras: gol, jogo. Conte quantas vezes elas aparecem.\n",
    "\n",
    "Utilize o \"split\" para contar quantas vezes a palavra aparece."
   ]
  },
  {
   "cell_type": "code",
   "execution_count": 39,
   "metadata": {},
   "outputs": [
    {
     "name": "stdout",
     "output_type": "stream",
     "text": [
      "{'jogo': 2, 'gol': 1}\n"
     ]
    }
   ],
   "source": [
    "arquivo = open('Reforço - Arquivo texto exercicio.txt', 'r')\n",
    "\n",
    "palavras_find = ['gol', 'jogo']\n",
    "palavras = []\n",
    "\n",
    "palavras = arquivo.read().replace(',','').split()\n",
    "\n",
    "count = {p: palavras.count(p) for p in palavras if p in palavras_find}\n",
    "\n",
    "arquivo.close()\n",
    "\n",
    "print(count)"
   ]
  },
  {
   "cell_type": "markdown",
   "metadata": {},
   "source": [
    "Exercicio Calculadora: criar calculadora com tratamento de exceção:"
   ]
  },
  {
   "cell_type": "code",
   "execution_count": 38,
   "metadata": {},
   "outputs": [
    {
     "name": "stdout",
     "output_type": "stream",
     "text": [
      "Valor 1: 23\n",
      "Valor 2: 0\n",
      "23.0\n",
      "Não é possível divisão por zero!\n",
      "23.0\n",
      "0.0\n"
     ]
    }
   ],
   "source": [
    "class Calculadora():\n",
    "    \n",
    "    def som(self, a, b):\n",
    "        try:\n",
    "            return a + b;\n",
    "        except:\n",
    "            print('Valores incorretos!')\n",
    "    \n",
    "    def div(self, a, b): \n",
    "        try: \n",
    "            return a / b\n",
    "        except ZeroDivisionError:\n",
    "            return 'Não é possível divisão por zero!'\n",
    "        except:\n",
    "            return 'Valores incorretos!'\n",
    "        \n",
    "    \n",
    "    def sub(self, a, b):\n",
    "        try:\n",
    "            return a - b;\n",
    "        except:\n",
    "            return 'Valores incorretos!'\n",
    "    \n",
    "    def mul(self, a, b):\n",
    "        try:\n",
    "            return a * b;\n",
    "        except:\n",
    "            return 'Valores incorretos!'\n",
    "\n",
    "a = float(input(\"Valor 1: \"))\n",
    "b = float(input(\"Valor 2: \"))\n",
    "calc = Calculadora() \n",
    "print(calc.som(a,b))\n",
    "print(calc.div(a,b))\n",
    "print(calc.sub(a,b))\n",
    "print(calc.mul(a,b))"
   ]
  }
 ],
 "metadata": {
  "kernelspec": {
   "display_name": "Python 3",
   "language": "python",
   "name": "python3"
  },
  "language_info": {
   "codemirror_mode": {
    "name": "ipython",
    "version": 3
   },
   "file_extension": ".py",
   "mimetype": "text/x-python",
   "name": "python",
   "nbconvert_exporter": "python",
   "pygments_lexer": "ipython3",
   "version": "3.7.4"
  }
 },
 "nbformat": 4,
 "nbformat_minor": 2
}
