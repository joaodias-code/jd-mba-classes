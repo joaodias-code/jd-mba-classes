{
 "cells": [
  {
   "cell_type": "markdown",
   "metadata": {},
   "source": [
    "<center><h2>Basico de Python (Classes)\n",
    "</center>"
   ]
  },
  {
   "cell_type": "markdown",
   "metadata": {},
   "source": [
    "Em orientação a objeto, temos um conceito chamado classes. Classes tem a função de representar a realidade fisica para dentro de uma modelagem de sistema.\n",
    "\n",
    "Em classes, temos conceictos como:\n",
    "\n",
    "-> metodos\n",
    "-> atributos\n",
    "-> herança\n",
    "\n",
    "Esses conceitos são importantes para continuação do nosso aprendizado."
   ]
  },
  {
   "cell_type": "code",
   "execution_count": 14,
   "metadata": {},
   "outputs": [],
   "source": [
    "#exemplo 01: criando uma classe\n",
    "\n",
    "class Pessoa:\n",
    "    def __init__(self, nome, idade):\n",
    "        self.nome = nome\n",
    "        self.idade = idade\n",
    "     \n",
    "    def setNome(self, nome):\n",
    "        self.nome = nome\n",
    "        print(\"Seu nome\")\n",
    "     \n",
    "    def setIdade(self, idade):\n",
    "        self.idade = idade\n",
    "     \n",
    "    def getNome(self):\n",
    "        return self.nome\n",
    "         \n",
    "    def getIdade(self):\n",
    "        return self.idade"
   ]
  },
  {
   "cell_type": "code",
   "execution_count": 16,
   "metadata": {},
   "outputs": [],
   "source": [
    "pessoa = Pessoa('Thiago', 35)"
   ]
  },
  {
   "cell_type": "code",
   "execution_count": 17,
   "metadata": {},
   "outputs": [
    {
     "data": {
      "text/plain": [
       "35"
      ]
     },
     "execution_count": 17,
     "metadata": {},
     "output_type": "execute_result"
    }
   ],
   "source": [
    "pessoa.getIdade()"
   ]
  },
  {
   "cell_type": "code",
   "execution_count": 6,
   "metadata": {},
   "outputs": [],
   "source": [
    "pessoa.setIdade(34)"
   ]
  },
  {
   "cell_type": "code",
   "execution_count": 7,
   "metadata": {},
   "outputs": [
    {
     "data": {
      "text/plain": [
       "34"
      ]
     },
     "execution_count": 7,
     "metadata": {},
     "output_type": "execute_result"
    }
   ],
   "source": [
    "pessoa.getIdade()"
   ]
  },
  {
   "cell_type": "code",
   "execution_count": 4,
   "metadata": {},
   "outputs": [
    {
     "name": "stdin",
     "output_type": "stream",
     "text": [
      "njmero 5\n"
     ]
    },
    {
     "name": "stdout",
     "output_type": "stream",
     "text": [
      "valor 5\n"
     ]
    }
   ],
   "source": [
    "a = int(input('njmero'))\n",
    "print('valor', a)"
   ]
  },
  {
   "cell_type": "markdown",
   "metadata": {},
   "source": [
    "No exemplo acima, podemos perceber algumas coisas que até o momento não eram comuns ao nosso dia a dia. <br/>\n",
    "<b>class:</b> é necessaria para se declarar uma classe. <br/>\n",
    "<b>def:<b/> é uma palavra reservada usada para delimitar o inicio de um metodo. <br/>\n",
    "<b>():</b> temos as variaveis que até aqui são chamadas de parametros do metodo. <br/>\n",
    "<b>self:</b> funciona como um atributo que informa que o parametro será usado no escopo daquele determinado metodo."
   ]
  },
  {
   "cell_type": "markdown",
   "metadata": {},
   "source": [
    "<b>Herança:</b> Basicamente, dizemos que a herança ocorre quando uma classe (filha) herda características e métodos de uma outra classe (pai), mas não impede de que a classe filha possua seus próprios métodos e atributos"
   ]
  },
  {
   "cell_type": "code",
   "execution_count": 18,
   "metadata": {},
   "outputs": [],
   "source": [
    "#exemplo02: Criando uma classe com herança:\n",
    "\n",
    "class PessoaFisica(Pessoa):\n",
    "   def __init__(self, CPF, nome, idade):\n",
    "       super().__init__(nome, idade)\n",
    "       self.CPF = CPF\n",
    "    \n",
    "   def getCPF(self):\n",
    "       return self.CPF\n",
    "    \n",
    "   def setCPF(self, CPF):\n",
    "       self.CPF = CPF"
   ]
  },
  {
   "cell_type": "markdown",
   "metadata": {},
   "source": [
    "<b>Observação: </b> Um ponto super importante para entendermos aqui. Como estamos trabalhando dentro do mesmo arquivo não tempos a necessidade de importar\n",
    "o pacote onde a classe pai esta em questão, porem quando queremos chamar ou herdar uma classe que esta em outro pacote,\n",
    "temos que antes realizar a importação do arquivo. Ex: <i><b>from pessoa import Pessoa</b></i>"
   ]
  },
  {
   "cell_type": "code",
   "execution_count": 20,
   "metadata": {},
   "outputs": [],
   "source": [
    "pf = PessoaFisica(32,\"Thiago Rolemberg\",33333)"
   ]
  },
  {
   "cell_type": "code",
   "execution_count": 21,
   "metadata": {},
   "outputs": [
    {
     "data": {
      "text/plain": [
       "'Thiago Rolemberg'"
      ]
     },
     "execution_count": 21,
     "metadata": {},
     "output_type": "execute_result"
    }
   ],
   "source": [
    "pf.getNome()"
   ]
  },
  {
   "cell_type": "markdown",
   "metadata": {},
   "source": [
    "<b>Exercicio: </b> O desafio agora funcionará da seguinte forma, vamos continuar na feira. Crie uma classe Fruta (essa será a classe pai) inclua nela os metodos que são pertinentes a ela. Cria 2 classes filhas: Banana e Maça, ambas devem herdar da classe pai. Alem das informações basicas, a classe pai tem que ter um metodo de preço, que ser˜"
   ]
  }
 ],
 "metadata": {
  "kernelspec": {
   "display_name": "Python 3",
   "language": "python",
   "name": "python3"
  },
  "language_info": {
   "codemirror_mode": {
    "name": "ipython",
    "version": 3
   },
   "file_extension": ".py",
   "mimetype": "text/x-python",
   "name": "python",
   "nbconvert_exporter": "python",
   "pygments_lexer": "ipython3",
   "version": "3.5.6"
  }
 },
 "nbformat": 4,
 "nbformat_minor": 2
}
