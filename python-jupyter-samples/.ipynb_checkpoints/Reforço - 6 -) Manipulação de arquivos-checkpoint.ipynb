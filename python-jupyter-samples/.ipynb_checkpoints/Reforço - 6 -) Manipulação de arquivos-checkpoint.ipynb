{
 "cells": [
  {
   "cell_type": "markdown",
   "metadata": {},
   "source": [
    "<center><h2>Basico de Python (Manipulação de Arquivos)\n",
    "</center>"
   ]
  },
  {
   "cell_type": "markdown",
   "metadata": {},
   "source": [
    "Até esse momento vimos textos que estão em códigos, não estão armazenados em nenhum lugar. E isso não é a realidade do dia a dia.\n",
    "\n",
    "Os dados semprem estão armazenados em algum lugar: sejam em bancos de dados, csv, audio, textos e etc.\n",
    "Nesta seção vamos estudar dados armazenados em textos, na aula de numero 4, vamos tratar dados armazenados em outras estruturas.\n",
    "\n",
    "Um ponto extreamente importante, é que essa é uma ativadade bem recorrente para pessoas que trabalam com dados, ou seja manipula-los em estruturas que estão em arquivos."
   ]
  },
  {
   "cell_type": "markdown",
   "metadata": {},
   "source": [
    "<b>Comandos Basicos:</b>\n",
    "\n",
    "<table align=\"left\">\n",
    "<tr>\n",
    "    <td>Descrição</td>\n",
    "    <td>Modos</td>\n",
    "</tr>\n",
    "\n",
    "<tr>\n",
    "    <td>r</td>\n",
    "    <td>Abre o arquivo de texto para leitura. O stream (fluxo de entrada ou saída) é posicionado no início do arquivo</td>\n",
    "</tr>\n",
    "\n",
    "<tr>\n",
    "    <td>r+</td>\n",
    "    <td>Abre para leitura e escrita. O fluxo é posicionado no início do arquivo.</td>\n",
    "</tr>\n",
    "\n",
    "<tr>\n",
    "    <td>w</td>\n",
    "    <td>Trunca o arquivo para zero ou cria um arquivo de texto para escrita. O stream é posicionado no início do arquivo.</td>\n",
    "</tr>\n",
    "\n",
    "<tr>\n",
    "    <td>w+</td>\n",
    "    <td>Abre para leitura e escrita. O arquivo é criado se ele não existir, caso contrário será sobreescrito. O stream é posicionado no início do arquivo.</td>\n",
    "</tr>\n",
    "\n",
    "<tr>\n",
    "    <td>r+</td>\n",
    "    <td>Abre para leitura e escrita. O fluxo é posicionado no início do arquivo.</td>\n",
    "</tr>\n",
    "\n",
    "</table>"
   ]
  },
  {
   "cell_type": "code",
   "execution_count": 4,
   "metadata": {},
   "outputs": [
    {
     "name": "stdout",
     "output_type": "stream",
     "text": [
      "A polêmica tomou conta do jogo entre Cruzeiro e Santos nesta quarta-feira, no Mineirão. O Alvinegro ia vencendo por 2 a 1 e teria uma oportunidade claríssima para fazer o terceiro gol e carimbar a vaga para a semifinal da Copa do Brasil no último minuto. Teria.\n",
      "\n",
      "\n",
      "\n",
      "Aos 49 minutos do segundo tempo, o Cruzeiro ganhou uma falta na intermediária. O árbitro Rodolpho Toski Marques, que havia dado quatro minutos de acréscimo, deu mais um minuto. O jogo, portanto, iria até os 50.\n",
      "\n",
      "\n",
      "\n",
      "Após a cobrança da falta, o Santos armou um contra-ataque, e Gabigol sairia livre, cara a cara com Fábio, mas o árbitro encerrou a partida a quatro segundos dos 50 minutos prometidos e gerou toda a polêmica.\n",
      "\n",
      "\n",
      "\n",
      "Para Carlos Cereto, que participou do Redação SporTV desta quinta-feira, o Santos foi claramente prejudicado e faltou bom senso ao juiz. O jornalista ainda brincou, dizendo que o árbitro \"merecia cartão vermelho direto\".\n"
     ]
    }
   ],
   "source": [
    "#exemplo 1.0 leitura do arquivo\n",
    "ref_arquivo = open(\"text.txt\",\"r\")\n",
    "\n",
    "for linha in ref_arquivo:\n",
    "    valores = linha.split()\n",
    "    print(linha)\n",
    "    \n",
    "ref_arquivo.close()"
   ]
  },
  {
   "cell_type": "code",
   "execution_count": 5,
   "metadata": {},
   "outputs": [
    {
     "name": "stdout",
     "output_type": "stream",
     "text": [
      "['A', 'polêmica', 'tomou', 'conta', 'do', 'jogo', 'entre', 'Cruzeiro', 'e', 'Santos', 'nesta', 'quarta-feira,', 'no', 'Mineirão.', 'O', 'Alvinegro', 'ia', 'vencendo', 'por', '2', 'a', '1', 'e', 'teria', 'uma', 'oportunidade', 'claríssima', 'para', 'fazer', 'o', 'terceiro', 'gol', 'e', 'carimbar', 'a', 'vaga', 'para', 'a', 'semifinal', 'da', 'Copa', 'do', 'Brasil', 'no', 'último', 'minuto.', 'Teria.']\n",
      "[]\n",
      "['Aos', '49', 'minutos', 'do', 'segundo', 'tempo,', 'o', 'Cruzeiro', 'ganhou', 'uma', 'falta', 'na', 'intermediária.', 'O', 'árbitro', 'Rodolpho', 'Toski', 'Marques,', 'que', 'havia', 'dado', 'quatro', 'minutos', 'de', 'acréscimo,', 'deu', 'mais', 'um', 'minuto.', 'O', 'jogo,', 'portanto,', 'iria', 'até', 'os', '50.']\n",
      "[]\n",
      "['Após', 'a', 'cobrança', 'da', 'falta,', 'o', 'Santos', 'armou', 'um', 'contra-ataque,', 'e', 'Gabigol', 'sairia', 'livre,', 'cara', 'a', 'cara', 'com', 'Fábio,', 'mas', 'o', 'árbitro', 'encerrou', 'a', 'partida', 'a', 'quatro', 'segundos', 'dos', '50', 'minutos', 'prometidos', 'e', 'gerou', 'toda', 'a', 'polêmica.']\n",
      "[]\n",
      "['Para', 'Carlos', 'Cereto,', 'que', 'participou', 'do', 'Redação', 'SporTV', 'desta', 'quinta-feira,', 'o', 'Santos', 'foi', 'claramente', 'prejudicado', 'e', 'faltou', 'bom', 'senso', 'ao', 'juiz.', 'O', 'jornalista', 'ainda', 'brincou,', 'dizendo', 'que', 'o', 'árbitro', '\"merecia', 'cartão', 'vermelho', 'direto\".']\n"
     ]
    }
   ],
   "source": [
    "#exemplo 2.0 - gerar um array dos valores.\n",
    "\n",
    "ref_arquivo = open(\"text.txt\",\"r\")\n",
    "linha = ref_arquivo.readline()\n",
    "while linha:\n",
    "    valores = linha.split()\n",
    "    print(valores)\n",
    "    linha = ref_arquivo.readline()\n",
    "\n",
    "ref_arquivo.close()"
   ]
  },
  {
   "cell_type": "code",
   "execution_count": 10,
   "metadata": {},
   "outputs": [
    {
     "name": "stdout",
     "output_type": "stream",
     "text": [
      "Qual arquivo procura:x\n"
     ]
    }
   ],
   "source": [
    "#exemplo 3.0 - arquivo com tratamento de exceção e criação de arquivo de log\n",
    "\n",
    "try:\n",
    "    nome_arquivo = input('Qual arquivo procura:')\n",
    "    arquivo = open(nome_arquivo, 'r+')\n",
    "    linha = arquivo.readline()\n",
    "    while linha:\n",
    "        print(linha)\n",
    "        linha = arquivo.readline()\n",
    "except FileNotFoundError:\n",
    "    arquivo = open(nome_arquivo, 'w+')\n",
    "    arquivo.writelines(u'Arquivo criado pois nao existia')\n",
    "arquivo.close()"
   ]
  },
  {
   "cell_type": "markdown",
   "metadata": {},
   "source": [
    "<b>Exercicio: </b> existe um arquivo chamado, exercicio_tratamento_erro.txt, abra o arquivo para leitura, identifique as seguintes palavras: trabalho, trism"
   ]
  }
 ],
 "metadata": {
  "kernelspec": {
   "display_name": "Python 3",
   "language": "python",
   "name": "python3"
  },
  "language_info": {
   "codemirror_mode": {
    "name": "ipython",
    "version": 3
   },
   "file_extension": ".py",
   "mimetype": "text/x-python",
   "name": "python",
   "nbconvert_exporter": "python",
   "pygments_lexer": "ipython3",
   "version": "3.7.4"
  }
 },
 "nbformat": 4,
 "nbformat_minor": 2
}
