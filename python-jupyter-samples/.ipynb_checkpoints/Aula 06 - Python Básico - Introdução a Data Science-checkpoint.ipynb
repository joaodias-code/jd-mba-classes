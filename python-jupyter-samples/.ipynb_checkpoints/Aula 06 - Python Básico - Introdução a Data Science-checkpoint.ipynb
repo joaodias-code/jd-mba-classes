{
 "cells": [
  {
   "cell_type": "markdown",
   "metadata": {},
   "source": [
    "## Live University"
   ]
  },
  {
   "cell_type": "markdown",
   "metadata": {},
   "source": [
    "### Python Básico - Introdução a Data Science\n",
    "\n",
    "<img src=\"http://blog.klocwork.com/wp-content/uploads/2016/01/python-logo.png\" align=left>"
   ]
  },
  {
   "cell_type": "markdown",
   "metadata": {},
   "source": [
    "### Bibliotecas de Python"
   ]
  },
  {
   "cell_type": "markdown",
   "metadata": {},
   "source": [
    "Dentre os muitos motivos pelos quais o Python tornou-se uma referência em Data Science, um deles foi o enorme esforço da comunidade da linguagem, cientistas de dados, matemáticos e outros profissionais do mercado em desenvolver bibliotecas específicas para a área. Essas bibliotecas possuem métodos e classes que abrangem inúmeros processos envolvendo Data Science, \n",
    "\n",
    "Podemos importar a biblioteca inteira pela sintaxe:\n",
    "\n",
    "<strong>import</strong> biblioteca\n",
    "\n",
    "ou\n",
    "\n",
    "<strong>import</strong> biblioteca <strong>as</strong> nome atribuido a biblioteca\n",
    "\n",
    "Ou ainda, podemos importar módulos e classes específicas dessa biblioteca pela sintaxe:\n",
    "\n",
    "<strong>from</strong> biblioteca <strong>import</strong> módulo"
   ]
  },
  {
   "cell_type": "markdown",
   "metadata": {},
   "source": [
    "### Pandas e NumPy - Nunca se esqueça desses nomes!\n",
    "\n",
    "Duas das bibliotecas mais difundidas e populares (provavelmente as mais populares do Python) são Pandas e Numpy. Essas bibliotecas abrangem fundamentos e funcionalidades <strong>indispensáveis</strong> no Data Science."
   ]
  },
  {
   "cell_type": "markdown",
   "metadata": {},
   "source": [
    "### NumPy\n",
    "\n",
    "Bibliotéca amplamente utilizada por quem programa em Python, independente da aplicação. Essa poderosa biblioteca científica nos permite trabalhar com vetores, cálculos vetoriais, matrizes, suporte completo a operações com álgebra linear, integração com C/C++, etc.\n",
    "\n",
    "Vamos explorar um pouco NumPy agora"
   ]
  },
  {
   "cell_type": "code",
   "execution_count": null,
   "metadata": {},
   "outputs": [],
   "source": [
    "import numpy as np"
   ]
  },
  {
   "cell_type": "markdown",
   "metadata": {},
   "source": [
    "Na célula acima importamos o Numpy e toda sua coleção de métodos e funções, e atribuimos a essa biblioteca o nome \"np\""
   ]
  },
  {
   "cell_type": "code",
   "execution_count": null,
   "metadata": {},
   "outputs": [],
   "source": [
    "dados = np.array([1, 2, 3])\n",
    "dados"
   ]
  },
  {
   "cell_type": "code",
   "execution_count": null,
   "metadata": {},
   "outputs": [],
   "source": [
    "dados_bidimensionais = np.array([[1, 2], [3, 4]])\n",
    "dados_bidimensionais"
   ]
  },
  {
   "cell_type": "markdown",
   "metadata": {},
   "source": [
    "Esses são exemplos de NumPy arrays. Vamos explorar um pouco mais deles"
   ]
  },
  {
   "cell_type": "code",
   "execution_count": null,
   "metadata": {},
   "outputs": [],
   "source": [
    "fibonacci = np.array([0,1,1,2,3,5,8,13])\n",
    "print(fibonacci ** 2)"
   ]
  },
  {
   "cell_type": "code",
   "execution_count": null,
   "metadata": {},
   "outputs": [],
   "source": [
    "print(fibonacci.mean())"
   ]
  },
  {
   "cell_type": "markdown",
   "metadata": {},
   "source": [
    "#### Matrizes e Álgebra linear com NumPy"
   ]
  },
  {
   "cell_type": "code",
   "execution_count": null,
   "metadata": {},
   "outputs": [],
   "source": [
    "entradas = np.array([[0,0],\n",
    "                     [0,1],\n",
    "                     [1,0],\n",
    "                     [1,1]])\n",
    "\n",
    "pesos = np.array([[-0.424, -0.740, -0.961],        \n",
    "                   [0.358, -0.577, -0.469]])\n",
    "entradas"
   ]
  },
  {
   "cell_type": "code",
   "execution_count": null,
   "metadata": {},
   "outputs": [],
   "source": [
    "soma_dos_pesos = np.dot(entradas,pesos)\n",
    "soma_dos_pesos"
   ]
  },
  {
   "cell_type": "markdown",
   "metadata": {},
   "source": [
    "Criamos duas matrizes usando arrays do numpy e aplicamos uma operação de produto escalar nessas matrizes com outra função do numpy <em>dot()</em> - de Dot Product.\n",
    "\n",
    "Matrizes são estruturas fundamentais, indo desde imagens até aplicações de Machine Learning. A célula acima poderia representar os cálculos da função de soma em uma rede neural durante o processo de feedforward por exemplo.\n",
    "\n",
    "\n",
    "Podemos até mesmo resolver problemas matemáticos com funções do NumPy"
   ]
  },
  {
   "cell_type": "code",
   "execution_count": null,
   "metadata": {},
   "outputs": [],
   "source": [
    "# Importanto um módulo específico de álgebra linear do NumPy\n",
    "from numpy.linalg import solve\n",
    "\n",
    "A = np.array([[1,2],[3,4]])\n",
    "b = np.array([10, 20])\n",
    "x = solve(A,b)\n",
    "x"
   ]
  },
  {
   "cell_type": "markdown",
   "metadata": {},
   "source": [
    "### Pandas \n",
    "\n",
    "Além do NumPy, outra biblioteca amplamente utilizada por cientistas de dados é o Pandas, muito em função de um tipo específico de estrutura de dados que essa biblioteca permite criar: <strong>Dataframes</strong>. Além dos Dataframes, o Pandas conta com outra estrutura de dados, chamada <strong>Series</strong>, semelhante a listas. \n",
    "\n",
    "Dataframes são tabelas bi-dimensionais que podem ser criadas tanto através de dados contidos em estruturas já existentes no código, assim como gerados através da importação de dados contidos de fontes externas como arquivos.csv por exemplo. O Python aliás, permite abrir diversos tipos de arquivos através da função <em>Open('nome do arquivo','tipo de leitura')</em>. Entretanto, diversas bibliotecas externas do Python são expecializadas em abrir e manipular determinados tipos de arquivos. Pillow e OpenCV para imagens por exemplo, Python-docx e Python-pptx para arquivos de Word e PowerPoint, Beautiful Soup para web scrapping, e <strong>Pandas</strong> para dados armazenados em arquivos como csv, xlsx, texto, tabelas em html, etc etc. \n",
    "\n",
    "Vamos explorar DataFrames e Series"
   ]
  },
  {
   "cell_type": "code",
   "execution_count": null,
   "metadata": {},
   "outputs": [],
   "source": [
    "# vamos primeiro importar o Pandas\n",
    "import pandas as pd"
   ]
  },
  {
   "cell_type": "code",
   "execution_count": null,
   "metadata": {},
   "outputs": [],
   "source": [
    "s = pd.Series([3, -5, 7, 4], index=['item 1', 'item 2', 'item 3', 'item 4'])\n",
    "s"
   ]
  },
  {
   "cell_type": "markdown",
   "metadata": {},
   "source": [
    "Como mencionado acima, Series são estruturas similares a listas e NumPy arrays. Porem, Series são estruturas de dados mais analíticas, por exemplo, podemos definir o índice para os valores desse array com o parâmetro <em>index</em>. "
   ]
  },
  {
   "cell_type": "markdown",
   "metadata": {},
   "source": [
    "Vamos criar agora um DataFrame a partir de um dicionário.  "
   ]
  },
  {
   "cell_type": "code",
   "execution_count": null,
   "metadata": {},
   "outputs": [],
   "source": [
    "dados = {\n",
    "'País': ['Bélgica', 'Índia', 'Brasil', 'Alemanha','EUA','Argentina'],\n",
    "'Capital': ['Bruxelas', 'Nova Delhi', 'Brasília', 'Berlim','Washington','Buenos Aires'],\n",
    "'IDH': [0.867, 0.554, 0.699, 0.920, 0.937, 0.775]}\n"
   ]
  },
  {
   "cell_type": "markdown",
   "metadata": {},
   "source": [
    "DataFrames nada mais são do que as <strong>classes</strong> que vocês já conheceram nesse mesmo Notebook, então o que faremos a seguir é instanciar um objeto com alguns atributos, a única diferença é que por se tratar de uma bilioteca externa, precisamos especificar que essa classe faz parte de um módulo do Pandas (pd)"
   ]
  },
  {
   "cell_type": "code",
   "execution_count": null,
   "metadata": {},
   "outputs": [],
   "source": [
    "df = pd.DataFrame(data=dados)\n",
    "df"
   ]
  },
  {
   "cell_type": "code",
   "execution_count": null,
   "metadata": {},
   "outputs": [],
   "source": [
    "df.shape"
   ]
  },
  {
   "cell_type": "code",
   "execution_count": null,
   "metadata": {},
   "outputs": [],
   "source": [
    "df.size"
   ]
  },
  {
   "cell_type": "code",
   "execution_count": null,
   "metadata": {},
   "outputs": [],
   "source": [
    "df.dtypes"
   ]
  },
  {
   "cell_type": "code",
   "execution_count": null,
   "metadata": {},
   "outputs": [],
   "source": [
    "df.columns"
   ]
  },
  {
   "cell_type": "markdown",
   "metadata": {},
   "source": [
    "Podemos realizar os mais diversos procedimentos com um DataFrame. Indexar valores, tratar colunas e linhas, realizar cálculos com os dados"
   ]
  },
  {
   "cell_type": "code",
   "execution_count": null,
   "metadata": {},
   "outputs": [],
   "source": [
    "capitais = df['Capital']\n",
    "capitais"
   ]
  },
  {
   "cell_type": "code",
   "execution_count": null,
   "metadata": {},
   "outputs": [],
   "source": [
    "maiorIDH = df['IDH'].max()\n",
    "maiorIDH"
   ]
  },
  {
   "cell_type": "code",
   "execution_count": null,
   "metadata": {},
   "outputs": [],
   "source": [
    "PIB = np.array([0.45, 2.09, 1.77, 3.35, 17.94, 0.58])\n",
    "df['PIB'] = PIB\n",
    "df"
   ]
  },
  {
   "cell_type": "code",
   "execution_count": null,
   "metadata": {},
   "outputs": [],
   "source": [
    "IDH_medio = df['IDH'].mean()\n",
    "IDH_medio"
   ]
  },
  {
   "cell_type": "code",
   "execution_count": null,
   "metadata": {},
   "outputs": [],
   "source": [
    "PIB_acumulado = df['PIB'].sum()\n",
    "PIB_acumulado"
   ]
  },
  {
   "cell_type": "code",
   "execution_count": null,
   "metadata": {},
   "outputs": [],
   "source": [
    "df.País"
   ]
  },
  {
   "cell_type": "code",
   "execution_count": null,
   "metadata": {},
   "outputs": [],
   "source": [
    "df.T"
   ]
  },
  {
   "cell_type": "code",
   "execution_count": null,
   "metadata": {},
   "outputs": [],
   "source": [
    "df.drop(5)"
   ]
  },
  {
   "cell_type": "markdown",
   "metadata": {},
   "source": [
    "Outros 2 métodos para acessar valores do dataframe: <strong>loc</strong> e <strong>iloc</strong>"
   ]
  },
  {
   "cell_type": "code",
   "execution_count": null,
   "metadata": {},
   "outputs": [],
   "source": [
    "df.loc[0]"
   ]
  },
  {
   "cell_type": "code",
   "execution_count": null,
   "metadata": {},
   "outputs": [],
   "source": [
    "print('O IDH do Brasil é {}'.format(df.loc[2,'IDH']))"
   ]
  },
  {
   "cell_type": "code",
   "execution_count": null,
   "metadata": {},
   "outputs": [],
   "source": [
    "df.iloc[:2]"
   ]
  },
  {
   "cell_type": "markdown",
   "metadata": {},
   "source": [
    "### Coconstrução\n",
    "\n",
    "Importando uma base de dados de arquivo externo e realizando análises"
   ]
  },
  {
   "cell_type": "code",
   "execution_count": null,
   "metadata": {},
   "outputs": [],
   "source": [
    "# Importando base_idade.csv"
   ]
  },
  {
   "cell_type": "markdown",
   "metadata": {},
   "source": [
    "### Gráficos no Python \n",
    "\n",
    "Processar, analisar e colher informações a partir dos dados é trabalhoso, exige conhecimentos técnicos e analíticos, mas gera resultados se o processo for bem feito. Porém, do que adianta tudo isso, se na hora de comunicar os resultados essa comunicação não for bem feita? \n",
    "\n",
    "Já é um consenso que gráficos são uma excelente maneira de se demonstrar resultados de análises. \n",
    "\n",
    "Embora existam vários softwares (especialmente de BI) para visualização de gráficos, o Python também conta com bibliotecas para geração de recursos visuais, entre elas, uma bastante utilizada, <strong>Matplotlib</strong>\n",
    "\n",
    "Vamos ver alguns exemplos, mas antes de tudo, vamos importar a biblioteca (nesse caso um módulo específico dessa biblioteca que permite plotar os gráficos)"
   ]
  },
  {
   "cell_type": "code",
   "execution_count": null,
   "metadata": {},
   "outputs": [],
   "source": [
    "import matplotlib.pyplot as plt"
   ]
  },
  {
   "cell_type": "markdown",
   "metadata": {},
   "source": [
    "Temos nesse exemplo dados relacionados as vendas de uma loja distribuídos por mês. Vamos gerar um gráfico de linha para analisar possíveis tendências de vendas"
   ]
  },
  {
   "cell_type": "code",
   "execution_count": null,
   "metadata": {},
   "outputs": [],
   "source": [
    "vendas = [80,65,40,34,42,55,68,43,31,25,49,74,84,60,47,44,39,54,62,53,39,38,47,69]"
   ]
  },
  {
   "cell_type": "code",
   "execution_count": null,
   "metadata": {},
   "outputs": [],
   "source": [
    "plt.plot(vendas)\n",
    "plt.xlabel('Jan 2016 - Dez 2017')\n",
    "plt.ylabel('Vendas')\n",
    "plt.grid(True)"
   ]
  },
  {
   "cell_type": "markdown",
   "metadata": {},
   "source": [
    "Vamos agora analisar o dataframe que foi utilizado em exemplos anteriores"
   ]
  },
  {
   "cell_type": "code",
   "execution_count": null,
   "metadata": {},
   "outputs": [],
   "source": [
    "# Vamos usar o mesmo DataFrame dos exemplos de Pandas, mas vamos adicionar uma nova coluna \"Continente\"\n",
    "dados = {\n",
    "'País': ['Bélgica', 'Índia', 'Brasil', 'Alemanha','EUA','Argentina'],\n",
    "'Capital': ['Bruxelas', 'Nova Delhi', 'Brasília', 'Berlim','Washington','Buenos Aires'],\n",
    "'IDH': [0.867, 0.554, 0.699, 0.920, 0.937, 0.775],\n",
    "'PIB': [0.45, 2.09, 1.77, 3.35, 17.94, 0.58],\n",
    "'Continente': ['Europa','Ásia','América do Sul','Europa','América do Norte','América do Sul']}\n",
    "\n",
    "df = pd.DataFrame(data=dados)\n",
    "df"
   ]
  },
  {
   "cell_type": "markdown",
   "metadata": {},
   "source": [
    "Vamos gerar gráficos para entender a distribuição desses dados por continente. \n",
    "Antes de gerar o gráfico, é preciso manipular e preparar os dados para o gráfico. \n",
    "\n",
    "Gráficos diferentes necessitam de estruturas diferentes de dados\n",
    "\n",
    "Nesse caso, vamos usar alguns métodos do Pandas (<strong>reset_index( )</strong> e <strong>groupby( )</strong>) além do já conhecido método <strong>count( )</strong>, para poder gerar os dados necessários para visualizar essa distribuição: a contagem de vezes que cada um dos valores da coluna <em>Continente</em> se repetem. "
   ]
  },
  {
   "cell_type": "code",
   "execution_count": null,
   "metadata": {},
   "outputs": [],
   "source": [
    "distribuicao = df.reset_index().groupby(['Continente'])['index'].count()\n",
    "distribuicao"
   ]
  },
  {
   "cell_type": "markdown",
   "metadata": {},
   "source": [
    "Agora que temos os dados prontos, podemos plotar gráficos de duas maneiras.\n",
    "A primeira é mais simples. Podemos usar o método <strong>plot(tipo do gráfico, título do gráfico)</strong> do próprio pandas diretamente na variável que contem os dados que precisamos plotar:"
   ]
  },
  {
   "cell_type": "code",
   "execution_count": null,
   "metadata": {},
   "outputs": [],
   "source": [
    "distribuicao.plot(kind='bar', title='Distribuição por Continente')"
   ]
  },
  {
   "cell_type": "markdown",
   "metadata": {},
   "source": [
    "Não é um gráfico lindo e perfumado, mas é um gráfico que mostra exatamente o que o problema pede, isso é sempre o mais importante.  "
   ]
  },
  {
   "cell_type": "markdown",
   "metadata": {},
   "source": [
    "Vamos agora plotar esses mesmos dados utilizando um gráfico de pizza construído com métodos do Matplotlib. Temos mais controle sobre diversos aspectos do gráfico, mas a implementação é mais complexa pois precisamos passar os dados exatamente na estrutura que gráfico requer. A vantagem é que bibliotecas como o Matplotlib oferecem uma gama muito maior de recursos e gráficos para trabalhar."
   ]
  },
  {
   "cell_type": "code",
   "execution_count": null,
   "metadata": {},
   "outputs": [],
   "source": [
    "data = list(distribuicao)\n",
    "labels = distribuicao.index.values\n",
    "sizes = list(distribuicao)\n",
    "explode = (0.05, 0.05, 0.05, 0.05)  \n",
    "\n",
    "fig1, ax1 = plt.subplots()\n",
    "ax1.pie(sizes, explode=explode, labels=labels, autopct='%1.1f%%', shadow=True, startangle=90)\n",
    "ax1.axis('equal')  \n",
    "plt.show()"
   ]
  },
  {
   "cell_type": "markdown",
   "metadata": {},
   "source": [
    "Como vimos até agora, bibliotecas como Pandas, NumPy e inúmeras outras oferecem uma gama enorme de aplicações que fazem do Python uma ferramenta poderosa. No entando, mostramos apenas uma pequena amostra do que Pandas e NumPy tem a oferecer. Parte da rotina de quem programa tanto em Python quanto em outras linguagens é justamente ler as documentações  para encontrar novos métodos, atributos e funcionalidades que ofereçam os recursos necessários para lidar com os problemas que temos de resolver. \n",
    "\n",
    "Abaixo disponibilizamos os links para as documentações do Python, Pandas e NumPy, para que você possa acessar e começar a entender o tamanho dos recursos que estão disponíveis. \n",
    "\n",
    "Python: https://docs.python.org/3.6/\n",
    "\n",
    "\n",
    "Pandas: https://pandas.pydata.org/pandas-docs/stable/api.html#api-categorical\n",
    "\n",
    "\n",
    "NumPy: https://docs.scipy.org/doc/numpy-1.15.1/reference/index.html\n",
    "\n",
    "\n",
    "Matplotlib: https://matplotlib.org/tutorials/introductory/usage.html#parts-of-a-figure\n"
   ]
  },
  {
   "cell_type": "markdown",
   "metadata": {},
   "source": [
    "### Exercício"
   ]
  },
  {
   "cell_type": "markdown",
   "metadata": {},
   "source": [
    "1) Crie um dataframe que contem 4 colunas\n",
    "- o nome das pessoas (já declarado)\n",
    "- o ano de nascimento delas (já declarado)  \n",
    "- a idade delas\n",
    "- o sexo delas (já declarado)\n",
    "\n",
    "Desenvolva o código para computar a idade e sexo, não construa essas colunas manualmente\n",
    "\n",
    "Lembre-se de <strong>importar</strong> todas as bibliotecas que você vai utilizar!!!"
   ]
  },
  {
   "cell_type": "code",
   "execution_count": null,
   "metadata": {},
   "outputs": [],
   "source": [
    "nomes = np.array(['ronaldo','julia','gabriel','bruno','leticia','junior','maria','anderson','walter','carla'])\n",
    "ano_nascimento = np.array(['1995','1998','1986','1998','1975','1978','1992','1984','1990','1993'])\n",
    "sexo = np.array(['h','m','h','h','m','h','m','h','h','m'])\n",
    "\n"
   ]
  },
  {
   "cell_type": "markdown",
   "metadata": {},
   "source": [
    "2) Plote um gráfico que demonstre a distribuição dessa base de dados por sexo.\n",
    "- sinta-se a vontade para buscar na documentação do Matplotlib outros tipos de gráficos para resolver esse exercício"
   ]
  },
  {
   "cell_type": "code",
   "execution_count": null,
   "metadata": {},
   "outputs": [],
   "source": [
    "# Desenvolva o código para extrair as informações\n",
    "\n",
    "\n"
   ]
  },
  {
   "cell_type": "markdown",
   "metadata": {},
   "source": [
    "3) Responda:\n",
    "\n",
    "- Em média, quem é mais velho nessa base de dados? Homens ou mulheres?\n",
    "\n",
    "Observação:\n",
    "Resolva com código, não faça os cálculos na mão. Imagine que essa mesma pergunta pode ser feita para uma base de dados com milhares de registros. "
   ]
  },
  {
   "cell_type": "code",
   "execution_count": null,
   "metadata": {},
   "outputs": [],
   "source": []
  },
  {
   "cell_type": "code",
   "execution_count": null,
   "metadata": {},
   "outputs": [],
   "source": []
  }
 ],
 "metadata": {
  "kernelspec": {
   "display_name": "Python 3",
   "language": "python",
   "name": "python3"
  },
  "language_info": {
   "codemirror_mode": {
    "name": "ipython",
    "version": 3
   },
   "file_extension": ".py",
   "mimetype": "text/x-python",
   "name": "python",
   "nbconvert_exporter": "python",
   "pygments_lexer": "ipython3",
   "version": "3.6.4"
  }
 },
 "nbformat": 4,
 "nbformat_minor": 2
}
