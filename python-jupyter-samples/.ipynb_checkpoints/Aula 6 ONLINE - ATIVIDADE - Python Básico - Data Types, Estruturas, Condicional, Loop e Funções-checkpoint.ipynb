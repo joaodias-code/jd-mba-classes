{
 "cells": [
  {
   "cell_type": "markdown",
   "metadata": {},
   "source": [
    "## Exercícios"
   ]
  },
  {
   "cell_type": "markdown",
   "metadata": {},
   "source": [
    "__Exercício 1__: Cria uma variável chamada `x` e adicione o número 31 a ela. Crie uma expressão que eleve o valor dar variável a 4 e mostre o resultado.  "
   ]
  },
  {
   "cell_type": "code",
   "execution_count": 2,
   "metadata": {},
   "outputs": [
    {
     "name": "stdout",
     "output_type": "stream",
     "text": [
      "923521\n"
     ]
    }
   ],
   "source": [
    "x = 31\n",
    "print(x**4)"
   ]
  },
  {
   "cell_type": "markdown",
   "metadata": {},
   "source": [
    "__Exercício 2__: Crie uma nova variável `lu` e atribua o valor 'live university' a ela. Utilize o método de strings do Python aproporiado para converter o primeiro caractere de cada palavra em maiúsculo."
   ]
  },
  {
   "cell_type": "code",
   "execution_count": 6,
   "metadata": {},
   "outputs": [
    {
     "name": "stdout",
     "output_type": "stream",
     "text": [
      "Live University\n"
     ]
    }
   ],
   "source": [
    "lu = \"live university\"\n",
    "print(lu.title())"
   ]
  },
  {
   "cell_type": "markdown",
   "metadata": {},
   "source": [
    "__Exercício 3__: Atribua a lista `['a', 'b', 'c', 'd', 'e']` a uma variável.  Mude a ordem da lista e adicione o 'x' ao índice 3, e por último adicione '7' ao final."
   ]
  },
  {
   "cell_type": "code",
   "execution_count": 9,
   "metadata": {},
   "outputs": [
    {
     "name": "stdout",
     "output_type": "stream",
     "text": [
      "['e', 'd', 'c', 'x', 'a', '7']\n"
     ]
    }
   ],
   "source": [
    "lista1 = ['a', 'b', 'c', 'd', 'e']\n",
    "lista1.sort(reverse=True)\n",
    "lista1[3] = 'x'\n",
    "lista1.append('7')\n",
    "print(lista1)"
   ]
  },
  {
   "cell_type": "markdown",
   "metadata": {},
   "source": [
    "__Exercício 4__: Retorne as letras 'bnn' da palavra 'banana'."
   ]
  },
  {
   "cell_type": "code",
   "execution_count": 27,
   "metadata": {},
   "outputs": [
    {
     "name": "stdout",
     "output_type": "stream",
     "text": [
      "bnn\n"
     ]
    }
   ],
   "source": [
    "palavra = 'banana'\n",
    "palavraQuebrada = palavra[slice(1)] + palavra[slice(2,3)] + palavra[slice(4,5)]\n",
    "print(palavraQuebrada)"
   ]
  },
  {
   "cell_type": "code",
   "execution_count": 70,
   "metadata": {},
   "outputs": [
    {
     "data": {
      "text/plain": [
       "'bnn'"
      ]
     },
     "execution_count": 70,
     "metadata": {},
     "output_type": "execute_result"
    }
   ],
   "source": [
    "palavra[0:5:2]"
   ]
  },
  {
   "cell_type": "code",
   "execution_count": 72,
   "metadata": {},
   "outputs": [
    {
     "data": {
      "text/plain": [
       "'bnn'"
      ]
     },
     "execution_count": 72,
     "metadata": {},
     "output_type": "execute_result"
    }
   ],
   "source": [
    "palavra[0::2]"
   ]
  },
  {
   "cell_type": "markdown",
   "metadata": {},
   "source": [
    "__Exercício 5__: Crie um programa para converter uma lista de caracteres em uma string"
   ]
  },
  {
   "cell_type": "code",
   "execution_count": 50,
   "metadata": {},
   "outputs": [
    {
     "name": "stdout",
     "output_type": "stream",
     "text": [
      "abcde\n"
     ]
    }
   ],
   "source": [
    "def ConverteListaString(lista):\n",
    "    return ''.join(lista)\n",
    "\n",
    "lista = ['a', 'b', 'c', 'd', 'e']\n",
    "\n",
    "print(ConverteListaString(lista))"
   ]
  },
  {
   "cell_type": "markdown",
   "metadata": {},
   "source": [
    "__Exercício 6__: Crie um programa que checa se uma lista está vazia"
   ]
  },
  {
   "cell_type": "code",
   "execution_count": 53,
   "metadata": {},
   "outputs": [
    {
     "name": "stdout",
     "output_type": "stream",
     "text": [
      "Lista esta vazia!\n"
     ]
    }
   ],
   "source": [
    "def ChecaListaVazia(lista):\n",
    "    if (len(lista)==0):\n",
    "        return 'Lista esta vazia!'\n",
    "    else:\n",
    "        return 'Lista contém itens!'\n",
    "\n",
    "lista = []\n",
    "print(ChecaListaVazia(lista))"
   ]
  },
  {
   "cell_type": "code",
   "execution_count": 76,
   "metadata": {},
   "outputs": [
    {
     "name": "stdout",
     "output_type": "stream",
     "text": [
      "vazia\n"
     ]
    }
   ],
   "source": [
    "#vazio = falso\n",
    "lista == False\n",
    "if not lista :\n",
    "    print(\"vazia\")"
   ]
  },
  {
   "cell_type": "markdown",
   "metadata": {},
   "source": [
    "__Exercício 7__: Retorne uma lista apenas com os valores únicos de `a = [10,20,30,20,10,50,60,40,80,50,40]`"
   ]
  },
  {
   "cell_type": "code",
   "execution_count": 49,
   "metadata": {},
   "outputs": [
    {
     "name": "stdout",
     "output_type": "stream",
     "text": [
      "[30, 60, 80]\n"
     ]
    }
   ],
   "source": [
    "def RetornarItensValorUnico(lista):\n",
    "    t = []       \n",
    "    for item in lista:\n",
    "        if lista.count(item)== 1:\n",
    "            t.append(item)     \n",
    "    return t\n",
    "\n",
    "a = [10,20,30,20,10,50,60,40,80,50,40]\n",
    "\n",
    "print(RetornarItensValorUnico(a))"
   ]
  },
  {
   "cell_type": "code",
   "execution_count": 77,
   "metadata": {},
   "outputs": [
    {
     "name": "stdout",
     "output_type": "stream",
     "text": [
      "{40, 10, 80, 50, 20, 60, 30}\n"
     ]
    }
   ],
   "source": [
    "print(set(a))"
   ]
  },
  {
   "cell_type": "markdown",
   "metadata": {},
   "source": [
    "__Exercício 9__: Crie um ***dicionário*** que contenha o seu nome e profissão.\n",
    "\n",
    "* Adicione o seu sobrenome ao dicionário\n",
    "* Print o dicionário.\n",
    "* Print as chaves do dicionário.\n",
    "* Print os valores do dicionário."
   ]
  },
  {
   "cell_type": "code",
   "execution_count": 59,
   "metadata": {},
   "outputs": [
    {
     "name": "stdout",
     "output_type": "stream",
     "text": [
      "{'nome': 'João Otávio', 'profissão': 'analista de sistemas', 'sobrenome': 'Dias'}\n",
      "dict_keys(['nome', 'profissão', 'sobrenome'])\n",
      "dict_values(['João Otávio', 'analista de sistemas', 'Dias'])\n"
     ]
    }
   ],
   "source": [
    "dic = {\"nome\": \"João Otávio\", \"profissão\": \"analista de sistemas\"}\n",
    "dic[\"sobrenome\"] = \"Dias\"\n",
    "\n",
    "print(dic)\n",
    "print(dic.keys())\n",
    "print(dic.values())"
   ]
  },
  {
   "cell_type": "markdown",
   "metadata": {},
   "source": [
    "__Exercício 10__: Defina o dicionário `d = {1: 10, 2: 20, 3: 30, 4: 40, 5: 50, 6: 60}` e crie uma função para checar se uma determinada chave existe."
   ]
  },
  {
   "cell_type": "code",
   "execution_count": 62,
   "metadata": {},
   "outputs": [
    {
     "name": "stdout",
     "output_type": "stream",
     "text": [
      "A chave 33 não existe neste dicionario!\n",
      "A chave 4 existe no dicionario!\n"
     ]
    }
   ],
   "source": [
    "def ChecaChaveDicionario(d, chave):\n",
    "    if (chave in d):\n",
    "        return 'A chave ' + str(chave) + ' existe no dicionario!'\n",
    "    else:\n",
    "        return 'A chave ' + str(chave) + ' não existe neste dicionario!'\n",
    "\n",
    "d = {1: 10, 2: 20, 3: 30, 4: 40, 5: 50, 6: 60}\n",
    "\n",
    "print(ChecaChaveDicionario(d,33))\n",
    "print(ChecaChaveDicionario(d,4))"
   ]
  },
  {
   "cell_type": "markdown",
   "metadata": {},
   "source": [
    "__Exercício 11__: Crie um dicionário em Python e concatene os diconários a seguir nele:\n",
    "\n",
    "\n",
    "dic1={1:10, 2:20} \n",
    "\n",
    "dic2={3:30, 4:40} \n",
    "\n",
    "dic3={5:50,6:60}\n",
    "\n",
    "Resultado esperado : {1: 10, 2: 20, 3: 30, 4: 40, 5: 50, 6: 60}"
   ]
  },
  {
   "cell_type": "code",
   "execution_count": 64,
   "metadata": {},
   "outputs": [
    {
     "name": "stdout",
     "output_type": "stream",
     "text": [
      "{1: 10, 2: 20, 3: 30, 4: 40, 5: 50, 6: 60}\n"
     ]
    }
   ],
   "source": [
    "dic1={1:10, 2:20}\n",
    "dic2={3:30, 4:40}\n",
    "dic3={5:50,6:60}\n",
    "\n",
    "dicConcatenado = {}\n",
    "\n",
    "dicConcatenado.update(dic1)\n",
    "dicConcatenado.update(dic2)\n",
    "dicConcatenado.update(dic3)\n",
    "\n",
    "print(dicConcatenado)"
   ]
  },
  {
   "cell_type": "markdown",
   "metadata": {},
   "source": [
    "__Exercício 12__: Faça um programa que solicite o nome do usuário e imprima-o na vertical.\n",
    "\n",
    "`F\n",
    "U\n",
    "L\n",
    "A\n",
    "N\n",
    "O`"
   ]
  },
  {
   "cell_type": "code",
   "execution_count": 66,
   "metadata": {},
   "outputs": [
    {
     "name": "stdout",
     "output_type": "stream",
     "text": [
      "Digite seu nome: João Otávio\n",
      "J\n",
      "o\n",
      "ã\n",
      "o\n",
      " \n",
      "O\n",
      "t\n",
      "á\n",
      "v\n",
      "i\n",
      "o\n"
     ]
    }
   ],
   "source": [
    "for letra in input(\"Digite seu nome: \"): print(letra)"
   ]
  },
  {
   "cell_type": "markdown",
   "metadata": {},
   "source": [
    "__Exercício 13__: Crie uma função que receba duas listas e verifique se existe pelo menos um valor em comum entre elas"
   ]
  },
  {
   "cell_type": "code",
   "execution_count": 89,
   "metadata": {},
   "outputs": [
    {
     "name": "stdout",
     "output_type": "stream",
     "text": [
      "Valor em comum: {'b'}\n"
     ]
    }
   ],
   "source": [
    "def ComparaListas(lista1, lista2):\n",
    "\n",
    "    listaComum = set(lista1).intersection(set(lista2))\n",
    "    \n",
    "    if (len(listaComum)==0):\n",
    "        return \"Nenhum valor em comum\"\n",
    "    else:\n",
    "        return \"Valor em comum: \" + str(listaComum)\n",
    "\n",
    "lista1 = ['a', 'b', 'c']\n",
    "lista2 = ['d', 'e', 'b']\n",
    "\n",
    "print(ComparaListas(lista1, lista2))"
   ]
  },
  {
   "cell_type": "markdown",
   "metadata": {},
   "source": [
    "__Exercício 14__:Faça um Programa que pergunte quanto você ganha por hora e o número de horas trabalhadas no mês. Calcule e mostre o total do seu salário no referido mês, sabendo-se que são descontados 11% para o Imposto de Renda, 8% para o INSS e 5% para o sindicato, faça um programa que nos dê:\n",
    "* salário bruto.\n",
    "* quanto pagou ao INSS.\n",
    "* quanto pagou ao sindicato.\n",
    "* o salário líquido.\n",
    "* calcule os descontos e o salário líquido, conforme a tabela abaixo:\n",
    "\n",
    "\n",
    "+Salário Bruto : R \\\\$\n",
    "\n",
    "-IR (11%) : R\\\\$\n",
    "\n",
    "-INSS (8%) : R\\\\$\n",
    "\n",
    "-Sindicato ( 5%) : R\\\\$\n",
    "\n",
    "=Salário Liquido : R\\\\$ \n"
   ]
  },
  {
   "cell_type": "code",
   "execution_count": 4,
   "metadata": {},
   "outputs": [
    {
     "name": "stdout",
     "output_type": "stream",
     "text": [
      "Quanto você ganha por hora? 15\n",
      "Nro de horas trabalhadas no mês: 168\n"
     ]
    },
    {
     "data": {
      "text/plain": [
       "{'Salario Bruto': 2520.0,\n",
       " 'IRPF': 201.6,\n",
       " 'INSS': 277.2,\n",
       " 'Sindicato': 126.0,\n",
       " 'Sal. Líquido': 1915.2}"
      ]
     },
     "execution_count": 4,
     "metadata": {},
     "output_type": "execute_result"
    }
   ],
   "source": [
    "def CalculaSalario():\n",
    "    \n",
    "    try: \n",
    "        valorHora = float(input(\"Quanto você ganha por hora? \"))\n",
    "        qtdHorasMes = float(input(\"Nro de horas trabalhadas no mês: \"))\n",
    "    except:\n",
    "        print('Valor digitado incorretamente!')\n",
    "        return\n",
    "    \n",
    "    salarioBruto = valorHora * qtdHorasMes\n",
    "    irpf = salarioBruto * 0.08\n",
    "    inss = salarioBruto * 0.11\n",
    "    taxaSind = salarioBruto * 0.05\n",
    "    salarioLiquido = salarioBruto - irpf - inss - taxaSind\n",
    "    \n",
    "    return {\"Salario Bruto\": salarioBruto, \"IRPF\": irpf, \"INSS\": inss, \"Sindicato\": taxaSind, \"Sal. Líquido\": salarioLiquido}\n",
    "\n",
    "CalculaSalario()"
   ]
  },
  {
   "cell_type": "markdown",
   "metadata": {},
   "source": [
    "__Exercício 15__: Valida e corrige número de telefone. Faça um programa que leia um número de telefone, e corrija o número no caso deste conter somente 8 dígitos, acrescentando o '9' na frente. O usuário pode informar o número com ou sem o traço separador.\n",
    "\n",
    "`Valida e corrige número de telefone\n",
    "Telefone: 8822-0133\n",
    "Telefone possui 7 dígitos. Vou acrescentar o digito três na frente.\n",
    "Telefone corrigido sem formatação: 88220133\n",
    "Telefone corrigido com formatação: 98822-0133`"
   ]
  },
  {
   "cell_type": "code",
   "execution_count": 25,
   "metadata": {},
   "outputs": [],
   "source": [
    "def ValidaFormataTel(tel):\n",
    "    \n",
    "    tel = str(tel).replace('-','')\n",
    "    prefixo = ''\n",
    "\n",
    "    if len(tel) == 7:\n",
    "        prefixo = '3'\n",
    "    elif len(tel) == 8:\n",
    "        prefixo = '9'\n",
    "\n",
    "    return '{prefixo}{num1}-{num2}'.format(prefixo=prefixo, num1=tel[0:len(tel)-4], num2=tel[-4:])"
   ]
  },
  {
   "cell_type": "code",
   "execution_count": 27,
   "metadata": {},
   "outputs": [
    {
     "name": "stdout",
     "output_type": "stream",
     "text": [
      "Antes: 1234567 - Depois: 3123-4567\n",
      "Antes: 1234567 - Depois: 3123-4567\n",
      "Antes: 12345678 - Depois: 91234-5678\n",
      "Antes: 1234-5678 - Depois: 91234-5678\n",
      "Antes: 912345678 - Depois: 91234-5678\n",
      "Antes: 91234-5678 - Depois: 91234-5678\n"
     ]
    }
   ],
   "source": [
    "#testando método 'ValidaFormataTel'\n",
    "print('Antes: 1234567 - Depois: ' + ValidaFormataTel('1234567')) \n",
    "print('Antes: 1234567 - Depois: ' + ValidaFormataTel('123-4567')) \n",
    "print('Antes: 12345678 - Depois: ' + ValidaFormataTel('12345678')) \n",
    "print('Antes: 1234-5678 - Depois: ' + ValidaFormataTel('1234-5678')) \n",
    "print('Antes: 912345678 - Depois: ' + ValidaFormataTel('912345678')) \n",
    "print('Antes: 91234-5678 - Depois: ' + ValidaFormataTel('91234-5678')) "
   ]
  },
  {
   "cell_type": "markdown",
   "metadata": {},
   "source": [
    "__Exercício 16__: As Organizações Tabajara resolveram dar um aumento de salário aos seus colaboradores e lhe contraram para desenvolver o programa que calculará os reajustes.\n",
    "Faça um programa que recebe o salário de um colaborador e o reajuste segundo o seguinte critério, baseado no salário atual:\n",
    "* salários até 280,00 (incluindo) : aumento de 20%\n",
    "* salários entre 280,00 e 700,00 : aumento de 15%\n",
    "* salários entre 700,00 e 1500,00 : aumento de 10%\n",
    "* salários de 1500,00 em diante : aumento de 5% Após o aumento ser realizado, informe na tela:\n",
    "* o salário antes do reajuste;\n",
    "* o percentual de aumento aplicado;\n",
    "* o valor do aumento;\n",
    "* o novo salário, após o aumento."
   ]
  },
  {
   "cell_type": "code",
   "execution_count": 36,
   "metadata": {},
   "outputs": [],
   "source": [
    "def CalculaAumento(salario):\n",
    "\n",
    "    if (salario <= 280): \n",
    "        fatorReajuste = 0.2\n",
    "    elif (salario > 280 and sal <= 700): \n",
    "        fatorReajuste = 0.15\n",
    "    elif (salario > 700 and sal <= 1500): \n",
    "        fatorReajuste = 0.1\n",
    "    elif (salario > 1500): \n",
    "        fatorReajuste = 0.05\n",
    "\n",
    "    valorAumento = fatorReajuste * salario\n",
    "    novoSalario = salario + valorAumento\n",
    "\n",
    "    return {'Salário antes': salario, '(%)Percentual de reajuste': fatorReajuste * 100, \n",
    "            'Valor de aumento': valorAumento, 'Novo salário': novoSalario}"
   ]
  },
  {
   "cell_type": "code",
   "execution_count": 37,
   "metadata": {},
   "outputs": [
    {
     "name": "stdout",
     "output_type": "stream",
     "text": [
      "{'Salário antes': 450, '(%)Percentual de reajuste': 15.0, 'Valor de aumento': 67.5, 'Novo salário': 517.5}\n"
     ]
    }
   ],
   "source": [
    "#teste de calculo de aumento\n",
    "print(CalculaAumento(450))"
   ]
  },
  {
   "cell_type": "markdown",
   "metadata": {},
   "source": [
    "__Exercícios 17__: Faça um Programa para um caixa eletrônico. O programa deverá perguntar ao usuário a valor do saque e depois informar quantas notas de cada valor serão fornecidas. As notas disponíveis serão as de 1, 5, 10, 50 e 100 reais. O valor mínimo é de 10 reais e o máximo de 600 reais. O programa não deve se preocupar com a quantidade de notas existentes na máquina.\n",
    "\n",
    "Exemplo 1: Para sacar a quantia de 256 reais, o programa fornece duas notas de 100, uma nota de 50, uma nota de 5 e uma nota de 1;\n",
    "\n",
    "Exemplo 2: Para sacar a quantia de 399 reais, o programa fornece três notas de 100, uma nota de 50, quatro notas de 10, uma nota de 5 e quatro notas de 1."
   ]
  },
  {
   "cell_type": "code",
   "execution_count": 69,
   "metadata": {},
   "outputs": [],
   "source": [
    "def ExecutaSaque():\n",
    "      \n",
    "    try:\n",
    "        valorSaque = float(input('Informe o valor para saque: '))\n",
    "    except:\n",
    "        return 'Valor incorreto para saque!'\n",
    "\n",
    "    if (valorSaque<100 or valorSaque>600):\n",
    "        return 'Para saque, valor mínimo de 100,00 e máximo de 600,00.'\n",
    "\n",
    "    notas = [100, 50, 10, 5, 1]\n",
    "    notasImpressas = {}\n",
    "\n",
    "    for n in notas:\n",
    "\n",
    "        qtd = int(valorSaque/n)\n",
    "\n",
    "        if (qtd>0):\n",
    "            valorSaque -= (qtd * n)\n",
    "            notasImpressas['Nota de ' + str(n)] = qtd\n",
    "            if (valorSaque == 0): break\n",
    "\n",
    "    print(notasImpressas)"
   ]
  },
  {
   "cell_type": "code",
   "execution_count": 70,
   "metadata": {},
   "outputs": [
    {
     "name": "stdout",
     "output_type": "stream",
     "text": [
      "Informe o valor para saque: 399\n",
      "{'Nota de 100': 3, 'Nota de 50': 1, 'Nota de 10': 4, 'Nota de 5': 1, 'Nota de 1': 4}\n"
     ]
    }
   ],
   "source": [
    "#testar a função de Saque\n",
    "ExecutaSaque()"
   ]
  },
  {
   "cell_type": "markdown",
   "metadata": {},
   "source": [
    "__Exercício 18__:Um posto está vendendo combustíveis com a seguinte tabela de descontos:\n",
    "* Álcool:\n",
    "    * até 20 litros, desconto de 3% por litro\n",
    "    * acima de 20 litros, desconto de 5% por litro\n",
    "* Gasolina:\n",
    "    * até 20 litros, desconto de 4% por litro\n",
    "    * acima de 20 litros, desconto de 6% por litro \n",
    "\n",
    "Escreva um algoritmo que leia o número de litros vendidos, o tipo de combustível (codificado da seguinte forma: A-álcool, G-gasolina), calcule e imprima o valor a ser pago pelo cliente sabendo-se que o preço do litro da gasolina é 2,50 o preço do litro do álcool é 1,90."
   ]
  },
  {
   "cell_type": "code",
   "execution_count": 96,
   "metadata": {},
   "outputs": [],
   "source": [
    "def CalcularValorPagar():\n",
    "\n",
    "    numLitros = float(input('Informe nro. litros vendidos: '))\n",
    "    tipo = input('Tipo de combustível (A ou G): ')\n",
    "    \n",
    "    if (tipo=='A'):\n",
    "        dic = {'preco': 1.90, 'desc<20': 0.03, 'desc>20': 0.05}\n",
    "    elif (tipo=='G'):\n",
    "        dic = {'preco': 2.50, 'desc<20': 0.04, 'desc>20': 0.06}\n",
    "    else:\n",
    "        return 'Tipo informado incorretamente!'\n",
    "    \n",
    "    valorPagar = numLitros * dic['preco']\n",
    "    \n",
    "    if (numLitros<=20):\n",
    "        valorPagar -= valorPagar * dic['desc<20']\n",
    "    else:\n",
    "        valorPagar -= valorPagar * dic['desc>20']\n",
    "    \n",
    "    print('Valor a pagar (' + tipo + '): ' + str(round(valorPagar,2)))"
   ]
  },
  {
   "cell_type": "code",
   "execution_count": 98,
   "metadata": {},
   "outputs": [
    {
     "name": "stdout",
     "output_type": "stream",
     "text": [
      "Informe nro. litros vendidos: 30\n",
      "Tipo de combustível (A ou G): G\n",
      "Valor a pagar (G): 70.5\n"
     ]
    }
   ],
   "source": [
    "#testando função de calcular gasolina ou alcool\n",
    "CalcularValorPagar()"
   ]
  },
  {
   "cell_type": "markdown",
   "metadata": {},
   "source": [
    "__Exercício 19__: Faça um programa, com uma função que necessite de três argumentos, e que forneça a soma desses três argumentos."
   ]
  },
  {
   "cell_type": "code",
   "execution_count": 2,
   "metadata": {},
   "outputs": [],
   "source": [
    "def Soma(arg1, arg2, arg3):\n",
    "    return arg1 + arg2 + arg3"
   ]
  },
  {
   "cell_type": "code",
   "execution_count": 3,
   "metadata": {},
   "outputs": [
    {
     "name": "stdout",
     "output_type": "stream",
     "text": [
      "36\n"
     ]
    }
   ],
   "source": [
    "#testando função de soma\n",
    "print(Soma(10, 12, 14))"
   ]
  },
  {
   "cell_type": "markdown",
   "metadata": {},
   "source": [
    "__Exercício 20__: Faça um programa, com uma função que necessite de um argumento. A função retorna o valor de caractere ‘P’, se seu argumento for positivo, e ‘N’, se seu argumento for zero ou negativo."
   ]
  },
  {
   "cell_type": "code",
   "execution_count": 13,
   "metadata": {},
   "outputs": [],
   "source": [
    "def VerificaPositivoNegativo(arg1):\n",
    "    \n",
    "    if arg1 > 0:\n",
    "        return 'P'\n",
    "    else:\n",
    "        return 'N'"
   ]
  },
  {
   "cell_type": "code",
   "execution_count": 14,
   "metadata": {},
   "outputs": [
    {
     "name": "stdout",
     "output_type": "stream",
     "text": [
      "N\n"
     ]
    }
   ],
   "source": [
    "#testando função VerificaPositivoNegativo\n",
    "print(VerificaPositivoNegativo(-12))"
   ]
  },
  {
   "cell_type": "markdown",
   "metadata": {},
   "source": [
    "__Exercício 21__: Crie uma função que receba um número inteiro e fale se ele é par ou impar. Inclua uma lógica caso um valor não inteiro seja passado como argumento para a função."
   ]
  },
  {
   "cell_type": "code",
   "execution_count": 24,
   "metadata": {},
   "outputs": [],
   "source": [
    "def VerificaParOuImpar(numero):\n",
    "    \n",
    "    if not str(numero).isdigit():\n",
    "        return 'Valor {numero} informado não é inteiro!'.format(numero=str(numero))\n",
    "    \n",
    "    if (numero % 2 == 0):\n",
    "        return 'O número {numero} é PAR.'.format(numero=str(numero))\n",
    "    else:\n",
    "        return 'O número {numero} é IMPAR.'.format(numero=str(numero))"
   ]
  },
  {
   "cell_type": "code",
   "execution_count": 25,
   "metadata": {},
   "outputs": [
    {
     "name": "stdout",
     "output_type": "stream",
     "text": [
      "Valor 1.2 informado não é inteiro!\n",
      "O número 100 é PAR.\n"
     ]
    }
   ],
   "source": [
    "#testando função VerificaParOuImpar\n",
    "print(VerificaParOuImpar(1.2))\n",
    "print(VerificaParOuImpar(100))"
   ]
  },
  {
   "cell_type": "markdown",
   "metadata": {},
   "source": [
    "__Exercício 22__: Seja um angulo α dado por um número positivo em graus. Se 0 ≤ α < 90, então é o quadrante 1. Se 90 ≤ α < 180, então é quadrante 2. Se 180 ≤ α < 270, então é quadrante 3. Se 270 ≤ α < 360, então é quadrante 4. Se 360 ≤ α < 450, então é quadrante 1 e assim por diante. Escreva um função que dado um valor alpha retorna o quadrante correspondente."
   ]
  },
  {
   "cell_type": "code",
   "execution_count": 127,
   "metadata": {},
   "outputs": [],
   "source": [
    "def RetornaQuadrante(x):\n",
    "    x = x/90\n",
    "    x = x % 4\n",
    "    if (x - int(x) == 0):\n",
    "        x += 0.1\n",
    "\n",
    "    return math.ceil(x % 4)   "
   ]
  },
  {
   "cell_type": "code",
   "execution_count": 136,
   "metadata": {},
   "outputs": [
    {
     "name": "stdout",
     "output_type": "stream",
     "text": [
      "2\n"
     ]
    }
   ],
   "source": [
    "#testando a função de retornar quadrante\n",
    "print(RetornaQuadrante(90))"
   ]
  },
  {
   "cell_type": "markdown",
   "metadata": {},
   "source": [
    "___Exercício 23___: Crie uma lista de vetores com todas as combinações possivels dos número a seguir\n",
    "\n",
    "`[22, 10, 44, 65]`"
   ]
  },
  {
   "cell_type": "code",
   "execution_count": 51,
   "metadata": {},
   "outputs": [
    {
     "name": "stdout",
     "output_type": "stream",
     "text": [
      "[(22, 22), (22, 10), (22, 44), (22, 65), (10, 22), (10, 10), (10, 44), (10, 65), (44, 22), (44, 10), (44, 44), (44, 65), (65, 22), (65, 10), (65, 44), (65, 65)]\n"
     ]
    }
   ],
   "source": [
    "#Exercicio 23: criando loop\n",
    "lista = [22, 10, 44, 65]\n",
    "\n",
    "listaVetores = []\n",
    "for i in lista:\n",
    "    for n in lista:\n",
    "        listaVetores.append((i,n))\n",
    "\n",
    "print(listaVetores)    "
   ]
  },
  {
   "cell_type": "code",
   "execution_count": 50,
   "metadata": {},
   "outputs": [
    {
     "name": "stdout",
     "output_type": "stream",
     "text": [
      "[(22, 22), (22, 10), (22, 44), (22, 65), (10, 22), (10, 10), (10, 44), (10, 65), (44, 22), (44, 10), (44, 44), (44, 65), (65, 22), (65, 10), (65, 44), (65, 65)]\n"
     ]
    }
   ],
   "source": [
    "#Exercicio 23: utilizando uma biblioteca\n",
    "from itertools import product\n",
    "\n",
    "lista = [22, 10, 44, 65]\n",
    "\n",
    "print(list(product(lista, repeat=2)))"
   ]
  },
  {
   "cell_type": "markdown",
   "metadata": {},
   "source": [
    "__Exercício 24__: Faça um programa que converta da notação de 24 horas para a notação de 12 horas. Por exemplo, o programa deve converter 14:25 em 2:25 P.M. A entrada é dada em dois inteiros. Deve haver pelo menos duas funções: uma para fazer a conversão e uma para a saída. Registre a informação A.M./P.M. como um valor ‘A’ para A.M. e ‘P’ para P.M. Assim, a função para efetuar as conversões terá um parâmetro formal para registrar se é A.M. ou P.M. Inclua um loop que permita que o usuário repita esse cálculo para novos valores de entrada todas as vezes que desejar."
   ]
  },
  {
   "cell_type": "markdown",
   "metadata": {},
   "source": [
    "___Exercício 25___: Crie um programa que simule um dado gerando números até conseguir um 6. Conte quantas tentativas foram ncessárias."
   ]
  }
 ],
 "metadata": {
  "kernelspec": {
   "display_name": "Python 3",
   "language": "python",
   "name": "python3"
  },
  "language_info": {
   "codemirror_mode": {
    "name": "ipython",
    "version": 3
   },
   "file_extension": ".py",
   "mimetype": "text/x-python",
   "name": "python",
   "nbconvert_exporter": "python",
   "pygments_lexer": "ipython3",
   "version": "3.7.4"
  }
 },
 "nbformat": 4,
 "nbformat_minor": 1
}
