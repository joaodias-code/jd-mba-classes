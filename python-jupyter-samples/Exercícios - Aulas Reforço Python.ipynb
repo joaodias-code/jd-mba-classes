{
 "cells": [
  {
   "cell_type": "markdown",
   "metadata": {},
   "source": [
    "Professor: trolemberg@gmail.com\n",
    "\n",
    "Exercicio: O desafio agora funcionará da seguinte forma, vamos continuar na feira. Crie uma classe Fruta (essa será a classe pai) inclua nela os metodos que são pertinentes a ela. Cria 2 classes filhas: Banana e Maça, ambas devem herdar da classe pai. Alem das informações basicas, a classe pai tem que ter um metodo de preço, que ser˜"
   ]
  },
  {
   "cell_type": "code",
   "execution_count": 19,
   "metadata": {},
   "outputs": [],
   "source": [
    "class fruta():\n",
    "    \n",
    "    def __init__(self, nome):\n",
    "        self.nome = nome\n",
    "    \n",
    "    def preco(self, preco):\n",
    "        self.preco = preco\n",
    "        \n",
    "class banana(fruta):\n",
    "    \n",
    "    def __init__(self):\n",
    "        super().__init__('banana')\n",
    "    \n",
    "class maca(fruta):\n",
    "    \n",
    "    def __init__(self):\n",
    "        super().__init__('maça')"
   ]
  },
  {
   "cell_type": "code",
   "execution_count": 20,
   "metadata": {},
   "outputs": [
    {
     "name": "stdout",
     "output_type": "stream",
     "text": [
      "10\n"
     ]
    }
   ],
   "source": [
    "fruta = banana()\n",
    "\n",
    "fruta.preco(10)\n",
    "print(fruta.preco)"
   ]
  }
 ],
 "metadata": {
  "kernelspec": {
   "display_name": "Python 3",
   "language": "python",
   "name": "python3"
  },
  "language_info": {
   "codemirror_mode": {
    "name": "ipython",
    "version": 3
   },
   "file_extension": ".py",
   "mimetype": "text/x-python",
   "name": "python",
   "nbconvert_exporter": "python",
   "pygments_lexer": "ipython3",
   "version": "3.7.4"
  }
 },
 "nbformat": 4,
 "nbformat_minor": 2
}
