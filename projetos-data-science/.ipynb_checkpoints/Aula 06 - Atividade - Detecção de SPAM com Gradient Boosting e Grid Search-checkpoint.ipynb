{
 "cells": [
  {
   "cell_type": "code",
   "execution_count": 4,
   "metadata": {},
   "outputs": [],
   "source": [
    "import warnings\n",
    "from sklearn.exceptions import ConvergenceWarning\n",
    "warnings.filterwarnings(\"ignore\", category=DeprecationWarning)\n",
    "warnings.filterwarnings(\"ignore\", category=ConvergenceWarning)"
   ]
  },
  {
   "cell_type": "markdown",
   "metadata": {},
   "source": [
    "#### Importação das biliotecas necessárias"
   ]
  },
  {
   "cell_type": "code",
   "execution_count": 5,
   "metadata": {},
   "outputs": [],
   "source": [
    "# Importa as bibliotecas padrão\n",
    "import pandas as pd\n",
    "import numpy as np\n",
    "import matplotlib.pyplot as plt\n",
    "import seaborn as sns\n",
    "\n",
    "# Importa utilidades, funções de pre-processamento do sklearn\n",
    "from sklearn.model_selection import train_test_split\n",
    "from sklearn.preprocessing import StandardScaler\n",
    "from sklearn import datasets\n",
    "from sklearn.utils import shuffle\n",
    "\n",
    "# Importa as métricas de avaliação\n",
    "from sklearn.metrics import roc_auc_score, accuracy_score, classification_report, confusion_matrix\n",
    "\n",
    "# Importa o GridSearchCV e os classificadores\n",
    "from sklearn.model_selection import GridSearchCV\n",
    "from sklearn.svm import SVC\n",
    "from sklearn.ensemble import GradientBoostingClassifier\n",
    "from sklearn.neural_network import MLPClassifier\n",
    "%matplotlib inline"
   ]
  },
  {
   "cell_type": "markdown",
   "metadata": {},
   "source": [
    "#### Importação dos dados históricos e exploração\n",
    "\n",
    "Podemos encontrar esse dataset no site do UCI Machine Learning Repository:\n",
    "https://archive.ics.uci.edu/ml/datasets/spambase\n",
    "\n"
   ]
  },
  {
   "cell_type": "code",
   "execution_count": 6,
   "metadata": {},
   "outputs": [],
   "source": [
    "base_emails = pd.read_csv(\"spambase.data\", header=None)"
   ]
  },
  {
   "cell_type": "markdown",
   "metadata": {},
   "source": [
    "Visualiza as 5 primeiras linhas"
   ]
  },
  {
   "cell_type": "code",
   "execution_count": 7,
   "metadata": {
    "scrolled": true
   },
   "outputs": [
    {
     "data": {
      "text/html": [
       "<div>\n",
       "<style scoped>\n",
       "    .dataframe tbody tr th:only-of-type {\n",
       "        vertical-align: middle;\n",
       "    }\n",
       "\n",
       "    .dataframe tbody tr th {\n",
       "        vertical-align: top;\n",
       "    }\n",
       "\n",
       "    .dataframe thead th {\n",
       "        text-align: right;\n",
       "    }\n",
       "</style>\n",
       "<table border=\"1\" class=\"dataframe\">\n",
       "  <thead>\n",
       "    <tr style=\"text-align: right;\">\n",
       "      <th></th>\n",
       "      <th>0</th>\n",
       "      <th>1</th>\n",
       "      <th>2</th>\n",
       "      <th>3</th>\n",
       "      <th>4</th>\n",
       "      <th>5</th>\n",
       "      <th>6</th>\n",
       "      <th>7</th>\n",
       "      <th>8</th>\n",
       "      <th>9</th>\n",
       "      <th>...</th>\n",
       "      <th>48</th>\n",
       "      <th>49</th>\n",
       "      <th>50</th>\n",
       "      <th>51</th>\n",
       "      <th>52</th>\n",
       "      <th>53</th>\n",
       "      <th>54</th>\n",
       "      <th>55</th>\n",
       "      <th>56</th>\n",
       "      <th>57</th>\n",
       "    </tr>\n",
       "  </thead>\n",
       "  <tbody>\n",
       "    <tr>\n",
       "      <th>0</th>\n",
       "      <td>0.00</td>\n",
       "      <td>0.64</td>\n",
       "      <td>0.64</td>\n",
       "      <td>0.0</td>\n",
       "      <td>0.32</td>\n",
       "      <td>0.00</td>\n",
       "      <td>0.00</td>\n",
       "      <td>0.00</td>\n",
       "      <td>0.00</td>\n",
       "      <td>0.00</td>\n",
       "      <td>...</td>\n",
       "      <td>0.00</td>\n",
       "      <td>0.000</td>\n",
       "      <td>0.0</td>\n",
       "      <td>0.778</td>\n",
       "      <td>0.000</td>\n",
       "      <td>0.000</td>\n",
       "      <td>3.756</td>\n",
       "      <td>61</td>\n",
       "      <td>278</td>\n",
       "      <td>1</td>\n",
       "    </tr>\n",
       "    <tr>\n",
       "      <th>1</th>\n",
       "      <td>0.21</td>\n",
       "      <td>0.28</td>\n",
       "      <td>0.50</td>\n",
       "      <td>0.0</td>\n",
       "      <td>0.14</td>\n",
       "      <td>0.28</td>\n",
       "      <td>0.21</td>\n",
       "      <td>0.07</td>\n",
       "      <td>0.00</td>\n",
       "      <td>0.94</td>\n",
       "      <td>...</td>\n",
       "      <td>0.00</td>\n",
       "      <td>0.132</td>\n",
       "      <td>0.0</td>\n",
       "      <td>0.372</td>\n",
       "      <td>0.180</td>\n",
       "      <td>0.048</td>\n",
       "      <td>5.114</td>\n",
       "      <td>101</td>\n",
       "      <td>1028</td>\n",
       "      <td>1</td>\n",
       "    </tr>\n",
       "    <tr>\n",
       "      <th>2</th>\n",
       "      <td>0.06</td>\n",
       "      <td>0.00</td>\n",
       "      <td>0.71</td>\n",
       "      <td>0.0</td>\n",
       "      <td>1.23</td>\n",
       "      <td>0.19</td>\n",
       "      <td>0.19</td>\n",
       "      <td>0.12</td>\n",
       "      <td>0.64</td>\n",
       "      <td>0.25</td>\n",
       "      <td>...</td>\n",
       "      <td>0.01</td>\n",
       "      <td>0.143</td>\n",
       "      <td>0.0</td>\n",
       "      <td>0.276</td>\n",
       "      <td>0.184</td>\n",
       "      <td>0.010</td>\n",
       "      <td>9.821</td>\n",
       "      <td>485</td>\n",
       "      <td>2259</td>\n",
       "      <td>1</td>\n",
       "    </tr>\n",
       "    <tr>\n",
       "      <th>3</th>\n",
       "      <td>0.00</td>\n",
       "      <td>0.00</td>\n",
       "      <td>0.00</td>\n",
       "      <td>0.0</td>\n",
       "      <td>0.63</td>\n",
       "      <td>0.00</td>\n",
       "      <td>0.31</td>\n",
       "      <td>0.63</td>\n",
       "      <td>0.31</td>\n",
       "      <td>0.63</td>\n",
       "      <td>...</td>\n",
       "      <td>0.00</td>\n",
       "      <td>0.137</td>\n",
       "      <td>0.0</td>\n",
       "      <td>0.137</td>\n",
       "      <td>0.000</td>\n",
       "      <td>0.000</td>\n",
       "      <td>3.537</td>\n",
       "      <td>40</td>\n",
       "      <td>191</td>\n",
       "      <td>1</td>\n",
       "    </tr>\n",
       "    <tr>\n",
       "      <th>4</th>\n",
       "      <td>0.00</td>\n",
       "      <td>0.00</td>\n",
       "      <td>0.00</td>\n",
       "      <td>0.0</td>\n",
       "      <td>0.63</td>\n",
       "      <td>0.00</td>\n",
       "      <td>0.31</td>\n",
       "      <td>0.63</td>\n",
       "      <td>0.31</td>\n",
       "      <td>0.63</td>\n",
       "      <td>...</td>\n",
       "      <td>0.00</td>\n",
       "      <td>0.135</td>\n",
       "      <td>0.0</td>\n",
       "      <td>0.135</td>\n",
       "      <td>0.000</td>\n",
       "      <td>0.000</td>\n",
       "      <td>3.537</td>\n",
       "      <td>40</td>\n",
       "      <td>191</td>\n",
       "      <td>1</td>\n",
       "    </tr>\n",
       "  </tbody>\n",
       "</table>\n",
       "<p>5 rows × 58 columns</p>\n",
       "</div>"
      ],
      "text/plain": [
       "     0     1     2    3     4     5     6     7     8     9  ...    48     49  \\\n",
       "0  0.00  0.64  0.64  0.0  0.32  0.00  0.00  0.00  0.00  0.00 ...  0.00  0.000   \n",
       "1  0.21  0.28  0.50  0.0  0.14  0.28  0.21  0.07  0.00  0.94 ...  0.00  0.132   \n",
       "2  0.06  0.00  0.71  0.0  1.23  0.19  0.19  0.12  0.64  0.25 ...  0.01  0.143   \n",
       "3  0.00  0.00  0.00  0.0  0.63  0.00  0.31  0.63  0.31  0.63 ...  0.00  0.137   \n",
       "4  0.00  0.00  0.00  0.0  0.63  0.00  0.31  0.63  0.31  0.63 ...  0.00  0.135   \n",
       "\n",
       "    50     51     52     53     54   55    56  57  \n",
       "0  0.0  0.778  0.000  0.000  3.756   61   278   1  \n",
       "1  0.0  0.372  0.180  0.048  5.114  101  1028   1  \n",
       "2  0.0  0.276  0.184  0.010  9.821  485  2259   1  \n",
       "3  0.0  0.137  0.000  0.000  3.537   40   191   1  \n",
       "4  0.0  0.135  0.000  0.000  3.537   40   191   1  \n",
       "\n",
       "[5 rows x 58 columns]"
      ]
     },
     "execution_count": 7,
     "metadata": {},
     "output_type": "execute_result"
    }
   ],
   "source": [
    "base_emails.head()"
   ]
  },
  {
   "cell_type": "markdown",
   "metadata": {},
   "source": [
    "Exibindo as dimensões do dataset\n",
    "\n",
    "4601 registros e 58 colunas"
   ]
  },
  {
   "cell_type": "code",
   "execution_count": 8,
   "metadata": {
    "scrolled": true
   },
   "outputs": [
    {
     "data": {
      "text/plain": [
       "(4601, 58)"
      ]
     },
     "execution_count": 8,
     "metadata": {},
     "output_type": "execute_result"
    }
   ],
   "source": [
    "base_emails.shape"
   ]
  },
  {
   "cell_type": "markdown",
   "metadata": {},
   "source": [
    "Vimos na parte teórica da aula sobre o desbalanceamento de datasets e como isso pode ser um problema. Vamos exibir o balanceamento do dataset que importamos"
   ]
  },
  {
   "cell_type": "code",
   "execution_count": 9,
   "metadata": {},
   "outputs": [
    {
     "data": {
      "image/png": "[encoded data removed]",
      "text/plain": [
       "<matplotlib.figure.Figure at 0x225144a6128>"
      ]
     },
     "metadata": {},
     "output_type": "display_data"
    }
   ],
   "source": [
    "graph = base_emails.iloc[:,57].value_counts().plot(kind='bar')"
   ]
  },
  {
   "cell_type": "markdown",
   "metadata": {},
   "source": [
    "#### Preparação dos dados\n",
    "\n",
    "Vamos agora para a preparação dos dados, separando em conjunto de treino e teste com a função `train_test_split` do sklearn.\n",
    "O legal dessa função, é que ela não apenas separa de acordo com a proporção teste/treino definida pelo parâmetro `test_size`, mas também a proporção de classes em ambos os conjuntos"
   ]
  },
  {
   "cell_type": "code",
   "execution_count": 10,
   "metadata": {},
   "outputs": [],
   "source": [
    "x = base_emails.loc[:,0:56]\n",
    "y = base_emails.loc[:,57]"
   ]
  },
  {
   "cell_type": "code",
   "execution_count": 11,
   "metadata": {},
   "outputs": [],
   "source": [
    "x_train, x_test, y_train, y_test = train_test_split(x, y, test_size=0.3)"
   ]
  },
  {
   "cell_type": "code",
   "execution_count": 12,
   "metadata": {},
   "outputs": [
    {
     "name": "stdout",
     "output_type": "stream",
     "text": [
      "Distribuição de classes no conjunto de treino: \n",
      "0    1957\n",
      "1    1263\n",
      "Name: 57, dtype: int64\n",
      "\n",
      "Distribuição de classes no conjunto de teste: \n",
      "0    831\n",
      "1    550\n",
      "Name: 57, dtype: int64\n"
     ]
    }
   ],
   "source": [
    "print('Distribuição de classes no conjunto de treino: ')\n",
    "print(y_train.value_counts())\n",
    "print()\n",
    "print('Distribuição de classes no conjunto de teste: ')\n",
    "print(y_test.value_counts())"
   ]
  },
  {
   "cell_type": "markdown",
   "metadata": {},
   "source": [
    "Na aula passada vimos como transformar a distribuição dos dados usando a transformação logarítmica. Agora vamos ver outra técnica para normalizar dados. Essa vocês já foram introduzidos como __z-score__. O objeto `StandardScalar` do pacote sklearn transforma os dados em seus z-scores, transformando a distribuição enviesada dos dados em uma distribuição que segue uma tendência central (valores próximos a média da distribuição serão atribuídos com z-scores menores enquanto que valores distantes da tendência possuem z-scores maiores) "
   ]
  },
  {
   "cell_type": "code",
   "execution_count": 13,
   "metadata": {},
   "outputs": [],
   "source": [
    "scaler = StandardScaler()\n",
    "x_train = scaler.fit_transform(x_train)\n",
    "x_test = scaler.transform(x_test)"
   ]
  },
  {
   "cell_type": "markdown",
   "metadata": {},
   "source": [
    "#### Modelagem\n",
    "\n",
    "Instancia os três modelos que vamos testar.\n",
    "\n",
    "Primeiro vamos testar os modelos com os hiperparâmetros padrão (apenas setando random_state) para colher sempre os mesmos resultados a título de comparação."
   ]
  },
  {
   "cell_type": "code",
   "execution_count": 14,
   "metadata": {},
   "outputs": [],
   "source": [
    "clf_A = SVC(random_state=42)\n",
    "clf_B = MLPClassifier(random_state=42)\n",
    "clf_C = GradientBoostingClassifier(random_state=42)"
   ]
  },
  {
   "cell_type": "markdown",
   "metadata": {},
   "source": [
    "Define os grids de hiperparâmetros de cada um dos modelos"
   ]
  },
  {
   "cell_type": "code",
   "execution_count": 15,
   "metadata": {},
   "outputs": [],
   "source": [
    "grid_SVC = [{'kernel': ['rbf', 'linear', 'poly'],\n",
    "             'C': [1, 10, 100, 1000],\n",
    "             'random_state':[42]}]\n",
    "\n",
    "grid_MLP = [{'hidden_layer_sizes': [(1,), (5,), (5,5,)],\n",
    "                     'activation' : ['identity', 'logistic', 'tanh', 'relu'],\n",
    "                     'learning_rate': ['constant', 'adaptive'],\n",
    "                     'alpha': [0.0001, 0.01, 0.1, 1],\n",
    "                     'random_state':[42]}]\n",
    "\n",
    "grid_boosting = [{'n_estimators': [10, 100, 300],\n",
    "                     'max_depth' : [3, 10],\n",
    "                     'min_samples_split': [2, 10],\n",
    "                     'learning_rate': [0.001, 0.1], \n",
    "                     'subsample': [0.5, 1],\n",
    "                     'random_state':[42]}]"
   ]
  },
  {
   "cell_type": "markdown",
   "metadata": {},
   "source": [
    "Como estamos trabalhando com três modelos e 6 processos de treino e previsão, vamos encapsulá-los para facilitar nosso trabalho"
   ]
  },
  {
   "cell_type": "markdown",
   "metadata": {},
   "source": [
    "Cria uma função para gerar a matriz de confusão"
   ]
  },
  {
   "cell_type": "code",
   "execution_count": 16,
   "metadata": {},
   "outputs": [],
   "source": [
    "def matriz_confusao(y_real, y_pred, titulo='Matriz de Confusão', size=(7,4)):\n",
    "    '''\n",
    "    Gera a matriz de confusão, recebendo o y real e o y previsto pelo modelo\n",
    "    Título por padrão é Matriz de confusão mas pode ser alterado    \n",
    "    '''\n",
    "    matriz = confusion_matrix(y_real, y_pred)\n",
    "    fig, ax = plt.subplots(figsize=size)\n",
    "    sns.heatmap(matriz, annot=True, ax = ax, fmt='g')\n",
    "    ax.set_xlabel('Previsão');ax.set_ylabel('Real')\n",
    "    ax.set_title(titulo) \n",
    "    ax.xaxis.set_ticklabels([0,1]); ax.yaxis.set_ticklabels([0,1])"
   ]
  },
  {
   "cell_type": "markdown",
   "metadata": {},
   "source": [
    "Cria uma função para treinar o modelo não otimizado, colher as previsões e exibir os resultados"
   ]
  },
  {
   "cell_type": "code",
   "execution_count": 17,
   "metadata": {},
   "outputs": [],
   "source": [
    "def testar_classificador(clf, x_train, x_test, y_train, y_test):\n",
    "    '''\n",
    "    Essa função recebe o classificador e os conjuntos de treino e teste, realiza o treinamento e previsões\n",
    "    Exibe as métricas de análise e a matriz de confusão\n",
    "    '''\n",
    "    print('Iniciando treinamento com %s' % clf.__class__.__name__)\n",
    "    clf.fit(x_train, y_train)\n",
    "    \n",
    "    print('Realizando previsões com o conjunto de teste')\n",
    "    y_pred = clf.predict(x_test)\n",
    "    \n",
    "    print('Acurácia geral do modelo: %.3f' % accuracy_score(y_test, y_pred))\n",
    "          \n",
    "    print('Exibindo métricas por classe: ')\n",
    "    print(classification_report(y_test, y_pred))\n",
    "          \n",
    "    print('Exibindo Matriz de Confusão')\n",
    "    matriz_confusao(y_test, y_pred, titulo=clf.__class__.__name__ + ' não otimizado')"
   ]
  },
  {
   "cell_type": "markdown",
   "metadata": {},
   "source": [
    "Cria uma função para realizar o grid search nos modelos, passando o grid de hiperparâmetros, exibir os resultados da busca e depois exibir os resultados do modelo otimizado nos mesmos dados do modelo não otimizado"
   ]
  },
  {
   "cell_type": "code",
   "execution_count": 18,
   "metadata": {},
   "outputs": [],
   "source": [
    "def tunar_classificador(clf, grid, x_train, x_test, y_train, y_test):\n",
    "    '''\n",
    "    Recebe o classificador, o grid de parâmetros e os conjuntos de treino e teste\n",
    "    Realiza a busca de hiperparâmetros e exibe os resultados\n",
    "    Exibe as métricas de análise e a matriz de confusão\n",
    "    '''\n",
    "    print('Iniciando a tunagem com %s' % clf.__class__.__name__)\n",
    "    clf_ = GridSearchCV(clf, grid, cv=5)\n",
    "    clf_.fit(x_train, y_train)\n",
    "    \n",
    "    print('Busca de parâmetros: ')\n",
    "    means = clf_.cv_results_['mean_test_score']\n",
    "    stds = clf_.cv_results_['std_test_score']\n",
    "    params = clf_.cv_results_['params']\n",
    "    for mean, std, params in zip(means, stds, params):\n",
    "        print('Score: %0.3f (+/-%0.03f) para params: %r' % (mean, std*2, params))\n",
    "\n",
    "    print('Melhor combinação de parâmetros: ')\n",
    "    print(clf_.best_params_)\n",
    "    \n",
    "    print('Realizando previsões com o conjunto de teste')\n",
    "    y_pred = clf_.predict(x_test)\n",
    "    \n",
    "    print('Acurácia geral do modelo: %.3f' % accuracy_score(y_test, y_pred))\n",
    "          \n",
    "    print('Exibindo métricas por classe: ')\n",
    "    print(classification_report(y_test, y_pred))\n",
    "          \n",
    "    print('Exibindo Matriz de Confusão')\n",
    "    matriz_confusao(y_test, y_pred, titulo=clf.__class__.__name__ + ' otimizado')    "
   ]
  },
  {
   "cell_type": "markdown",
   "metadata": {},
   "source": [
    "#### Modelagem com Support Vector Classifier (SVC)\n",
    "\n",
    "link da implementação do sklearn: https://scikit-learn.org/stable/modules/generated/sklearn.svm.SVC.html\n",
    "\n",
    "Testando modelo não otimizado:"
   ]
  },
  {
   "cell_type": "code",
   "execution_count": 53,
   "metadata": {},
   "outputs": [
    {
     "name": "stdout",
     "output_type": "stream",
     "text": [
      "Iniciando treinamento com SVC\n",
      "Realizando previsões com o conjunto de teste\n",
      "Acurácia geral do modelo: 0.933\n",
      "Exibindo métricas por classe: \n",
      "             precision    recall  f1-score   support\n",
      "\n",
      "          0       0.94      0.95      0.95       853\n",
      "          1       0.92      0.90      0.91       528\n",
      "\n",
      "avg / total       0.93      0.93      0.93      1381\n",
      "\n",
      "Exibindo Matriz de Confusão\n"
     ]
    },
    {
     "data": {
      "image/png": "[encoded data removed]",
      "text/plain": [
       "<matplotlib.figure.Figure at 0x279c66114e0>"
      ]
     },
     "metadata": {},
     "output_type": "display_data"
    }
   ],
   "source": [
    "testar_classificador(clf_A, x_train, x_test, y_train, y_test)"
   ]
  },
  {
   "cell_type": "markdown",
   "metadata": {},
   "source": [
    "Testando modelo otimizado:"
   ]
  },
  {
   "cell_type": "code",
   "execution_count": 54,
   "metadata": {},
   "outputs": [
    {
     "name": "stdout",
     "output_type": "stream",
     "text": [
      "Iniciando a tunagem com SVC\n",
      "Busca de parâmetros: \n",
      "Score: 0.930 (+/-0.026) para params: {'C': 1, 'kernel': 'rbf'}\n",
      "Score: 0.928 (+/-0.014) para params: {'C': 1, 'kernel': 'linear'}\n",
      "Score: 0.766 (+/-0.009) para params: {'C': 1, 'kernel': 'poly'}\n",
      "Score: 0.932 (+/-0.020) para params: {'C': 10, 'kernel': 'rbf'}\n",
      "Score: 0.929 (+/-0.015) para params: {'C': 10, 'kernel': 'linear'}\n",
      "Score: 0.854 (+/-0.021) para params: {'C': 10, 'kernel': 'poly'}\n",
      "Score: 0.928 (+/-0.022) para params: {'C': 100, 'kernel': 'rbf'}\n",
      "Score: 0.929 (+/-0.013) para params: {'C': 100, 'kernel': 'linear'}\n",
      "Score: 0.914 (+/-0.020) para params: {'C': 100, 'kernel': 'poly'}\n",
      "Score: 0.911 (+/-0.017) para params: {'C': 1000, 'kernel': 'rbf'}\n",
      "Score: 0.931 (+/-0.014) para params: {'C': 1000, 'kernel': 'linear'}\n",
      "Score: 0.920 (+/-0.016) para params: {'C': 1000, 'kernel': 'poly'}\n",
      "Melhor combinação de parâmetros: \n",
      "{'C': 10, 'kernel': 'rbf'}\n",
      "Realizando previsões com o conjunto de teste\n",
      "Acurácia geral do modelo: 0.935\n",
      "Exibindo métricas por classe: \n",
      "             precision    recall  f1-score   support\n",
      "\n",
      "          0       0.94      0.95      0.95       853\n",
      "          1       0.92      0.91      0.91       528\n",
      "\n",
      "avg / total       0.93      0.93      0.93      1381\n",
      "\n",
      "Exibindo Matriz de Confusão\n"
     ]
    },
    {
     "data": {
      "image/png": "[encoded data removed]",
      "text/plain": [
       "<matplotlib.figure.Figure at 0x279c65a2550>"
      ]
     },
     "metadata": {},
     "output_type": "display_data"
    }
   ],
   "source": [
    "tunar_classificador(clf_A, grid_SVC, x_train, x_test, y_train, y_test)"
   ]
  },
  {
   "cell_type": "markdown",
   "metadata": {},
   "source": [
    "#### Modelagem com Multi Layer Perceptron  Classifier (MLPClassifier)\n",
    "\n",
    "link da implementação do sklearn: https://scikit-learn.org/stable/modules/generated/sklearn.neural_network.MLPClassifier.html\n",
    "\n",
    "Testando modelo não otimizado:"
   ]
  },
  {
   "cell_type": "code",
   "execution_count": 55,
   "metadata": {},
   "outputs": [
    {
     "name": "stdout",
     "output_type": "stream",
     "text": [
      "Iniciando treinamento com MLPClassifier\n",
      "Realizando previsões com o conjunto de teste\n",
      "Acurácia geral do modelo: 0.944\n",
      "Exibindo métricas por classe: \n",
      "             precision    recall  f1-score   support\n",
      "\n",
      "          0       0.96      0.95      0.95       853\n",
      "          1       0.93      0.93      0.93       528\n",
      "\n",
      "avg / total       0.94      0.94      0.94      1381\n",
      "\n",
      "Exibindo Matriz de Confusão\n"
     ]
    },
    {
     "data": {
      "image/png": "[encoded data removed]",
      "text/plain": [
       "<matplotlib.figure.Figure at 0x279c6553940>"
      ]
     },
     "metadata": {},
     "output_type": "display_data"
    }
   ],
   "source": [
    "testar_classificador(clf_B, x_train, x_test, y_train, y_test)"
   ]
  },
  {
   "cell_type": "markdown",
   "metadata": {},
   "source": [
    "Testando modelo otimizado:"
   ]
  },
  {
   "cell_type": "code",
   "execution_count": 19,
   "metadata": {},
   "outputs": [
    {
     "name": "stdout",
     "output_type": "stream",
     "text": [
      "Iniciando a tunagem com MLPClassifier\n",
      "Busca de parâmetros: \n",
      "Score: 0.922 (+/-0.015) para params: {'activation': 'identity', 'alpha': 0.0001, 'hidden_layer_sizes': (1,), 'learning_rate': 'constant', 'random_state': 42}\n",
      "Score: 0.922 (+/-0.015) para params: {'activation': 'identity', 'alpha': 0.0001, 'hidden_layer_sizes': (1,), 'learning_rate': 'adaptive', 'random_state': 42}\n",
      "Score: 0.924 (+/-0.013) para params: {'activation': 'identity', 'alpha': 0.0001, 'hidden_layer_sizes': (5,), 'learning_rate': 'constant', 'random_state': 42}\n",
      "Score: 0.924 (+/-0.013) para params: {'activation': 'identity', 'alpha': 0.0001, 'hidden_layer_sizes': (5,), 'learning_rate': 'adaptive', 'random_state': 42}\n",
      "Score: 0.925 (+/-0.014) para params: {'activation': 'identity', 'alpha': 0.0001, 'hidden_layer_sizes': (5, 5), 'learning_rate': 'constant', 'random_state': 42}\n",
      "Score: 0.925 (+/-0.014) para params: {'activation': 'identity', 'alpha': 0.0001, 'hidden_layer_sizes': (5, 5), 'learning_rate': 'adaptive', 'random_state': 42}\n",
      "Score: 0.922 (+/-0.016) para params: {'activation': 'identity', 'alpha': 0.01, 'hidden_layer_sizes': (1,), 'learning_rate': 'constant', 'random_state': 42}\n",
      "Score: 0.922 (+/-0.016) para params: {'activation': 'identity', 'alpha': 0.01, 'hidden_layer_sizes': (1,), 'learning_rate': 'adaptive', 'random_state': 42}\n",
      "Score: 0.924 (+/-0.013) para params: {'activation': 'identity', 'alpha': 0.01, 'hidden_layer_sizes': (5,), 'learning_rate': 'constant', 'random_state': 42}\n",
      "Score: 0.924 (+/-0.013) para params: {'activation': 'identity', 'alpha': 0.01, 'hidden_layer_sizes': (5,), 'learning_rate': 'adaptive', 'random_state': 42}\n",
      "Score: 0.925 (+/-0.014) para params: {'activation': 'identity', 'alpha': 0.01, 'hidden_layer_sizes': (5, 5), 'learning_rate': 'constant', 'random_state': 42}\n",
      "Score: 0.925 (+/-0.014) para params: {'activation': 'identity', 'alpha': 0.01, 'hidden_layer_sizes': (5, 5), 'learning_rate': 'adaptive', 'random_state': 42}\n",
      "Score: 0.921 (+/-0.014) para params: {'activation': 'identity', 'alpha': 0.1, 'hidden_layer_sizes': (1,), 'learning_rate': 'constant', 'random_state': 42}\n",
      "Score: 0.921 (+/-0.014) para params: {'activation': 'identity', 'alpha': 0.1, 'hidden_layer_sizes': (1,), 'learning_rate': 'adaptive', 'random_state': 42}\n",
      "Score: 0.925 (+/-0.013) para params: {'activation': 'identity', 'alpha': 0.1, 'hidden_layer_sizes': (5,), 'learning_rate': 'constant', 'random_state': 42}\n",
      "Score: 0.925 (+/-0.013) para params: {'activation': 'identity', 'alpha': 0.1, 'hidden_layer_sizes': (5,), 'learning_rate': 'adaptive', 'random_state': 42}\n",
      "Score: 0.925 (+/-0.013) para params: {'activation': 'identity', 'alpha': 0.1, 'hidden_layer_sizes': (5, 5), 'learning_rate': 'constant', 'random_state': 42}\n",
      "Score: 0.925 (+/-0.013) para params: {'activation': 'identity', 'alpha': 0.1, 'hidden_layer_sizes': (5, 5), 'learning_rate': 'adaptive', 'random_state': 42}\n",
      "Score: 0.921 (+/-0.014) para params: {'activation': 'identity', 'alpha': 1, 'hidden_layer_sizes': (1,), 'learning_rate': 'constant', 'random_state': 42}\n",
      "Score: 0.921 (+/-0.014) para params: {'activation': 'identity', 'alpha': 1, 'hidden_layer_sizes': (1,), 'learning_rate': 'adaptive', 'random_state': 42}\n",
      "Score: 0.922 (+/-0.011) para params: {'activation': 'identity', 'alpha': 1, 'hidden_layer_sizes': (5,), 'learning_rate': 'constant', 'random_state': 42}\n",
      "Score: 0.922 (+/-0.011) para params: {'activation': 'identity', 'alpha': 1, 'hidden_layer_sizes': (5,), 'learning_rate': 'adaptive', 'random_state': 42}\n",
      "Score: 0.922 (+/-0.010) para params: {'activation': 'identity', 'alpha': 1, 'hidden_layer_sizes': (5, 5), 'learning_rate': 'constant', 'random_state': 42}\n",
      "Score: 0.922 (+/-0.010) para params: {'activation': 'identity', 'alpha': 1, 'hidden_layer_sizes': (5, 5), 'learning_rate': 'adaptive', 'random_state': 42}\n",
      "Score: 0.923 (+/-0.005) para params: {'activation': 'logistic', 'alpha': 0.0001, 'hidden_layer_sizes': (1,), 'learning_rate': 'constant', 'random_state': 42}\n",
      "Score: 0.923 (+/-0.005) para params: {'activation': 'logistic', 'alpha': 0.0001, 'hidden_layer_sizes': (1,), 'learning_rate': 'adaptive', 'random_state': 42}\n",
      "Score: 0.934 (+/-0.014) para params: {'activation': 'logistic', 'alpha': 0.0001, 'hidden_layer_sizes': (5,), 'learning_rate': 'constant', 'random_state': 42}\n",
      "Score: 0.934 (+/-0.014) para params: {'activation': 'logistic', 'alpha': 0.0001, 'hidden_layer_sizes': (5,), 'learning_rate': 'adaptive', 'random_state': 42}\n",
      "Score: 0.931 (+/-0.013) para params: {'activation': 'logistic', 'alpha': 0.0001, 'hidden_layer_sizes': (5, 5), 'learning_rate': 'constant', 'random_state': 42}\n",
      "Score: 0.931 (+/-0.013) para params: {'activation': 'logistic', 'alpha': 0.0001, 'hidden_layer_sizes': (5, 5), 'learning_rate': 'adaptive', 'random_state': 42}\n",
      "Score: 0.922 (+/-0.004) para params: {'activation': 'logistic', 'alpha': 0.01, 'hidden_layer_sizes': (1,), 'learning_rate': 'constant', 'random_state': 42}\n",
      "Score: 0.922 (+/-0.004) para params: {'activation': 'logistic', 'alpha': 0.01, 'hidden_layer_sizes': (1,), 'learning_rate': 'adaptive', 'random_state': 42}\n",
      "Score: 0.934 (+/-0.012) para params: {'activation': 'logistic', 'alpha': 0.01, 'hidden_layer_sizes': (5,), 'learning_rate': 'constant', 'random_state': 42}\n",
      "Score: 0.934 (+/-0.012) para params: {'activation': 'logistic', 'alpha': 0.01, 'hidden_layer_sizes': (5,), 'learning_rate': 'adaptive', 'random_state': 42}\n",
      "Score: 0.931 (+/-0.014) para params: {'activation': 'logistic', 'alpha': 0.01, 'hidden_layer_sizes': (5, 5), 'learning_rate': 'constant', 'random_state': 42}\n",
      "Score: 0.931 (+/-0.014) para params: {'activation': 'logistic', 'alpha': 0.01, 'hidden_layer_sizes': (5, 5), 'learning_rate': 'adaptive', 'random_state': 42}\n",
      "Score: 0.922 (+/-0.007) para params: {'activation': 'logistic', 'alpha': 0.1, 'hidden_layer_sizes': (1,), 'learning_rate': 'constant', 'random_state': 42}\n",
      "Score: 0.922 (+/-0.007) para params: {'activation': 'logistic', 'alpha': 0.1, 'hidden_layer_sizes': (1,), 'learning_rate': 'adaptive', 'random_state': 42}\n",
      "Score: 0.933 (+/-0.008) para params: {'activation': 'logistic', 'alpha': 0.1, 'hidden_layer_sizes': (5,), 'learning_rate': 'constant', 'random_state': 42}\n",
      "Score: 0.933 (+/-0.008) para params: {'activation': 'logistic', 'alpha': 0.1, 'hidden_layer_sizes': (5,), 'learning_rate': 'adaptive', 'random_state': 42}\n",
      "Score: 0.933 (+/-0.013) para params: {'activation': 'logistic', 'alpha': 0.1, 'hidden_layer_sizes': (5, 5), 'learning_rate': 'constant', 'random_state': 42}\n",
      "Score: 0.933 (+/-0.013) para params: {'activation': 'logistic', 'alpha': 0.1, 'hidden_layer_sizes': (5, 5), 'learning_rate': 'adaptive', 'random_state': 42}\n",
      "Score: 0.919 (+/-0.014) para params: {'activation': 'logistic', 'alpha': 1, 'hidden_layer_sizes': (1,), 'learning_rate': 'constant', 'random_state': 42}\n",
      "Score: 0.919 (+/-0.014) para params: {'activation': 'logistic', 'alpha': 1, 'hidden_layer_sizes': (1,), 'learning_rate': 'adaptive', 'random_state': 42}\n",
      "Score: 0.923 (+/-0.013) para params: {'activation': 'logistic', 'alpha': 1, 'hidden_layer_sizes': (5,), 'learning_rate': 'constant', 'random_state': 42}\n",
      "Score: 0.923 (+/-0.013) para params: {'activation': 'logistic', 'alpha': 1, 'hidden_layer_sizes': (5,), 'learning_rate': 'adaptive', 'random_state': 42}\n",
      "Score: 0.924 (+/-0.013) para params: {'activation': 'logistic', 'alpha': 1, 'hidden_layer_sizes': (5, 5), 'learning_rate': 'constant', 'random_state': 42}\n",
      "Score: 0.924 (+/-0.013) para params: {'activation': 'logistic', 'alpha': 1, 'hidden_layer_sizes': (5, 5), 'learning_rate': 'adaptive', 'random_state': 42}\n",
      "Score: 0.927 (+/-0.012) para params: {'activation': 'tanh', 'alpha': 0.0001, 'hidden_layer_sizes': (1,), 'learning_rate': 'constant', 'random_state': 42}\n",
      "Score: 0.927 (+/-0.012) para params: {'activation': 'tanh', 'alpha': 0.0001, 'hidden_layer_sizes': (1,), 'learning_rate': 'adaptive', 'random_state': 42}\n",
      "Score: 0.935 (+/-0.015) para params: {'activation': 'tanh', 'alpha': 0.0001, 'hidden_layer_sizes': (5,), 'learning_rate': 'constant', 'random_state': 42}\n",
      "Score: 0.935 (+/-0.015) para params: {'activation': 'tanh', 'alpha': 0.0001, 'hidden_layer_sizes': (5,), 'learning_rate': 'adaptive', 'random_state': 42}\n",
      "Score: 0.935 (+/-0.012) para params: {'activation': 'tanh', 'alpha': 0.0001, 'hidden_layer_sizes': (5, 5), 'learning_rate': 'constant', 'random_state': 42}\n",
      "Score: 0.935 (+/-0.012) para params: {'activation': 'tanh', 'alpha': 0.0001, 'hidden_layer_sizes': (5, 5), 'learning_rate': 'adaptive', 'random_state': 42}\n",
      "Score: 0.927 (+/-0.012) para params: {'activation': 'tanh', 'alpha': 0.01, 'hidden_layer_sizes': (1,), 'learning_rate': 'constant', 'random_state': 42}\n",
      "Score: 0.927 (+/-0.012) para params: {'activation': 'tanh', 'alpha': 0.01, 'hidden_layer_sizes': (1,), 'learning_rate': 'adaptive', 'random_state': 42}\n",
      "Score: 0.934 (+/-0.015) para params: {'activation': 'tanh', 'alpha': 0.01, 'hidden_layer_sizes': (5,), 'learning_rate': 'constant', 'random_state': 42}\n",
      "Score: 0.934 (+/-0.015) para params: {'activation': 'tanh', 'alpha': 0.01, 'hidden_layer_sizes': (5,), 'learning_rate': 'adaptive', 'random_state': 42}\n",
      "Score: 0.934 (+/-0.012) para params: {'activation': 'tanh', 'alpha': 0.01, 'hidden_layer_sizes': (5, 5), 'learning_rate': 'constant', 'random_state': 42}\n",
      "Score: 0.934 (+/-0.012) para params: {'activation': 'tanh', 'alpha': 0.01, 'hidden_layer_sizes': (5, 5), 'learning_rate': 'adaptive', 'random_state': 42}\n",
      "Score: 0.926 (+/-0.013) para params: {'activation': 'tanh', 'alpha': 0.1, 'hidden_layer_sizes': (1,), 'learning_rate': 'constant', 'random_state': 42}\n",
      "Score: 0.926 (+/-0.013) para params: {'activation': 'tanh', 'alpha': 0.1, 'hidden_layer_sizes': (1,), 'learning_rate': 'adaptive', 'random_state': 42}\n",
      "Score: 0.936 (+/-0.012) para params: {'activation': 'tanh', 'alpha': 0.1, 'hidden_layer_sizes': (5,), 'learning_rate': 'constant', 'random_state': 42}\n",
      "Score: 0.936 (+/-0.012) para params: {'activation': 'tanh', 'alpha': 0.1, 'hidden_layer_sizes': (5,), 'learning_rate': 'adaptive', 'random_state': 42}\n",
      "Score: 0.936 (+/-0.017) para params: {'activation': 'tanh', 'alpha': 0.1, 'hidden_layer_sizes': (5, 5), 'learning_rate': 'constant', 'random_state': 42}\n",
      "Score: 0.936 (+/-0.017) para params: {'activation': 'tanh', 'alpha': 0.1, 'hidden_layer_sizes': (5, 5), 'learning_rate': 'adaptive', 'random_state': 42}\n",
      "Score: 0.929 (+/-0.009) para params: {'activation': 'tanh', 'alpha': 1, 'hidden_layer_sizes': (1,), 'learning_rate': 'constant', 'random_state': 42}\n",
      "Score: 0.929 (+/-0.009) para params: {'activation': 'tanh', 'alpha': 1, 'hidden_layer_sizes': (1,), 'learning_rate': 'adaptive', 'random_state': 42}\n",
      "Score: 0.934 (+/-0.010) para params: {'activation': 'tanh', 'alpha': 1, 'hidden_layer_sizes': (5,), 'learning_rate': 'constant', 'random_state': 42}\n",
      "Score: 0.934 (+/-0.010) para params: {'activation': 'tanh', 'alpha': 1, 'hidden_layer_sizes': (5,), 'learning_rate': 'adaptive', 'random_state': 42}\n",
      "Score: 0.936 (+/-0.015) para params: {'activation': 'tanh', 'alpha': 1, 'hidden_layer_sizes': (5, 5), 'learning_rate': 'constant', 'random_state': 42}\n",
      "Score: 0.936 (+/-0.015) para params: {'activation': 'tanh', 'alpha': 1, 'hidden_layer_sizes': (5, 5), 'learning_rate': 'adaptive', 'random_state': 42}\n",
      "Score: 0.919 (+/-0.019) para params: {'activation': 'relu', 'alpha': 0.0001, 'hidden_layer_sizes': (1,), 'learning_rate': 'constant', 'random_state': 42}\n",
      "Score: 0.919 (+/-0.019) para params: {'activation': 'relu', 'alpha': 0.0001, 'hidden_layer_sizes': (1,), 'learning_rate': 'adaptive', 'random_state': 42}\n",
      "Score: 0.934 (+/-0.021) para params: {'activation': 'relu', 'alpha': 0.0001, 'hidden_layer_sizes': (5,), 'learning_rate': 'constant', 'random_state': 42}\n",
      "Score: 0.934 (+/-0.021) para params: {'activation': 'relu', 'alpha': 0.0001, 'hidden_layer_sizes': (5,), 'learning_rate': 'adaptive', 'random_state': 42}\n",
      "Score: 0.929 (+/-0.019) para params: {'activation': 'relu', 'alpha': 0.0001, 'hidden_layer_sizes': (5, 5), 'learning_rate': 'constant', 'random_state': 42}\n",
      "Score: 0.929 (+/-0.019) para params: {'activation': 'relu', 'alpha': 0.0001, 'hidden_layer_sizes': (5, 5), 'learning_rate': 'adaptive', 'random_state': 42}\n",
      "Score: 0.919 (+/-0.019) para params: {'activation': 'relu', 'alpha': 0.01, 'hidden_layer_sizes': (1,), 'learning_rate': 'constant', 'random_state': 42}\n",
      "Score: 0.919 (+/-0.019) para params: {'activation': 'relu', 'alpha': 0.01, 'hidden_layer_sizes': (1,), 'learning_rate': 'adaptive', 'random_state': 42}\n",
      "Score: 0.934 (+/-0.021) para params: {'activation': 'relu', 'alpha': 0.01, 'hidden_layer_sizes': (5,), 'learning_rate': 'constant', 'random_state': 42}\n",
      "Score: 0.934 (+/-0.021) para params: {'activation': 'relu', 'alpha': 0.01, 'hidden_layer_sizes': (5,), 'learning_rate': 'adaptive', 'random_state': 42}\n",
      "Score: 0.930 (+/-0.017) para params: {'activation': 'relu', 'alpha': 0.01, 'hidden_layer_sizes': (5, 5), 'learning_rate': 'constant', 'random_state': 42}\n",
      "Score: 0.930 (+/-0.017) para params: {'activation': 'relu', 'alpha': 0.01, 'hidden_layer_sizes': (5, 5), 'learning_rate': 'adaptive', 'random_state': 42}\n",
      "Score: 0.918 (+/-0.017) para params: {'activation': 'relu', 'alpha': 0.1, 'hidden_layer_sizes': (1,), 'learning_rate': 'constant', 'random_state': 42}\n",
      "Score: 0.918 (+/-0.017) para params: {'activation': 'relu', 'alpha': 0.1, 'hidden_layer_sizes': (1,), 'learning_rate': 'adaptive', 'random_state': 42}\n",
      "Score: 0.933 (+/-0.020) para params: {'activation': 'relu', 'alpha': 0.1, 'hidden_layer_sizes': (5,), 'learning_rate': 'constant', 'random_state': 42}\n",
      "Score: 0.933 (+/-0.020) para params: {'activation': 'relu', 'alpha': 0.1, 'hidden_layer_sizes': (5,), 'learning_rate': 'adaptive', 'random_state': 42}\n",
      "Score: 0.929 (+/-0.015) para params: {'activation': 'relu', 'alpha': 0.1, 'hidden_layer_sizes': (5, 5), 'learning_rate': 'constant', 'random_state': 42}\n",
      "Score: 0.929 (+/-0.015) para params: {'activation': 'relu', 'alpha': 0.1, 'hidden_layer_sizes': (5, 5), 'learning_rate': 'adaptive', 'random_state': 42}\n",
      "Score: 0.923 (+/-0.010) para params: {'activation': 'relu', 'alpha': 1, 'hidden_layer_sizes': (1,), 'learning_rate': 'constant', 'random_state': 42}\n",
      "Score: 0.923 (+/-0.010) para params: {'activation': 'relu', 'alpha': 1, 'hidden_layer_sizes': (1,), 'learning_rate': 'adaptive', 'random_state': 42}\n",
      "Score: 0.935 (+/-0.014) para params: {'activation': 'relu', 'alpha': 1, 'hidden_layer_sizes': (5,), 'learning_rate': 'constant', 'random_state': 42}\n",
      "Score: 0.935 (+/-0.014) para params: {'activation': 'relu', 'alpha': 1, 'hidden_layer_sizes': (5,), 'learning_rate': 'adaptive', 'random_state': 42}\n",
      "Score: 0.933 (+/-0.013) para params: {'activation': 'relu', 'alpha': 1, 'hidden_layer_sizes': (5, 5), 'learning_rate': 'constant', 'random_state': 42}\n",
      "Score: 0.933 (+/-0.013) para params: {'activation': 'relu', 'alpha': 1, 'hidden_layer_sizes': (5, 5), 'learning_rate': 'adaptive', 'random_state': 42}\n",
      "Melhor combinação de parâmetros: \n",
      "{'activation': 'tanh', 'alpha': 1, 'hidden_layer_sizes': (5, 5), 'learning_rate': 'constant', 'random_state': 42}\n",
      "Realizando previsões com o conjunto de teste\n",
      "Acurácia geral do modelo: 0.930\n",
      "Exibindo métricas por classe: \n",
      "             precision    recall  f1-score   support\n",
      "\n",
      "          0       0.94      0.95      0.94       831\n",
      "          1       0.92      0.91      0.91       550\n",
      "\n",
      "avg / total       0.93      0.93      0.93      1381\n",
      "\n",
      "Exibindo Matriz de Confusão\n"
     ]
    },
    {
     "data": {
      "image/png": "[encoded data removed]",
      "text/plain": [
       "<matplotlib.figure.Figure at 0x2251d7c06a0>"
      ]
     },
     "metadata": {},
     "output_type": "display_data"
    }
   ],
   "source": [
    "tunar_classificador(clf_B, grid_MLP, x_train, x_test, y_train, y_test)"
   ]
  },
  {
   "cell_type": "markdown",
   "metadata": {},
   "source": [
    "#### Modelagem com GradientBoostingClassifier\n",
    "\n",
    "link da implementação do sklearn: https://scikit-learn.org/stable/modules/generated/sklearn.ensemble.GradientBoostingClassifier.html\n",
    "\n",
    "Testando modelo não otimizado:"
   ]
  },
  {
   "cell_type": "code",
   "execution_count": 20,
   "metadata": {},
   "outputs": [
    {
     "name": "stdout",
     "output_type": "stream",
     "text": [
      "Iniciando treinamento com GradientBoostingClassifier\n",
      "Realizando previsões com o conjunto de teste\n",
      "Acurácia geral do modelo: 0.951\n",
      "Exibindo métricas por classe: \n",
      "             precision    recall  f1-score   support\n",
      "\n",
      "          0       0.95      0.97      0.96       831\n",
      "          1       0.95      0.92      0.94       550\n",
      "\n",
      "avg / total       0.95      0.95      0.95      1381\n",
      "\n",
      "Exibindo Matriz de Confusão\n"
     ]
    },
    {
     "data": {
      "image/png": "[encoded data removed]",
      "text/plain": [
       "<matplotlib.figure.Figure at 0x22521580630>"
      ]
     },
     "metadata": {},
     "output_type": "display_data"
    }
   ],
   "source": [
    "testar_classificador(clf_C, x_train, x_test, y_train, y_test)"
   ]
  },
  {
   "cell_type": "markdown",
   "metadata": {},
   "source": [
    "Testando modelo otimizado:"
   ]
  },
  {
   "cell_type": "code",
   "execution_count": 22,
   "metadata": {},
   "outputs": [
    {
     "name": "stdout",
     "output_type": "stream",
     "text": [
      "Iniciando a tunagem com GradientBoostingClassifier\n",
      "Busca de parâmetros: \n",
      "Score: 0.608 (+/-0.001) para params: {'learning_rate': 0.001, 'max_depth': 3, 'min_samples_split': 2, 'n_estimators': 10, 'random_state': 42, 'subsample': 0.5}\n",
      "Score: 0.608 (+/-0.001) para params: {'learning_rate': 0.001, 'max_depth': 3, 'min_samples_split': 2, 'n_estimators': 10, 'random_state': 42, 'subsample': 1}\n",
      "Score: 0.608 (+/-0.001) para params: {'learning_rate': 0.001, 'max_depth': 3, 'min_samples_split': 2, 'n_estimators': 100, 'random_state': 42, 'subsample': 0.5}\n",
      "Score: 0.608 (+/-0.001) para params: {'learning_rate': 0.001, 'max_depth': 3, 'min_samples_split': 2, 'n_estimators': 100, 'random_state': 42, 'subsample': 1}\n",
      "Score: 0.854 (+/-0.014) para params: {'learning_rate': 0.001, 'max_depth': 3, 'min_samples_split': 2, 'n_estimators': 300, 'random_state': 42, 'subsample': 0.5}\n",
      "Score: 0.858 (+/-0.012) para params: {'learning_rate': 0.001, 'max_depth': 3, 'min_samples_split': 2, 'n_estimators': 300, 'random_state': 42, 'subsample': 1}\n",
      "Score: 0.608 (+/-0.001) para params: {'learning_rate': 0.001, 'max_depth': 3, 'min_samples_split': 10, 'n_estimators': 10, 'random_state': 42, 'subsample': 0.5}\n",
      "Score: 0.608 (+/-0.001) para params: {'learning_rate': 0.001, 'max_depth': 3, 'min_samples_split': 10, 'n_estimators': 10, 'random_state': 42, 'subsample': 1}\n",
      "Score: 0.608 (+/-0.001) para params: {'learning_rate': 0.001, 'max_depth': 3, 'min_samples_split': 10, 'n_estimators': 100, 'random_state': 42, 'subsample': 0.5}\n",
      "Score: 0.608 (+/-0.001) para params: {'learning_rate': 0.001, 'max_depth': 3, 'min_samples_split': 10, 'n_estimators': 100, 'random_state': 42, 'subsample': 1}\n",
      "Score: 0.854 (+/-0.014) para params: {'learning_rate': 0.001, 'max_depth': 3, 'min_samples_split': 10, 'n_estimators': 300, 'random_state': 42, 'subsample': 0.5}\n",
      "Score: 0.858 (+/-0.012) para params: {'learning_rate': 0.001, 'max_depth': 3, 'min_samples_split': 10, 'n_estimators': 300, 'random_state': 42, 'subsample': 1}\n",
      "Score: 0.608 (+/-0.001) para params: {'learning_rate': 0.001, 'max_depth': 10, 'min_samples_split': 2, 'n_estimators': 10, 'random_state': 42, 'subsample': 0.5}\n",
      "Score: 0.608 (+/-0.001) para params: {'learning_rate': 0.001, 'max_depth': 10, 'min_samples_split': 2, 'n_estimators': 10, 'random_state': 42, 'subsample': 1}\n",
      "Score: 0.608 (+/-0.001) para params: {'learning_rate': 0.001, 'max_depth': 10, 'min_samples_split': 2, 'n_estimators': 100, 'random_state': 42, 'subsample': 0.5}\n",
      "Score: 0.608 (+/-0.001) para params: {'learning_rate': 0.001, 'max_depth': 10, 'min_samples_split': 2, 'n_estimators': 100, 'random_state': 42, 'subsample': 1}\n",
      "Score: 0.906 (+/-0.015) para params: {'learning_rate': 0.001, 'max_depth': 10, 'min_samples_split': 2, 'n_estimators': 300, 'random_state': 42, 'subsample': 0.5}\n",
      "Score: 0.926 (+/-0.021) para params: {'learning_rate': 0.001, 'max_depth': 10, 'min_samples_split': 2, 'n_estimators': 300, 'random_state': 42, 'subsample': 1}\n",
      "Score: 0.608 (+/-0.001) para params: {'learning_rate': 0.001, 'max_depth': 10, 'min_samples_split': 10, 'n_estimators': 10, 'random_state': 42, 'subsample': 0.5}\n",
      "Score: 0.608 (+/-0.001) para params: {'learning_rate': 0.001, 'max_depth': 10, 'min_samples_split': 10, 'n_estimators': 10, 'random_state': 42, 'subsample': 1}\n",
      "Score: 0.608 (+/-0.001) para params: {'learning_rate': 0.001, 'max_depth': 10, 'min_samples_split': 10, 'n_estimators': 100, 'random_state': 42, 'subsample': 0.5}\n",
      "Score: 0.608 (+/-0.001) para params: {'learning_rate': 0.001, 'max_depth': 10, 'min_samples_split': 10, 'n_estimators': 100, 'random_state': 42, 'subsample': 1}\n",
      "Score: 0.905 (+/-0.013) para params: {'learning_rate': 0.001, 'max_depth': 10, 'min_samples_split': 10, 'n_estimators': 300, 'random_state': 42, 'subsample': 0.5}\n",
      "Score: 0.918 (+/-0.021) para params: {'learning_rate': 0.001, 'max_depth': 10, 'min_samples_split': 10, 'n_estimators': 300, 'random_state': 42, 'subsample': 1}\n",
      "Score: 0.911 (+/-0.011) para params: {'learning_rate': 0.1, 'max_depth': 3, 'min_samples_split': 2, 'n_estimators': 10, 'random_state': 42, 'subsample': 0.5}\n",
      "Score: 0.911 (+/-0.019) para params: {'learning_rate': 0.1, 'max_depth': 3, 'min_samples_split': 2, 'n_estimators': 10, 'random_state': 42, 'subsample': 1}\n",
      "Score: 0.944 (+/-0.018) para params: {'learning_rate': 0.1, 'max_depth': 3, 'min_samples_split': 2, 'n_estimators': 100, 'random_state': 42, 'subsample': 0.5}\n",
      "Score: 0.946 (+/-0.014) para params: {'learning_rate': 0.1, 'max_depth': 3, 'min_samples_split': 2, 'n_estimators': 100, 'random_state': 42, 'subsample': 1}\n",
      "Score: 0.950 (+/-0.017) para params: {'learning_rate': 0.1, 'max_depth': 3, 'min_samples_split': 2, 'n_estimators': 300, 'random_state': 42, 'subsample': 0.5}\n",
      "Score: 0.952 (+/-0.008) para params: {'learning_rate': 0.1, 'max_depth': 3, 'min_samples_split': 2, 'n_estimators': 300, 'random_state': 42, 'subsample': 1}\n",
      "Score: 0.911 (+/-0.011) para params: {'learning_rate': 0.1, 'max_depth': 3, 'min_samples_split': 10, 'n_estimators': 10, 'random_state': 42, 'subsample': 0.5}\n",
      "Score: 0.911 (+/-0.019) para params: {'learning_rate': 0.1, 'max_depth': 3, 'min_samples_split': 10, 'n_estimators': 10, 'random_state': 42, 'subsample': 1}\n",
      "Score: 0.943 (+/-0.013) para params: {'learning_rate': 0.1, 'max_depth': 3, 'min_samples_split': 10, 'n_estimators': 100, 'random_state': 42, 'subsample': 0.5}\n",
      "Score: 0.947 (+/-0.016) para params: {'learning_rate': 0.1, 'max_depth': 3, 'min_samples_split': 10, 'n_estimators': 100, 'random_state': 42, 'subsample': 1}\n",
      "Score: 0.948 (+/-0.019) para params: {'learning_rate': 0.1, 'max_depth': 3, 'min_samples_split': 10, 'n_estimators': 300, 'random_state': 42, 'subsample': 0.5}\n",
      "Score: 0.953 (+/-0.013) para params: {'learning_rate': 0.1, 'max_depth': 3, 'min_samples_split': 10, 'n_estimators': 300, 'random_state': 42, 'subsample': 1}\n",
      "Score: 0.936 (+/-0.016) para params: {'learning_rate': 0.1, 'max_depth': 10, 'min_samples_split': 2, 'n_estimators': 10, 'random_state': 42, 'subsample': 0.5}\n",
      "Score: 0.930 (+/-0.014) para params: {'learning_rate': 0.1, 'max_depth': 10, 'min_samples_split': 2, 'n_estimators': 10, 'random_state': 42, 'subsample': 1}\n",
      "Score: 0.950 (+/-0.011) para params: {'learning_rate': 0.1, 'max_depth': 10, 'min_samples_split': 2, 'n_estimators': 100, 'random_state': 42, 'subsample': 0.5}\n",
      "Score: 0.952 (+/-0.010) para params: {'learning_rate': 0.1, 'max_depth': 10, 'min_samples_split': 2, 'n_estimators': 100, 'random_state': 42, 'subsample': 1}\n",
      "Score: 0.952 (+/-0.020) para params: {'learning_rate': 0.1, 'max_depth': 10, 'min_samples_split': 2, 'n_estimators': 300, 'random_state': 42, 'subsample': 0.5}\n",
      "Score: 0.955 (+/-0.012) para params: {'learning_rate': 0.1, 'max_depth': 10, 'min_samples_split': 2, 'n_estimators': 300, 'random_state': 42, 'subsample': 1}\n",
      "Score: 0.936 (+/-0.012) para params: {'learning_rate': 0.1, 'max_depth': 10, 'min_samples_split': 10, 'n_estimators': 10, 'random_state': 42, 'subsample': 0.5}\n",
      "Score: 0.933 (+/-0.017) para params: {'learning_rate': 0.1, 'max_depth': 10, 'min_samples_split': 10, 'n_estimators': 10, 'random_state': 42, 'subsample': 1}\n",
      "Score: 0.949 (+/-0.013) para params: {'learning_rate': 0.1, 'max_depth': 10, 'min_samples_split': 10, 'n_estimators': 100, 'random_state': 42, 'subsample': 0.5}\n",
      "Score: 0.952 (+/-0.014) para params: {'learning_rate': 0.1, 'max_depth': 10, 'min_samples_split': 10, 'n_estimators': 100, 'random_state': 42, 'subsample': 1}\n",
      "Score: 0.951 (+/-0.014) para params: {'learning_rate': 0.1, 'max_depth': 10, 'min_samples_split': 10, 'n_estimators': 300, 'random_state': 42, 'subsample': 0.5}\n",
      "Score: 0.957 (+/-0.009) para params: {'learning_rate': 0.1, 'max_depth': 10, 'min_samples_split': 10, 'n_estimators': 300, 'random_state': 42, 'subsample': 1}\n",
      "Melhor combinação de parâmetros: \n",
      "{'learning_rate': 0.1, 'max_depth': 10, 'min_samples_split': 10, 'n_estimators': 300, 'random_state': 42, 'subsample': 1}\n",
      "Realizando previsões com o conjunto de teste\n",
      "Acurácia geral do modelo: 0.952\n",
      "Exibindo métricas por classe: \n",
      "             precision    recall  f1-score   support\n",
      "\n",
      "          0       0.95      0.97      0.96       831\n",
      "          1       0.95      0.93      0.94       550\n",
      "\n",
      "avg / total       0.95      0.95      0.95      1381\n",
      "\n",
      "Exibindo Matriz de Confusão\n"
     ]
    },
    {
     "data": {
      "image/png": "[encoded data removed]",
      "text/plain": [
       "<matplotlib.figure.Figure at 0x22521ac9438>"
      ]
     },
     "metadata": {},
     "output_type": "display_data"
    }
   ],
   "source": [
    "tunar_classificador(clf_C, grid_boosting, x_train, x_test, y_train, y_test)"
   ]
  },
  {
   "cell_type": "code",
   "execution_count": null,
   "metadata": {},
   "outputs": [],
   "source": []
  }
 ],
 "metadata": {
  "kernelspec": {
   "display_name": "Python 3",
   "language": "python",
   "name": "python3"
  },
  "language_info": {
   "codemirror_mode": {
    "name": "ipython",
    "version": 3
   },
   "file_extension": ".py",
   "mimetype": "text/x-python",
   "name": "python",
   "nbconvert_exporter": "python",
   "pygments_lexer": "ipython3",
   "version": "3.6.4"
  }
 },
 "nbformat": 4,
 "nbformat_minor": 2
}
