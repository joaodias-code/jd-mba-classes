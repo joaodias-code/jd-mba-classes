{
 "cells": [
  {
   "cell_type": "markdown",
   "metadata": {},
   "source": [
    "Quando uma distribuição não é normal, tende-se usar a mediana e não a média, pois a média tende a estar distorcida.\n",
    "DICA: construir uma função que verifica se a função é normal e retorna para usar a média ou mediana, e o gráfico de distribuição."
   ]
  },
  {
   "cell_type": "markdown",
   "metadata": {},
   "source": [
    "Z-SCORE\n",
    "\n",
    "Z-score ~ 0 Próximo a tendência central\n",
    "\n",
    "Z-score >= 3 Anômalo"
   ]
  },
  {
   "cell_type": "code",
   "execution_count": null,
   "metadata": {},
   "outputs": [],
   "source": [
    "Modified Z-Score usa a mediana"
   ]
  }
 ],
 "metadata": {
  "kernelspec": {
   "display_name": "Python 3",
   "language": "python",
   "name": "python3"
  },
  "language_info": {
   "codemirror_mode": {
    "name": "ipython",
    "version": 3
   },
   "file_extension": ".py",
   "mimetype": "text/x-python",
   "name": "python",
   "nbconvert_exporter": "python",
   "pygments_lexer": "ipython3",
   "version": "3.7.4"
  }
 },
 "nbformat": 4,
 "nbformat_minor": 4
}
