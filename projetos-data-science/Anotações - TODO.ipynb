{
 "cells": [
  {
   "cell_type": "markdown",
   "metadata": {},
   "source": [
    "## Anotações DATA SCIENCE - Aulas"
   ]
  },
  {
   "cell_type": "markdown",
   "metadata": {},
   "source": [
    "Quando uma distribuição não é normal, tende-se usar a mediana e não a média, pois a média tende a estar distorcida.\n",
    "DICA: construir uma função que verifica se a função é normal e retorna para usar a média ou mediana, e o gráfico de distribuição."
   ]
  },
  {
   "cell_type": "markdown",
   "metadata": {},
   "source": [
    "**Z-SCORE**\n",
    "\n",
    "Métrica também utilizada para anomalia.\n",
    "\n",
    "Z-score ~ 0 (Próximo a tendência central)\n",
    "\n",
    "Z-score >= 3 (Anômalo)"
   ]
  },
  {
   "cell_type": "markdown",
   "metadata": {},
   "source": [
    "Modified Z-Score usa a mediana"
   ]
  },
  {
   "cell_type": "markdown",
   "metadata": {},
   "source": [
    "***ANOMALIAS com Clusterização***\n",
    "\n",
    "Clusterização são algoritmos não super-visionados, ou seja, não tem o dado rotulado (dado alvo). Fazendo cluster os pontos que ficam fora são anomalias.\n",
    "\n",
    "Normalizar os dados: como o algoritmo tem que realizar os cálculos de distância, normalizar melhora este esforço de cálculo.\n",
    "\n",
    "Usar K-MEANS => DBSCAN\n",
    "\n",
    "- Caso dataset com muitas dimensões, é preciso reduzir, usando PCA, antes de passar para o DBSCAN\n",
    "- Essa redução diminui a quantidade de dimensões e evita que os dados fiquem espaçados\n",
    "- Pois caso os dados estejam muito espaçados nas dimensões, o DBSCAN irá gerar muitos outliers.\n"
   ]
  },
  {
   "cell_type": "markdown",
   "metadata": {},
   "source": [
    "***ANALISAR VARIÁVEIS PARA VER A DISTRIBUIÇÃO***\n",
    "\n",
    "Quando faz um gráfico para ver a distruibuição dos dados, ajuda a ver o que será usado. Algum algoritmo de cluster para pegar a anomalia? Etc...\n",
    "\n",
    "Mas quando está num dataset com várias variáveis, o ideal é ver a correlação entre elas.\n",
    "Numa correlação é melhor:\n",
    "* Variáveis com boa correlação com target;\n",
    "* e que sejam variáveis com baixa correlação entre elas;\n",
    "\n",
    "Uma vez tendo isto, aí sim pode pegar duas variáveis e fazer um gráfico para analisar dispersão delas.\n"
   ]
  }
 ],
 "metadata": {
  "kernelspec": {
   "display_name": "Python 3",
   "language": "python",
   "name": "python3"
  },
  "language_info": {
   "codemirror_mode": {
    "name": "ipython",
    "version": 3
   },
   "file_extension": ".py",
   "mimetype": "text/x-python",
   "name": "python",
   "nbconvert_exporter": "python",
   "pygments_lexer": "ipython3",
   "version": "3.7.4"
  }
 },
 "nbformat": 4,
 "nbformat_minor": 4
}
