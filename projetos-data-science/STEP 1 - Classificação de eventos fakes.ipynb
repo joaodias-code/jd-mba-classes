{
 "cells": [
  {
   "cell_type": "markdown",
   "metadata": {},
   "source": [
    "### STEP 1 - Detecção de eventos 'fakes' em plataforma de venda de ingressos ###"
   ]
  },
  {
   "cell_type": "markdown",
   "metadata": {},
   "source": [
    "Grupo = João Otávio, Jeronimo, Leandro, Alexandre, Antonio Tabosa\n",
    "\n",
    "\n",
    "***Objetivo*** = Analisar eventos cadastrados numa plataforma de venda de ingressos para identificar aqueles que são fakes. No caso, são considerados eventos 'fakes' aqueles que não se caracterizam como eventos do tipo cursos, treinamentos ou festas. São produtos, muitas vezes ilícitos, cadastrados na plataforma para realizar divulgação do mesmo, e que redirecionam para uma página de venda. Portanto, trata-se de uma detecção de fraude e utilizaremos modelos de classificação, visto que a empresa possui uma amostra considerável de eventos 'fakes'.\n",
    "\n",
    "***O que é um Evento?*** = basicamente uma página de venda de ingresso de um curso ou treinamento ou festa. Possui banner de divulgação, título, descrição, local e ingressos disponíveis. \n",
    "\n",
    "***Justificativa*** = eventos que não se caracterizam como cursos, treinamentos ou festas, e estão vendendo produtos ilícitos podem acarretar prejuízos financeiros para empresa (legislação de produtos que podem ser vendidos no país). Além de denegrir a imagem da marca, pois fica exibindo vários produtos ruins para os clientes.\n",
    "\n",
    "Exemplo de evento lícito: https://www.gofree.co/multiplasfacesdemari\n",
    "\n",
    "Exemplo de evento fake: https://www.gofree.co/meratrim_5317"
   ]
  },
  {
   "cell_type": "code",
   "execution_count": 10,
   "metadata": {},
   "outputs": [
    {
     "data": {
      "text/html": [
       "<div>\n",
       "<style scoped>\n",
       "    .dataframe tbody tr th:only-of-type {\n",
       "        vertical-align: middle;\n",
       "    }\n",
       "\n",
       "    .dataframe tbody tr th {\n",
       "        vertical-align: top;\n",
       "    }\n",
       "\n",
       "    .dataframe thead th {\n",
       "        text-align: right;\n",
       "    }\n",
       "</style>\n",
       "<table border=\"1\" class=\"dataframe\">\n",
       "  <thead>\n",
       "    <tr style=\"text-align: right;\">\n",
       "      <th></th>\n",
       "      <th>id</th>\n",
       "      <th>nome_evento</th>\n",
       "      <th>categoria</th>\n",
       "      <th>tem_banner</th>\n",
       "      <th>IP</th>\n",
       "      <th>local_IP</th>\n",
       "      <th>tempo_de_cadastro_segundos</th>\n",
       "      <th>tem_descricao</th>\n",
       "      <th>descricao</th>\n",
       "      <th>local_evento</th>\n",
       "      <th>ingresso_pago</th>\n",
       "      <th>qtd_ingressos_a_venda</th>\n",
       "      <th>produtor_novo</th>\n",
       "      <th>produtor_ja_fez_vendas_pagas</th>\n",
       "      <th>fake</th>\n",
       "    </tr>\n",
       "  </thead>\n",
       "  <tbody>\n",
       "    <tr>\n",
       "      <td>0</td>\n",
       "      <td>12</td>\n",
       "      <td>meratrim</td>\n",
       "      <td>Cursos</td>\n",
       "      <td>0</td>\n",
       "      <td>180.123.233.12</td>\n",
       "      <td>Belo Horizonte</td>\n",
       "      <td>2</td>\n",
       "      <td>1</td>\n",
       "      <td>Que possuem no seu corpo na formação</td>\n",
       "      <td>Bosnia e Herzegovina</td>\n",
       "      <td>0</td>\n",
       "      <td>100</td>\n",
       "      <td>1</td>\n",
       "      <td>0</td>\n",
       "      <td>1</td>\n",
       "    </tr>\n",
       "    <tr>\n",
       "      <td>1</td>\n",
       "      <td>45</td>\n",
       "      <td>As Múltiplas Faces de Maria Madalena</td>\n",
       "      <td>Cursos</td>\n",
       "      <td>1</td>\n",
       "      <td>192.123.222.23</td>\n",
       "      <td>Belo Horizonte</td>\n",
       "      <td>38</td>\n",
       "      <td>1</td>\n",
       "      <td>Jornada de autoconhecimento e de reconciliação...</td>\n",
       "      <td>Belo Horizonte</td>\n",
       "      <td>1</td>\n",
       "      <td>40</td>\n",
       "      <td>0</td>\n",
       "      <td>1</td>\n",
       "      <td>0</td>\n",
       "    </tr>\n",
       "  </tbody>\n",
       "</table>\n",
       "</div>"
      ],
      "text/plain": [
       "   id                           nome_evento categoria  tem_banner  \\\n",
       "0  12                              meratrim    Cursos           0   \n",
       "1  45  As Múltiplas Faces de Maria Madalena    Cursos           1   \n",
       "\n",
       "               IP        local_IP  tempo_de_cadastro_segundos  tem_descricao  \\\n",
       "0  180.123.233.12  Belo Horizonte                           2              1   \n",
       "1  192.123.222.23  Belo Horizonte                          38              1   \n",
       "\n",
       "                                           descricao          local_evento  \\\n",
       "0               Que possuem no seu corpo na formação  Bosnia e Herzegovina   \n",
       "1  Jornada de autoconhecimento e de reconciliação...        Belo Horizonte   \n",
       "\n",
       "   ingresso_pago  qtd_ingressos_a_venda  produtor_novo  \\\n",
       "0              0                    100              1   \n",
       "1              1                     40              0   \n",
       "\n",
       "   produtor_ja_fez_vendas_pagas  fake  \n",
       "0                             0     1  \n",
       "1                             1     0  "
      ]
     },
     "execution_count": 10,
     "metadata": {},
     "output_type": "execute_result"
    }
   ],
   "source": [
    "#Dataset de exemplo (sem tratar o campo descrição com NLP):\n",
    "import pandas as pd\n",
    "data = pd.read_csv('../_datasets/exemplo_data_step1.csv', delimiter=';')\n",
    "data.head()"
   ]
  },
  {
   "cell_type": "markdown",
   "metadata": {},
   "source": [
    "**ETAPAS:**"
   ]
  },
  {
   "cell_type": "markdown",
   "metadata": {},
   "source": [
    "- Preparar o dataset usando NLP no campo \"descrição do evento\": este campo tem peso para classificar (muitas vezes os outros campos não serão suficientes)\n",
    "- Importar o dataset\n",
    "- Tratar dados nulos / remover colunas, tipo o IP\n",
    "- Transformar variáveis categóricas: 'categoria do evento'\n",
    "- Criar uma variável (feature) que identifica se o local do evento é igual ao local de criação do evento ( local do IP do usuário)\n",
    "- Balancear o dataset: proporção do que é 'fake ou não' (rótulo do dataset: coluna 'fake')\n",
    "- Normalizar os dados\n",
    "- Separar os dados de treino e de teste\n",
    "- Iniciar os modelos para comparação: SVM e GradientBoostingClassifier\n",
    "- Montar a matriz de confusão dos dois modelos\n",
    "- Aplicar uma métrica, verificando qual modelo foi melhor: \"Quais eventos são fakes?\"\n",
    "    + TP: previ 'fake' e esperado é 'fake'\n",
    "    + FP: previ 'fake' e esperado é 'não fake' \n",
    "    + TN: previ 'não fake' e esperado é 'não fake'\n",
    "    + FN: previ 'não fake' e esperado é 'fake'\n",
    "- **Resultado**: \n",
    "    + Maior problema para o negócio: identificar como 'fake' um 'evento licíto': stress ou perda do cliente (bloqueio do evento).\n",
    "    + Otimizar o FP = Precision"
   ]
  }
 ],
 "metadata": {
  "kernelspec": {
   "display_name": "Python 3",
   "language": "python",
   "name": "python3"
  },
  "language_info": {
   "codemirror_mode": {
    "name": "ipython",
    "version": 3
   },
   "file_extension": ".py",
   "mimetype": "text/x-python",
   "name": "python",
   "nbconvert_exporter": "python",
   "pygments_lexer": "ipython3",
   "version": "3.7.4"
  }
 },
 "nbformat": 4,
 "nbformat_minor": 4
}
