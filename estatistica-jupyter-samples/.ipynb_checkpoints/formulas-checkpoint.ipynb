{
 "cells": [
  {
   "cell_type": "markdown",
   "metadata": {},
   "source": [
    "# calculate means\n",
    "mean1, mean2 = mean(data1), mean(data2)"
   ]
  },
  {
   "cell_type": "markdown",
   "metadata": {},
   "source": [
    "# calculate sample standard deviations\n",
    "std1, std2 = std(data1, ddof=1), std(data2, ddof=1)"
   ]
  },
  {
   "cell_type": "markdown",
   "metadata": {},
   "source": [
    "# calculate standard errors\n",
    "n1, n2 = len(data1), len(data2)\n",
    "se1, se2 = std1/sqrt(n1), std2/sqrt(n2)\n",
    "\n",
    "# calculate standard errors\n",
    "n1, n2 = len(data1), len(data2)\n",
    "se1, se2 = std1/sqrt(n1), std2/sqrt(n2)"
   ]
  },
  {
   "cell_type": "markdown",
   "metadata": {},
   "source": [
    "# calculate standard errors\n",
    "se1, se2 = sem(data1), sem(data2)"
   ]
  },
  {
   "cell_type": "markdown",
   "metadata": {},
   "source": [
    "# standard error on the difference between the samples\n",
    "sed = sqrt(se1**2.0 + se2**2.0)"
   ]
  },
  {
   "cell_type": "code",
   "execution_count": null,
   "metadata": {},
   "outputs": [],
   "source": [
    "# calculate the t statistic\n",
    "t_stat = (mean1 - mean2) / sed"
   ]
  }
 ],
 "metadata": {
  "kernelspec": {
   "display_name": "Python 3",
   "language": "python",
   "name": "python3"
  },
  "language_info": {
   "codemirror_mode": {
    "name": "ipython",
    "version": 3
   },
   "file_extension": ".py",
   "mimetype": "text/x-python",
   "name": "python",
   "nbconvert_exporter": "python",
   "pygments_lexer": "ipython3",
   "version": "3.7.4"
  }
 },
 "nbformat": 4,
 "nbformat_minor": 2
}
