{
 "cells": [
  {
   "cell_type": "markdown",
   "metadata": {},
   "source": [
    "## Live University"
   ]
  },
  {
   "cell_type": "markdown",
   "metadata": {},
   "source": [
    "## Inferência Estatística em Python\n",
    "\n"
   ]
  },
  {
   "cell_type": "code",
   "execution_count": 1,
   "metadata": {},
   "outputs": [],
   "source": [
    "# Importando as bibliotecas necessárias\n",
    "import pandas as pd\n",
    "import numpy as np\n",
    "import scipy.stats as stats \n",
    "import matplotlib.pyplot as plt"
   ]
  },
  {
   "cell_type": "code",
   "execution_count": 3,
   "metadata": {},
   "outputs": [
    {
     "data": {
      "text/plain": [
       "array([27, 28, 58, 22, 31, 56, 30, 25, 56, 23, 40, 23, 35, 46, 24, 23, 50,\n",
       "       22, 35, 40, 27, 27, 49, 44, 41, 31, 48, 29, 44, 36, 41, 29, 45, 40,\n",
       "       55, 55, 52, 51, 31, 30, 40, 53, 46, 20, 20, 25, 51, 59, 43, 24, 47,\n",
       "       22, 29, 40, 22, 59, 20, 46, 57, 45, 53, 46, 24, 37, 26, 50, 24, 50,\n",
       "       44, 45, 34, 33, 37, 57, 56, 33, 34, 39, 57, 54, 26, 37, 22, 29, 56,\n",
       "       37, 54, 57, 37, 51, 59, 45, 56, 49, 23, 50, 44, 45, 56, 40, 52, 20,\n",
       "       23, 33, 47, 53, 33, 44, 53, 57, 34, 38, 52, 29, 33, 35, 32, 53, 29,\n",
       "       28, 29, 52, 45, 58, 27, 59, 46, 23, 42, 51, 41, 53, 51, 41, 31, 37,\n",
       "       59, 53, 24, 20, 51, 20, 46, 23, 58, 53, 29, 30, 32, 41, 47, 38, 31,\n",
       "       51, 57, 54, 51, 22, 21, 54, 41, 35, 58, 28, 34, 27, 22, 46, 52, 47,\n",
       "       28, 50, 48, 42, 39, 46, 55, 28, 22, 27, 52, 53, 24, 26, 28, 25, 20,\n",
       "       21, 23, 59, 26, 56, 36, 39, 33, 32, 57, 58, 56, 23, 40, 48, 22, 49,\n",
       "       59, 43, 43, 22, 56, 45, 34, 53, 38, 52, 44, 46, 42, 43, 57, 56, 34,\n",
       "       43, 36, 41, 55, 50, 27, 34, 25, 59, 46, 42, 32, 53, 49, 50, 48, 25,\n",
       "       54, 21, 40, 41, 24, 26, 42, 59, 37, 33, 28, 32, 35, 37, 48, 34, 52,\n",
       "       42, 37, 21, 47, 40, 44, 48, 58, 53, 32, 38, 24, 20, 38, 48, 59, 22,\n",
       "       47, 36, 46, 49, 42, 26, 30, 54, 55, 31, 45, 47, 21, 42, 43, 21, 21,\n",
       "       47, 54, 26, 53, 58, 48, 37, 40, 35, 25, 27, 33, 33, 42, 33, 20, 54,\n",
       "       59, 26, 21, 39, 47, 54, 37, 47, 51, 51, 36, 47, 25, 30, 45, 24, 33,\n",
       "       45, 38, 24, 30, 40, 26, 27, 35, 43, 24, 58, 48, 42, 27, 59, 29, 38,\n",
       "       54, 45, 23, 39, 33, 50, 55, 35, 31, 58, 39, 49, 27, 39, 51, 28, 45,\n",
       "       29, 30, 53, 41, 43, 20, 25, 53, 24, 42, 33, 33, 59, 25, 49, 25, 41,\n",
       "       38, 27, 46, 57, 32, 21, 45, 26, 34, 46, 36, 20, 39, 40, 48, 30, 37,\n",
       "       37, 45, 51, 24, 56, 23, 52, 21, 44, 40, 46, 45, 50, 45, 57, 48, 55,\n",
       "       25, 53, 57, 54, 28, 39, 59, 22, 46, 33, 31, 52, 28, 55, 21, 38, 45,\n",
       "       32, 31, 30, 56, 44, 42, 41, 47, 40, 44, 37, 36, 23, 27, 36, 48, 36,\n",
       "       30, 53, 35, 30, 59, 26, 45, 26, 21, 59, 58, 45, 38, 21, 53, 30, 20,\n",
       "       21, 31, 35, 25, 44, 46, 50, 23, 53, 47, 30, 43, 58, 46, 43, 26, 46,\n",
       "       40, 26, 57, 35, 47, 39, 32, 48, 45, 33, 55, 42, 41, 41, 54, 21, 30,\n",
       "       26, 44, 46, 21, 49, 39, 58, 26, 45, 49, 21, 38, 30, 54, 35, 43, 50,\n",
       "       51, 32, 53, 29, 54, 59, 58, 57, 34, 31, 53, 50, 45, 57, 39, 31, 52,\n",
       "       57, 43, 55, 35, 28, 38, 39, 42, 35, 50, 55, 39, 57, 40, 43, 51, 21,\n",
       "       58, 44, 20, 44, 56, 29, 22, 44, 56, 37, 38, 47, 55, 22, 40, 24, 33,\n",
       "       32, 43, 20, 53, 54, 33, 35, 35, 26, 31, 59, 28, 31, 43, 22, 40, 31,\n",
       "       58, 23, 20, 39, 42, 44, 59, 59, 25, 20, 31, 51, 47, 56, 29, 58, 20,\n",
       "       56, 55, 42, 40, 23, 36, 24, 55, 47, 29, 45, 31, 56, 38, 25, 32, 24,\n",
       "       49, 51, 50, 47, 39, 52, 24, 27, 44, 59, 49, 55, 34, 36, 41, 43, 41,\n",
       "       33, 55, 31, 28, 44, 22, 41, 26, 36, 47, 57, 35, 59, 47, 41, 58, 33,\n",
       "       25, 39, 56, 35, 23, 24, 57, 31, 29, 23, 53, 20, 35, 31, 44, 41, 43,\n",
       "       49, 34, 35, 48, 30, 20, 24, 22, 56, 51, 56, 27, 49, 33, 29, 53, 40,\n",
       "       56, 34, 38, 23, 59, 21, 38, 25, 37, 57, 38, 30, 20, 50, 32, 53, 24,\n",
       "       42, 36, 39, 21, 25, 29, 42, 54, 59, 55, 24, 32, 20, 36, 54, 23, 22,\n",
       "       51, 20, 52, 27, 25, 58, 25, 37, 27, 34, 48, 58, 22, 41, 43, 33, 24,\n",
       "       58, 57, 35, 40, 35, 40, 57, 41, 41, 48, 54, 37, 44, 24, 33, 38, 46,\n",
       "       56, 33, 53, 53, 38, 31, 59, 29, 51, 36, 24, 39, 42, 53, 43, 27, 20,\n",
       "       44, 40, 46, 51, 50, 54, 55, 22, 56, 31, 55, 23, 37, 32, 23, 24, 27,\n",
       "       28, 48, 34, 54, 32, 30, 47, 53, 26, 41, 37, 51, 21, 31, 29, 21, 36,\n",
       "       41, 25, 30, 21, 52, 36, 57, 39, 31, 21, 36, 49, 36, 28, 51, 50, 57,\n",
       "       22, 54, 22, 55, 37, 36, 56, 23, 44, 45, 50, 24, 27, 48, 44, 37, 44,\n",
       "       32, 49, 50, 24, 25, 51, 58, 50, 33, 59, 36, 57, 47, 38, 55, 46, 31,\n",
       "       50, 27, 38, 27, 40, 44, 24, 51, 58, 30, 23, 44, 51, 39, 52, 27, 51,\n",
       "       54, 26, 47, 33, 51, 24, 45, 52, 35, 47, 44, 37, 49, 33, 53, 45, 38,\n",
       "       38, 42, 55, 21, 47, 59, 45, 59, 52, 45, 43, 44, 23, 24, 42, 42, 41,\n",
       "       37, 40, 46, 27, 42, 59, 33, 26, 58, 23, 28, 59, 55, 58, 39, 56, 59,\n",
       "       40, 48, 37, 23, 32, 33, 45, 24, 31, 51, 39, 44, 31, 41, 59, 36, 38,\n",
       "       27, 36, 20, 45, 43, 34, 21, 42, 40, 46, 27, 44, 40, 44, 21, 24, 45,\n",
       "       37, 54, 35, 30, 57, 22, 28, 34, 41, 54, 41, 29, 36, 44, 52, 28, 45,\n",
       "       30, 34, 46, 22, 38, 59, 41, 52, 44, 52, 43, 25, 57, 23, 20, 51, 34,\n",
       "       52, 43, 47, 59, 59, 44, 34, 22, 48, 46, 35, 43, 29, 23])"
      ]
     },
     "execution_count": 3,
     "metadata": {},
     "output_type": "execute_result"
    }
   ],
   "source": [
    "# Gerando um dataframe com a idade de uma população de 200 pessoas\n",
    "dados = np.random.randint(20,60, 1000)\n",
    "dados"
   ]
  },
  {
   "cell_type": "markdown",
   "metadata": {},
   "source": [
    "Tabela de valores de z de acordo com o intervalo de confiança"
   ]
  },
  {
   "cell_type": "markdown",
   "metadata": {},
   "source": [
    "<table align='left'>\n",
    "\t<tbody>\n",
    "\t\t<tr>\n",
    "\t\t\t<td><strong>Confiança</strong></td>\n",
    "\t\t\t<td><strong>z</strong></td>\n",
    "\t\t</tr>\n",
    "\t\t<tr>\n",
    "\t\t\t<td>0.70</td>\n",
    "\t\t\t<td style=\"width: 114px\">1.04</td>\n",
    "\t\t</tr>\n",
    "\t\t<tr>\n",
    "\t\t\t<td>0.75</td>\n",
    "\t\t\t<td style=\"width: 114px\">1.15</td>\n",
    "\t\t</tr>\n",
    "\t\t<tr>\n",
    "\t\t\t<td>0.80</td>\n",
    "\t\t\t<td style=\"width: 114px\">1.28</td>\n",
    "\t\t</tr>\n",
    "\t\t<tr>\n",
    "\t\t\t<td>0.85</td>\n",
    "\t\t\t<td style=\"width: 114px\">1.44</td>\n",
    "\t\t</tr>\n",
    "\t\t<tr>\n",
    "\t\t\t<td>0.90</td>\n",
    "\t\t\t<td style=\"width: 114px\">1.645</td>\n",
    "\t\t</tr>\n",
    "\t\t<tr>\n",
    "\t\t\t<td>0.92</td>\n",
    "\t\t\t<td style=\"width: 114px\">1.75</td>\n",
    "\t\t</tr>\n",
    "\t\t<tr>\n",
    "\t\t\t<td>0.95</td>\n",
    "\t\t\t<td style=\"width: 114px\">1.96</td>\n",
    "\t\t</tr>\n",
    "\t\t<tr>\n",
    "\t\t\t<td>0.96</td>\n",
    "\t\t\t<td style=\"width: 114px\">2.05</td>\n",
    "\t\t</tr>\n",
    "\t\t<tr>\n",
    "\t\t\t<td>0.98</td>\n",
    "\t\t\t<td style=\"width: 114px\">2.33</td>\n",
    "\t\t</tr>\n",
    "\t\t<tr>\n",
    "\t\t\t<td>0.99</td>\n",
    "\t\t\t<td style=\"width: 114px\">2.58</td>\n",
    "\t\t</tr>\n",
    "</table>\n"
   ]
  },
  {
   "cell_type": "markdown",
   "metadata": {},
   "source": [
    "Calculando o tamanho da amostra"
   ]
  },
  {
   "cell_type": "code",
   "execution_count": 4,
   "metadata": {},
   "outputs": [
    {
     "data": {
      "text/plain": [
       "11.66472352865682"
      ]
     },
     "execution_count": 4,
     "metadata": {},
     "output_type": "execute_result"
    }
   ],
   "source": [
    "# verificando o desvio padrão da amostra\n",
    "std = dados.std()\n",
    "std"
   ]
  },
  {
   "cell_type": "markdown",
   "metadata": {},
   "source": [
    "#### Procedimento para computar o tamanho da amostra"
   ]
  },
  {
   "cell_type": "code",
   "execution_count": 5,
   "metadata": {},
   "outputs": [],
   "source": [
    "# definindo o tamanho das amostras com a fórmula n = (z.std/e)²\n",
    "def tamanhoAmostra(z,std,E):\n",
    "    n = round((z * std)**2/E**2)\n",
    "    return int(n)"
   ]
  },
  {
   "cell_type": "markdown",
   "metadata": {},
   "source": [
    "#### Realizando a amostragem e gerando uma distribuição amostral\n"
   ]
  },
  {
   "cell_type": "code",
   "execution_count": 6,
   "metadata": {},
   "outputs": [],
   "source": [
    "# criando o procedimento\n",
    "def analisarAmostras(dados,z,E,qtd_amostras):\n",
    "    estimativas = []\n",
    "    sdt = dados.std()\n",
    "    n = int(tamanhoAmostra(z,std,E))\n",
    "    \n",
    "    for i in range(qtd_amostras):\n",
    "        amostra = np.random.choice(a=dados, size=n)\n",
    "        estimativas.append(amostra.mean())\n",
    "        \n",
    "    return estimativas "
   ]
  },
  {
   "cell_type": "code",
   "execution_count": 8,
   "metadata": {},
   "outputs": [
    {
     "data": {
      "text/plain": [
       "[40.23664122137404,\n",
       " 39.6412213740458,\n",
       " 38.58015267175573,\n",
       " 39.48854961832061,\n",
       " 38.6412213740458,\n",
       " 40.6793893129771,\n",
       " 41.85496183206107,\n",
       " 39.70229007633588,\n",
       " 39.038167938931295,\n",
       " 39.396946564885496,\n",
       " 38.099236641221374,\n",
       " 38.06106870229008,\n",
       " 39.76335877862596,\n",
       " 41.099236641221374,\n",
       " 38.49618320610687,\n",
       " 40.25190839694657,\n",
       " 41.14503816793893,\n",
       " 40.2442748091603,\n",
       " 40.587786259541986,\n",
       " 40.20610687022901,\n",
       " 39.412213740458014,\n",
       " 39.00763358778626,\n",
       " 40.50381679389313,\n",
       " 39.57251908396947,\n",
       " 40.61832061068702,\n",
       " 39.732824427480914,\n",
       " 39.12213740458015,\n",
       " 40.343511450381676,\n",
       " 39.47328244274809,\n",
       " 39.25954198473283,\n",
       " 41.35114503816794,\n",
       " 40.465648854961835,\n",
       " 40.274809160305345,\n",
       " 40.770992366412216,\n",
       " 41.48091603053435,\n",
       " 40.51145038167939,\n",
       " 39.6412213740458,\n",
       " 39.16030534351145,\n",
       " 39.67175572519084,\n",
       " 40.10687022900763,\n",
       " 38.02290076335878,\n",
       " 40.717557251908396,\n",
       " 39.343511450381676,\n",
       " 39.12977099236641,\n",
       " 40.396946564885496,\n",
       " 37.89312977099237,\n",
       " 40.396946564885496,\n",
       " 39.030534351145036,\n",
       " 38.62595419847328,\n",
       " 38.83206106870229]"
      ]
     },
     "execution_count": 8,
     "metadata": {},
     "output_type": "execute_result"
    }
   ],
   "source": [
    "# chamando a função\n",
    "estimativas = analisarAmostras(dados, 1.96, 2, 50)\n",
    "estimativas"
   ]
  },
  {
   "cell_type": "markdown",
   "metadata": {},
   "source": [
    "#### Vamos ver a distribuição amostral através do gráfico de densidade"
   ]
  },
  {
   "cell_type": "code",
   "execution_count": 9,
   "metadata": {},
   "outputs": [
    {
     "name": "stdout",
     "output_type": "stream",
     "text": [
      "Media: 39.762,  Mediana: 39.687\n"
     ]
    },
    {
     "data": {
      "image/png": "[encoded data removed]",
      "text/plain": [
       "<matplotlib.figure.Figure at 0x235801934a8>"
      ]
     },
     "metadata": {},
     "output_type": "display_data"
    }
   ],
   "source": [
    "# gerando o gráfico\n",
    "graph = pd.DataFrame(estimativas).plot(kind='density')\n",
    "print('Media: {},  Mediana: {}'.format(round(np.mean(estimativas), 3),round(np.median(estimativas), 3)))"
   ]
  },
  {
   "cell_type": "markdown",
   "metadata": {},
   "source": [
    "#### Calculando a margem de erro\n",
    "\n",
    "conseguimos calcular a margem de erro através da fórmula : (<strong>z * desvio padrão da distribuição amostral/ raiz(tamanho da distribuição amostral</strong>).\n",
    "Depois subtraímos pela média da amostra para determinar o limite inferior, e somamos para determinar o limite superior"
   ]
  },
  {
   "cell_type": "code",
   "execution_count": 11,
   "metadata": {},
   "outputs": [
    {
     "data": {
      "text/plain": [
       "0.26026545830079545"
      ]
     },
     "execution_count": 11,
     "metadata": {},
     "output_type": "execute_result"
    }
   ],
   "source": [
    "# calculando a margem de erro\n",
    "import math\n",
    "z = 1.96\n",
    "tamanho = len(estimativas)\n",
    "margem_erro = z * (np.std(estimativas)/math.sqrt(len(estimativas)))\n",
    "margem_erro"
   ]
  },
  {
   "cell_type": "code",
   "execution_count": 14,
   "metadata": {},
   "outputs": [
    {
     "data": {
      "text/plain": [
       "(39.5, 40.022)"
      ]
     },
     "execution_count": 14,
     "metadata": {},
     "output_type": "execute_result"
    }
   ],
   "source": [
    "# computando os limites\n",
    "limite_inferior = np.mean(estimativas) - margem_erro\n",
    "limite_superior = np.mean(estimativas) + margem_erro\n",
    "round(limite_inferior, 2), round(limite_superior, 3)"
   ]
  },
  {
   "cell_type": "code",
   "execution_count": 15,
   "metadata": {},
   "outputs": [
    {
     "name": "stdout",
     "output_type": "stream",
     "text": [
      "Podemos inferir através das amostragens que a média de idade da população encontra-se entre 39.5 e 40.02 anos com um intervalo de confiança de 95%\n"
     ]
    }
   ],
   "source": [
    "print('Podemos inferir através das amostragens que a média de idade da população encontra-se entre {} e {} anos com um intervalo de confiança de {}%'.format(round(limite_inferior,2), round(limite_superior,2), 95))\n"
   ]
  },
  {
   "cell_type": "markdown",
   "metadata": {},
   "source": [
    "## Exercício"
   ]
  },
  {
   "cell_type": "markdown",
   "metadata": {},
   "source": [
    "O arquivo \"base_idade.csv\" contem o nome e idade de uma amostra da população de uma dada cidade fictícia do interior dos EUA. Essa base contem mais de 7 mil registros, e servirá para alimentar sua análise.\n",
    "\n",
    "Importe os dados, e realize inferências estatísticas sobre a média de idade desconhecida da população  da cidade.\n"
   ]
  },
  {
   "cell_type": "code",
   "execution_count": null,
   "metadata": {},
   "outputs": [],
   "source": []
  }
 ],
 "metadata": {
  "kernelspec": {
   "display_name": "Python 3",
   "language": "python",
   "name": "python3"
  },
  "language_info": {
   "codemirror_mode": {
    "name": "ipython",
    "version": 3
   },
   "file_extension": ".py",
   "mimetype": "text/x-python",
   "name": "python",
   "nbconvert_exporter": "python",
   "pygments_lexer": "ipython3",
   "version": "3.6.4"
  }
 },
 "nbformat": 4,
 "nbformat_minor": 2
}
