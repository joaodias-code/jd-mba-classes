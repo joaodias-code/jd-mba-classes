{
 "cells": [
  {
   "cell_type": "markdown",
   "metadata": {},
   "source": [
    "### LIVE UNIVERSITY \n",
    "\n",
    "Mostramos na vídeo-aula como realizar alguns testes de hipóteses T e Z \"na unha\", criando uma função e computando todas as estatísticas necessárias de maneira manual. Porém, o Python e sua enorme abrangência de bibliotecas matemáticas e estatísticas, também contem funções para computar uma diversidade de diferentes testes de maneira simples, em uma única linha de código.\n",
    "\n",
    "O módulo <strong>stats</strong> da biblioteca SciPy é onde podemos encontrar as funções demonstradas abaixo\n",
    "\n",
    "Esse notebook fornecido para vocês mostra alguns exemplos. \n",
    "\n",
    "Leia a documentação para entender quais estruturas de dado cada função foi feita para receber como argumento\n",
    "\n",
    "Fique a vontade para executar as células, inserir dados que você precise realizar testes verificar os resultados."
   ]
  },
  {
   "cell_type": "markdown",
   "metadata": {},
   "source": [
    "### TESTES DE NORMALIDADE \n",
    "(com dados amostrais que seguem distribuições gaussianas)\n",
    "\n"
   ]
  },
  {
   "cell_type": "markdown",
   "metadata": {},
   "source": [
    "### Teste Anderson-Darling \n",
    "\n",
    "documentação: https://docs.scipy.org/doc/scipy/reference/generated/scipy.stats.anderson.html"
   ]
  },
  {
   "cell_type": "code",
   "execution_count": null,
   "metadata": {},
   "outputs": [],
   "source": [
    "from scipy.stats import anderson\n",
    "amostra = # Dados\n",
    "resultado = anderson(amostra)"
   ]
  },
  {
   "cell_type": "markdown",
   "metadata": {},
   "source": [
    "### Teste D’Agostino’s K Quadrado\n",
    "\n",
    "documentação: https://docs.scipy.org/doc/scipy/reference/generated/scipy.stats.normaltest.html"
   ]
  },
  {
   "cell_type": "code",
   "execution_count": null,
   "metadata": {},
   "outputs": [],
   "source": [
    "from scipy.stats import normaltest\n",
    "amostra = # Dados\n",
    "stat, p = normaltest(amostra)"
   ]
  },
  {
   "cell_type": "markdown",
   "metadata": {},
   "source": [
    "### Teste Shapiro-Wilk\n",
    "\n",
    "documentação: https://docs.scipy.org/doc/scipy/reference/generated/scipy.stats.shapiro.html"
   ]
  },
  {
   "cell_type": "code",
   "execution_count": null,
   "metadata": {},
   "outputs": [],
   "source": [
    "from scipy.stats import shapiro\n",
    "amostra = # Dados\n",
    "stat, p = shapiro(amostra)"
   ]
  },
  {
   "cell_type": "markdown",
   "metadata": {},
   "source": [
    "### TESTES DE CORRELAÇÃO \n",
    "\n",
    "Testar a relação entre variáveis\n"
   ]
  },
  {
   "cell_type": "markdown",
   "metadata": {},
   "source": [
    "### Teste de Correlação de Pearson\n",
    "\n",
    "documentação: https://docs.scipy.org/doc/scipy/reference/generated/scipy.stats.pearsonr.html"
   ]
  },
  {
   "cell_type": "code",
   "execution_count": null,
   "metadata": {},
   "outputs": [],
   "source": [
    "from scipy.stats import pearsonr\n",
    "var1 = # variável 1\n",
    "var2 = # variável 2\n",
    "corr, p = pearsonr(var1, var2)"
   ]
  },
  {
   "cell_type": "markdown",
   "metadata": {},
   "source": [
    "### Rank de Correlação de Spearman\n",
    "\n",
    "documentação: https://docs.scipy.org/doc/scipy/reference/generated/scipy.stats.spearmanr.html"
   ]
  },
  {
   "cell_type": "code",
   "execution_count": null,
   "metadata": {},
   "outputs": [],
   "source": [
    "from scipy.stats import spearmanr\n",
    "var1 = # variável 1\n",
    "var2 = # variável 2\n",
    "corr, p = spearmanr(var1, var2)"
   ]
  },
  {
   "cell_type": "markdown",
   "metadata": {},
   "source": [
    "### Rank de Correlação de Kendall\n",
    "\n",
    "documentação: https://docs.scipy.org/doc/scipy/reference/generated/scipy.stats.kendalltau.html"
   ]
  },
  {
   "cell_type": "code",
   "execution_count": null,
   "metadata": {},
   "outputs": [],
   "source": [
    "from scipy.stats import kendalltau\n",
    "var1 = # variável 1\n",
    "var2 = # variável 2\n",
    "corr, p = kendalltau(var1, var2)"
   ]
  },
  {
   "cell_type": "markdown",
   "metadata": {},
   "source": [
    "### Teste Chi-Quadrado\n",
    "\n",
    "documentação: https://docs.scipy.org/doc/scipy/reference/generated/scipy.stats.chi2_contingency.html"
   ]
  },
  {
   "cell_type": "code",
   "execution_count": null,
   "metadata": {},
   "outputs": [],
   "source": [
    "from scipy.stats import chi2_contingency\n",
    "tabela = # tabela\n",
    "stat, p, dof, expected = chi2_contingency(tabela)"
   ]
  },
  {
   "cell_type": "markdown",
   "metadata": {},
   "source": [
    "### TESTES PARAMÉTRICOS\n",
    "\n",
    "Comparar amostras\n"
   ]
  },
  {
   "cell_type": "markdown",
   "metadata": {},
   "source": [
    "### Teste T Student\n",
    "\n",
    "documentação: https://docs.scipy.org/doc/scipy/reference/generated/scipy.stats.ttest_ind.html"
   ]
  },
  {
   "cell_type": "code",
   "execution_count": null,
   "metadata": {},
   "outputs": [],
   "source": [
    "from scipy.stats import ttest_ind\n",
    "amostra1 = # amostra1\n",
    "amostra2 = # amostra2\n",
    "stat, p = ttest_ind(amostra1, amostra2)"
   ]
  },
  {
   "cell_type": "markdown",
   "metadata": {},
   "source": [
    "### Teste T Student Pareado\n",
    "\n",
    "documentação: https://docs.scipy.org/doc/scipy/reference/generated/scipy.stats.ttest_rel.html"
   ]
  },
  {
   "cell_type": "code",
   "execution_count": null,
   "metadata": {},
   "outputs": [],
   "source": [
    "from scipy.stats import ttest_rel\n",
    "amostra1 = # amostra1\n",
    "amostra2 = # amostra2\n",
    "stat, p = ttest_rel(amostra1, amostra2)"
   ]
  },
  {
   "cell_type": "markdown",
   "metadata": {},
   "source": [
    "### Teste de Análise de Variância (ANOVA)\n",
    "\n",
    "documentação: https://docs.scipy.org/doc/scipy/reference/generated/scipy.stats.f_oneway.html"
   ]
  },
  {
   "cell_type": "code",
   "execution_count": null,
   "metadata": {},
   "outputs": [],
   "source": [
    "from scipy.stats import f_oneway\n",
    "amostra1 = # amostra1\n",
    "amostra2 = # amostra2\n",
    "...\n",
    "amostraN = # amostraN\n",
    "stat, p = f_oneway(amostra1, amostra2, ...amostraN)"
   ]
  },
  {
   "cell_type": "markdown",
   "metadata": {},
   "source": [
    "### Teste Levene\n",
    "\n",
    "documentação: https://docs.scipy.org/doc/scipy/reference/generated/scipy.stats.levene.html#scipy.stats.levene"
   ]
  },
  {
   "cell_type": "code",
   "execution_count": null,
   "metadata": {},
   "outputs": [],
   "source": [
    "from scipy.stats import levene\n",
    "amostra1 = # amostra1\n",
    "amostra2 = # amostra2\n",
    "...\n",
    "amostraN = # amostraN\n",
    "stat, p = levene(amostra1, amostra2, ...amostraN)"
   ]
  },
  {
   "cell_type": "markdown",
   "metadata": {},
   "source": [
    "### TESTES NÃO PARAMÉTRICOS\n",
    "\n",
    "Comparar amostras\n"
   ]
  },
  {
   "cell_type": "markdown",
   "metadata": {},
   "source": [
    "### Teste Mann-Whitney U \n",
    "\n",
    "documentação: https://docs.scipy.org/doc/scipy/reference/generated/scipy.stats.mannwhitneyu.html"
   ]
  },
  {
   "cell_type": "code",
   "execution_count": null,
   "metadata": {},
   "outputs": [],
   "source": [
    "from scipy.stats import mannwhitneyu\n",
    "amostra1 = # amostra1\n",
    "amostra2 = # amostra2\n",
    "stat, p = mannwhitneyu(amostra1, amostra2)"
   ]
  },
  {
   "cell_type": "markdown",
   "metadata": {},
   "source": [
    "### Teste Wilcoxon\n",
    "\n",
    "documentação: https://docs.scipy.org/doc/scipy/reference/generated/scipy.stats.wilcoxon.html"
   ]
  },
  {
   "cell_type": "code",
   "execution_count": null,
   "metadata": {},
   "outputs": [],
   "source": [
    "from scipy.stats import wilcoxon\n",
    "amostra1 = # amostra1\n",
    "amostra2 = # amostra2\n",
    "stat, p = wilcoxon(amostra1, amostra2)"
   ]
  },
  {
   "cell_type": "markdown",
   "metadata": {},
   "source": [
    "### Teste Kruskal-Wallis H\n",
    "\n",
    "documentação: https://docs.scipy.org/doc/scipy/reference/generated/scipy.stats.kruskal.html"
   ]
  },
  {
   "cell_type": "code",
   "execution_count": null,
   "metadata": {},
   "outputs": [],
   "source": [
    "from scipy.stats import kruskal\n",
    "amostra1 = # amostra1\n",
    "amostra2 = # amostra2\n",
    "...\n",
    "amostraN = # amostraN\n",
    "stat, p = kruskal(amostra1, amostra2, ...amostraN)"
   ]
  },
  {
   "cell_type": "markdown",
   "metadata": {},
   "source": [
    "### Teste Friedman\n",
    "\n",
    "documentação: https://docs.scipy.org/doc/scipy/reference/generated/scipy.stats.friedmanchisquare.html"
   ]
  },
  {
   "cell_type": "code",
   "execution_count": null,
   "metadata": {},
   "outputs": [],
   "source": [
    "from scipy.stats import friedmanchisquare\n",
    "amostra1 = # amostra1\n",
    "amostra2 = # amostra2\n",
    "...\n",
    "amostraN = # amostraN\n",
    "stat, p = friedmanchisquare(amostra1, amostra2, ...amostraN)"
   ]
  },
  {
   "cell_type": "markdown",
   "metadata": {},
   "source": [
    "### Teste Fligner\n",
    "\n",
    "documentação: https://docs.scipy.org/doc/scipy/reference/generated/scipy.stats.fligner.html"
   ]
  },
  {
   "cell_type": "code",
   "execution_count": null,
   "metadata": {},
   "outputs": [],
   "source": [
    "from scipy.stats import fligner\n",
    "amostra1 = # amostra1\n",
    "amostra2 = # amostra2\n",
    "...\n",
    "amostraN = # amostraN\n",
    "stat, p = fligner(amostra1, amostra2, ...amostraN)"
   ]
  },
  {
   "cell_type": "markdown",
   "metadata": {},
   "source": [
    "## FIM!"
   ]
  }
 ],
 "metadata": {
  "kernelspec": {
   "display_name": "Python 3",
   "language": "python",
   "name": "python3"
  },
  "language_info": {
   "codemirror_mode": {
    "name": "ipython",
    "version": 3
   },
   "file_extension": ".py",
   "mimetype": "text/x-python",
   "name": "python",
   "nbconvert_exporter": "python",
   "pygments_lexer": "ipython3",
   "version": "3.6.4"
  }
 },
 "nbformat": 4,
 "nbformat_minor": 2
}
