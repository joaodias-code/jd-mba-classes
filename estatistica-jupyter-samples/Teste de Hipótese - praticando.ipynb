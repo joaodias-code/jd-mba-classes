{
 "cells": [
  {
   "cell_type": "markdown",
   "metadata": {},
   "source": [
    "## Live University"
   ]
  },
  {
   "cell_type": "markdown",
   "metadata": {},
   "source": [
    "## Teste de Hipótese "
   ]
  },
  {
   "cell_type": "markdown",
   "metadata": {},
   "source": [
    "Vamos importar as bibliotecas necessárias"
   ]
  },
  {
   "cell_type": "code",
   "execution_count": 1,
   "metadata": {},
   "outputs": [],
   "source": [
    "import pandas as pd\n",
    "import numpy as np\n",
    "import math\n",
    "import scipy.stats as st\n",
    "import matplotlib.pyplot as plt"
   ]
  },
  {
   "cell_type": "markdown",
   "metadata": {},
   "source": [
    "### Antes de explorar o passo a passo...\n",
    "\n",
    "#### Teste de hipótese usando o P valor\n",
    "\n",
    "Além do procedimento explicado passo a passo, calculando o valor observado e comparando com os valores críticos, podemos analisar o <strong>valor p</strong> contra o nível de significância alfa para rejeitar ou aceitar a hipótese nula. \n",
    "\n",
    "Se o P valor for maior do que alfa, podemos aceitar a hipótese nula, caso contrário, se o P valor for menor do que alfa, podemos rejeitar a hipótese nula. \n",
    "\n",
    "No Python, como na maioria das aplicações, existem diversas maneiras de se lidar com o problema. Vamos aqui explorar duas maneiras de se extrair o P valor,\n",
    "\n",
    "#### P Valor a partir do zscore\n"
   ]
  },
  {
   "cell_type": "markdown",
   "metadata": {},
   "source": [
    "#### Computa o desvio padrão da amostra\n",
    "\n",
    "    desvio_padrao_amostra = amostra.std()\n",
    "\n",
    "#### Computa o zscore\n",
    "\n",
    "    zscore = (H0 - media_amostra)/desvio_padrao_amostra"
   ]
  },
  {
   "cell_type": "markdown",
   "metadata": {},
   "source": [
    "#### Computa o p valor\n",
    "\n",
    "    import scipy.special as scsp\n",
    "    p_valor = 0.5 * (1 + scsp.erf(zscore / np.sqrt(2)))\n",
    "    p_valor"
   ]
  },
  {
   "cell_type": "markdown",
   "metadata": {},
   "source": [
    "#### P Valor gerado com o método ttest_1samp do pacote scipy.stats\n",
    "\n",
    "Essa função retorna a estatística t e o P valor, recebendo como parâmetro a amostra e o H0"
   ]
  },
  {
   "cell_type": "markdown",
   "metadata": {},
   "source": [
    "    t_statistic, p_valor = st.ttest_1samp(amostra, H0)\n",
    "    p_valor"
   ]
  },
  {
   "cell_type": "markdown",
   "metadata": {},
   "source": [
    "## Problema 1: testando a  idade média de uma população com variância conhecida"
   ]
  },
  {
   "cell_type": "markdown",
   "metadata": {},
   "source": [
    "Vamos agora considerar uma amostragem de determinada população.\n",
    "Usaremos os dados dessa amostragem para realizar o teste de hipótese"
   ]
  },
  {
   "cell_type": "code",
   "execution_count": 2,
   "metadata": {},
   "outputs": [],
   "source": [
    "# amostra de 100 pessoas de uma população\n",
    "amostra = np.array([68, 55, 11, 11, 76, 68, 23, 77,  8, 63, 60, 19, 18, 45, 58,  8, 61,\n",
    "        6, 73,  7, 50, 62, 13, 27, 70, 31, 51, 58, 14, 23, 64, 10, 33, 65,\n",
    "       49, 25, 49,  6, 27, 27, 12,  9, 70, 34, 29, 18, 26, 37, 60, 19, 64,\n",
    "       59, 67, 20, 77, 34, 72, 64, 77, 68, 22, 40, 37, 44,  5, 57, 66, 18,\n",
    "       40, 58, 57, 66, 37,  8, 49, 76, 77, 40,  9, 71,  7, 49, 63, 55, 51,\n",
    "       20, 26, 70, 45, 68,  7, 32, 37, 54, 74, 15, 36, 32, 16, 44])\n"
   ]
  },
  {
   "cell_type": "markdown",
   "metadata": {},
   "source": [
    "### Formulando as hipóteses e definindo o nível de significância \n",
    "\n",
    "Vamos testar a hipótese de que a média de idade da <strong>população</strong> é de 40 anos.\n",
    "\n",
    "Portanto, temos que:\n",
    "\n",
    "- H0 = 40\n",
    "- H1 != 40\n",
    "\n",
    "Vamos definir também um nível de sigificância de 5% (0.05)"
   ]
  },
  {
   "cell_type": "markdown",
   "metadata": {},
   "source": [
    "### Calculando o valor observado\n",
    "\n",
    "Lembre-se de que o valor calculado será <strong>Z</strong> ou <strong>T</strong> dependendo da variância da população ser conhecida ou não. Nesse caso, vamos assumir que a variância da população é conhecida e é de 144.\n",
    "\n",
    "Nesse caso, encontraremos o valor de <strong>Z</strong> observado através da fórmula <em>Média amostral - H0 / (Desvio Padrão da população / raiz(tamanho da amostra))</em>"
   ]
  },
  {
   "cell_type": "code",
   "execution_count": 3,
   "metadata": {},
   "outputs": [],
   "source": [
    "# vamos computar todos os valores necessários para calcular Z\n",
    "media_amostra = np.mean(amostra)\n",
    "H0 = 40\n",
    "desvio_padrao = math.sqrt(144)\n",
    "n = len(amostra)"
   ]
  },
  {
   "cell_type": "markdown",
   "metadata": {},
   "source": [
    "### Determinando o valor crítico \n",
    "\n",
    "Determinar o valor crítico depende de dois fatores: as hipóteses formuladas e o nível de significância\n",
    "\n",
    "- Se a hipótese alternativa representar um valor maior ou menor do que a hipótese nula, o teste é unilateral, ou seja, existe um valor crítico apenas, proporcional ao nível de significância. (Exemplo: H0 >= x, H1 < x)\n",
    "- Se a hipótese alternativa representar um valor simplesmente diferente da hipótese nula, o teste é bilateral, ou seja, existem 2 valores críticos, 1 negativo e 1 positivo, proporcionais a metade do nível de significância. (Exemplo: H0 = x, H1 != x)\n",
    "\n",
    "O módulo <strong>stats</strong> da bilioteca SciPy nos fornece métodos bastante simples para obter esses valores\n",
    "\n",
    "Como nesse caso temos um teste bilateral, teremos 2 valores críticos.\n",
    "Temos que a significância é de 0.05 (5%), ou seja, ela dividida por 2 = 0.025. Então, os percentis que buscamos na distribuição normal são de  2.5 e 97.5. Passamos esses valores como primeiro argumento na função st.norm.ppf que retorna o determinado valor de z"
   ]
  },
  {
   "cell_type": "code",
   "execution_count": 5,
   "metadata": {},
   "outputs": [
    {
     "data": {
      "text/plain": [
       "1.3583333333333356"
      ]
     },
     "execution_count": 5,
     "metadata": {},
     "output_type": "execute_result"
    }
   ],
   "source": [
    "# computando z de acordo com o nível de significância \n",
    "z = (media_amostra - H0)/(desvio_padrao/math.sqrt(n))\n",
    "z"
   ]
  },
  {
   "cell_type": "code",
   "execution_count": 6,
   "metadata": {},
   "outputs": [
    {
     "data": {
      "text/plain": [
       "(-1.9599639845400545, 1.959963984540054)"
      ]
     },
     "execution_count": 6,
     "metadata": {},
     "output_type": "execute_result"
    }
   ],
   "source": [
    "# computando z de acordo com o nível de significância \n",
    "from scipy.stats import norm\n",
    "z_critico_neg = st.norm.ppf(.025)\n",
    "z_critico_pos = st.norm.ppf(.975)\n",
    "z_critico_neg, z_critico_pos"
   ]
  },
  {
   "cell_type": "code",
   "execution_count": 7,
   "metadata": {},
   "outputs": [],
   "source": [
    "def teste_bilateral(v_obs, v_critico_neg, v_critico_pos, distribuicao):\n",
    "    \n",
    "    \"\"\"\n",
    "    Parâmetros:\n",
    "    v_obs: valor observado (float ou int)\n",
    "    v_critico_neg: z crítico ou t crítico menor que zero (float ou int)   \n",
    "    v_critico_pos: z crítico ou t crítico maior que zero (float ou int)\n",
    "    distribuicao: z ou t de Student, determina a estatística utilizada (string, 'z' ou 't')\n",
    "    \"\"\"\n",
    "    \n",
    "    if distribuicao == 'z':        \n",
    "        fig, ax = plt.subplots(1, 1)\n",
    "        mean, var, skew, kurt = norm.stats(moments='mvsk')\n",
    "        x = np.linspace(norm.ppf(0.01),norm.ppf(0.99), 100)\n",
    "        ax.plot(x, norm.pdf(x),'r-', lw=5, alpha=0.5, label='norm pdf')\n",
    "    \n",
    "    if distribuicao == 't':\n",
    "        fig, ax = plt.subplots(1, 1)\n",
    "        df = 2.74\n",
    "        mean, var, skew, kurt = t.stats(df, moments='mvsk')\n",
    "        x = np.linspace(t.ppf(0.01, df), t.ppf(0.99, df), 100) \n",
    "        ax.plot(x, t.pdf(x, df), 'r-', lw=5, alpha=0.5, label='t pdf')\n",
    "        \n",
    "    plt.axvline(x=v_critico_pos, color='red')\n",
    "    plt.axvline(x=v_critico_neg, color='red')\n",
    "    plt.axvline(x=v_obs, color='blue')\n",
    "    \n",
    "    if (v_obs >= v_critico_pos) or (v_obs <= v_critico_neg):\n",
    "        print('O valor observado está dentro da região crítica')\n",
    "    \n",
    "    else:\n",
    "        print('O valor observado está fora da região crítica')"
   ]
  },
  {
   "cell_type": "markdown",
   "metadata": {},
   "source": [
    "- No gráfico gerado pela função, as linhas vermelhas representam os valores críticos e a linha azul representa o valor observado"
   ]
  },
  {
   "cell_type": "code",
   "execution_count": 8,
   "metadata": {},
   "outputs": [
    {
     "name": "stdout",
     "output_type": "stream",
     "text": [
      "O valor observado está fora da região crítica\n"
     ]
    },
    {
     "data": {
      "image/png": "[encoded data removed]",
      "text/plain": [
       "<matplotlib.figure.Figure at 0x236aa6e74e0>"
      ]
     },
     "metadata": {},
     "output_type": "display_data"
    }
   ],
   "source": [
    "# Essa função recebe como parâmetros: o valor observado, o valor crítico negativo e positivo e o tipo do valor (z ou t)\n",
    "teste_bilateral(z, z_critico_neg, z_critico_pos, 'z')"
   ]
  },
  {
   "cell_type": "markdown",
   "metadata": {},
   "source": [
    "Em ambos os testes, tivemos um P valor maior do que o alfa (0.47 > 0.05), portanto, aceitamos a hipótese nula. "
   ]
  },
  {
   "cell_type": "markdown",
   "metadata": {},
   "source": [
    "## Problema 2: testando a média de altura de uma população \n",
    "\n",
    "Primeiro carregamos os dados da amostra"
   ]
  },
  {
   "cell_type": "code",
   "execution_count": 9,
   "metadata": {},
   "outputs": [],
   "source": [
    "# amostra aleatória\n",
    "amostra = np.array([1.29976537, 1.50109149, 1.59373572, 1.27249487, 1.25013404,\n",
    "       1.92579941, 1.69810155, 1.72480802, 1.84590793, 1.72106438,\n",
    "       1.72887568, 1.28914892, 1.75082407, 1.49982705, 1.40517243,\n",
    "       1.73586983, 1.54208646, 1.97052236, 1.48861552, 1.96731456,\n",
    "       1.23813259, 1.30686525, 1.5376283 , 1.27748465, 1.66483155,\n",
    "       1.43316223, 1.30570199, 1.59033091, 1.74470394, 1.43655501,\n",
    "       1.96172667, 1.22231744, 1.75068466, 1.21907808, 1.94254254,\n",
    "       1.35767019, 1.8250525 , 1.97689053, 1.90396933, 1.57675201,\n",
    "       1.35707761, 1.64350921, 1.97027864, 1.57140672, 1.22954647,\n",
    "       1.73268708, 1.21620466, 1.71626002, 1.78190467, 1.67269229])"
   ]
  },
  {
   "cell_type": "markdown",
   "metadata": {},
   "source": [
    "Vamos testar a hipótese de que a média de altura dessa população é maior ou igual a 1,55 metros.\n",
    "\n",
    "Portanto, temos que:\n",
    "\n",
    "- H0 >= 1.55\n",
    "- H1 < 1.55\n",
    "\n",
    "Vamos definir também um nível de sigificância de 5% (0.05)\n",
    "\n",
    "Então computamos o valor observado. Nesse caso, teremos o <strong>T</strong> ao invés do Z, uma vez que nesse problema não conhecemos a variância da população. Sendo assim, precisaremos substituir no cálculo do valor observado o desvio padrão da população pelo desvio padrão da amostra, tendo assim a fórmula: <em>Média amostral - H0 / (Desvio Padrão da amostra / raiz(tamanho da amostra))</em>"
   ]
  },
  {
   "cell_type": "code",
   "execution_count": 10,
   "metadata": {},
   "outputs": [],
   "source": [
    "# cálculo das variáveis necessárias para obter o T observado\n",
    "media_amostra = np.mean(amostra)\n",
    "H0 = 1.55\n",
    "desvio_padrao = np.std(amostra)\n",
    "n = len(amostra)"
   ]
  },
  {
   "cell_type": "code",
   "execution_count": 11,
   "metadata": {},
   "outputs": [
    {
     "data": {
      "text/plain": [
       "1.088658758410284"
      ]
     },
     "execution_count": 11,
     "metadata": {},
     "output_type": "execute_result"
    }
   ],
   "source": [
    "# obtem o T observado \n",
    "t_obs = (media_amostra - H0)/(desvio_padrao/math.sqrt(n))\n",
    "t_obs"
   ]
  },
  {
   "cell_type": "markdown",
   "metadata": {},
   "source": [
    "Agora utilizaremos uma outra função do pacote do <em>stats</em> para computar o t crítico, que nesse caso é apenas um valor, tornando nosso teste unilateral.\n",
    "\n",
    "Um detalhe no cálculo do t crítico, é que ele exige definirmos os graus de liberdade, que são calculados subtraindo 1 do número de valores da amostra (n-1)"
   ]
  },
  {
   "cell_type": "code",
   "execution_count": 12,
   "metadata": {},
   "outputs": [],
   "source": [
    "# Importa o módulo T\n",
    "from scipy.stats import t"
   ]
  },
  {
   "cell_type": "code",
   "execution_count": 13,
   "metadata": {},
   "outputs": [],
   "source": [
    "# computamos o grau de liberdade subtraindo 1 do tamanho da amostra\n",
    "grau_liberdade = n-1"
   ]
  },
  {
   "cell_type": "code",
   "execution_count": 14,
   "metadata": {},
   "outputs": [
    {
     "data": {
      "text/plain": [
       "-1.6765508919142635"
      ]
     },
     "execution_count": 14,
     "metadata": {},
     "output_type": "execute_result"
    }
   ],
   "source": [
    "# chama a função ppf do módulo T e passamos como argumento o nível de significância e o grau de liberdade  e retorna o t crítico\n",
    "t_critico = st.t.ppf((.05), df=grau_liberdade)\n",
    "t_critico"
   ]
  },
  {
   "cell_type": "markdown",
   "metadata": {},
   "source": [
    "Usaremos outra função, para testes unilaterais, que gera a distribuição T de Student com as regiões críticas e valor observado. Nela declaramos o valor observado, o valor crítico e o tipo do valor (z ou t)"
   ]
  },
  {
   "cell_type": "code",
   "execution_count": 15,
   "metadata": {},
   "outputs": [],
   "source": [
    "# função teste_unilateral\n",
    "def teste_unilateral(v_obs, v_critico, distribuicao):\n",
    "    \n",
    "    \"\"\"\n",
    "    Parâmetros:\n",
    "    v_obs: valor observado (float ou int)\n",
    "    v_critico: z crítico ou t crítico (float ou int)\n",
    "    distribuicao: Z ou T de Student, determina a estatística utilizada (string, 'z' ou 't')\n",
    "    \"\"\"\n",
    "    \n",
    "    if distribuicao == 'z':        \n",
    "        fig, ax = plt.subplots(1, 1)\n",
    "        mean, var, skew, kurt = norm.stats(moments='mvsk')\n",
    "        x = np.linspace(norm.ppf(0.01),norm.ppf(0.99), 100)\n",
    "        ax.plot(x, norm.pdf(x),'r-', lw=5, alpha=0.5, label='norm pdf')\n",
    "    \n",
    "    if distribuicao == 't':\n",
    "        fig, ax = plt.subplots(1, 1)\n",
    "        df = 2.74\n",
    "        mean, var, skew, kurt = t.stats(df, moments='mvsk')\n",
    "        x = np.linspace(t.ppf(0.01, df), t.ppf(0.99, df), 100) \n",
    "        ax.plot(x, t.pdf(x, df), 'r-', lw=5, alpha=0.5, label='t pdf')\n",
    "\n",
    "    plt.axvline(x=v_critico, color='red')\n",
    "    plt.axvline(x=v_obs, color='blue')\n",
    "    \n",
    "    if (v_critico > 0 and v_obs >= v_critico) or (v_critico < 0 and v_obs <= v_critico):\n",
    "        print('O valor observado está dentro da região crítica')\n",
    "    \n",
    "    else:\n",
    "        print('O valor observado está fora da região crítica')"
   ]
  },
  {
   "cell_type": "code",
   "execution_count": 16,
   "metadata": {},
   "outputs": [
    {
     "name": "stdout",
     "output_type": "stream",
     "text": [
      "O valor observado está fora da região crítica\n"
     ]
    },
    {
     "data": {
      "image/png": "[encoded data removed]",
      "text/plain": [
       "<matplotlib.figure.Figure at 0x236aa823f98>"
      ]
     },
     "metadata": {},
     "output_type": "display_data"
    }
   ],
   "source": [
    "# chamando a função\n",
    "teste_unilateral(t_obs, t_critico, 't')"
   ]
  },
  {
   "cell_type": "markdown",
   "metadata": {},
   "source": [
    "## Exercício \n",
    "\n",
    "\n",
    "- Carregue os dados <strong>amostra aleatoria.csv</strong>.\n",
    "- Eles representam uma amostra aleatória de uma cidade.\n",
    "\n",
    "1) Teste a hipótese de que mulheres representam 55% da população com um nível de significancia de 5%"
   ]
  },
  {
   "cell_type": "markdown",
   "metadata": {},
   "source": [
    "### Formulando hipóteses:\n",
    "\n",
    "- H0: p # Complete\n",
    "- HA: p # Complete "
   ]
  },
  {
   "cell_type": "markdown",
   "metadata": {},
   "source": [
    "#### A hipótese nula deve ser aceita?"
   ]
  },
  {
   "cell_type": "code",
   "execution_count": null,
   "metadata": {},
   "outputs": [],
   "source": []
  }
 ],
 "metadata": {
  "kernelspec": {
   "display_name": "Python 3",
   "language": "python",
   "name": "python3"
  },
  "language_info": {
   "codemirror_mode": {
    "name": "ipython",
    "version": 3
   },
   "file_extension": ".py",
   "mimetype": "text/x-python",
   "name": "python",
   "nbconvert_exporter": "python",
   "pygments_lexer": "ipython3",
   "version": "3.6.4"
  }
 },
 "nbformat": 4,
 "nbformat_minor": 2
}
