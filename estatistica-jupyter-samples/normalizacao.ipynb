{
 "cells": [
  {
   "cell_type": "markdown",
   "metadata": {},
   "source": [
    "Normalização"
   ]
  },
  {
   "cell_type": "code",
   "execution_count": 1,
   "metadata": {},
   "outputs": [
    {
     "name": "stderr",
     "output_type": "stream",
     "text": [
      "/Users/thiagorolemberg/anaconda3/envs/thinkseg/lib/python3.7/importlib/_bootstrap.py:219: RuntimeWarning: numpy.ufunc size changed, may indicate binary incompatibility. Expected 192 from C header, got 216 from PyObject\n",
      "  return f(*args, **kwds)\n",
      "/Users/thiagorolemberg/anaconda3/envs/thinkseg/lib/python3.7/importlib/_bootstrap.py:219: RuntimeWarning: numpy.ufunc size changed, may indicate binary incompatibility. Expected 192 from C header, got 216 from PyObject\n",
      "  return f(*args, **kwds)\n"
     ]
    }
   ],
   "source": [
    "from sklearn.preprocessing import MinMaxScaler\n",
    "import pandas as pd\n",
    "import numpy as np"
   ]
  },
  {
   "cell_type": "code",
   "execution_count": 4,
   "metadata": {},
   "outputs": [],
   "source": [
    "cols = ['A', 'B']\n",
    "data = pd.DataFrame(np.array([[2,3], [1.02, 1.2], [0.5, 0.3]]), columns= cols)"
   ]
  },
  {
   "cell_type": "code",
   "execution_count": 11,
   "metadata": {},
   "outputs": [],
   "source": [
    "#O parâmetro feature_range= (0,1) é o default que resultará a normalização variando entre 0 e 1.\n",
    "scaler = MinMaxScaler(feature_range=(0,1))\n",
    "sc_data = scaler.fit_transform(data[cols])"
   ]
  },
  {
   "cell_type": "code",
   "execution_count": 13,
   "metadata": {},
   "outputs": [
    {
     "data": {
      "text/plain": [
       "array([[1.        , 1.        ],\n",
       "       [0.34666667, 0.33333333],\n",
       "       [0.        , 0.        ]])"
      ]
     },
     "execution_count": 13,
     "metadata": {},
     "output_type": "execute_result"
    }
   ],
   "source": [
    "sc_data"
   ]
  },
  {
   "cell_type": "raw",
   "metadata": {},
   "source": [
    "Outro Exemplo\n",
    "\n",
    "O StandardScaler padroniza os dados para uma unidade de variância (var=1).\n",
    "\n",
    "Para padronizar os dados no intervalo (-1, 1), utilize o MaxAbsScaler:"
   ]
  },
  {
   "cell_type": "code",
   "execution_count": 17,
   "metadata": {},
   "outputs": [
    {
     "name": "stdout",
     "output_type": "stream",
     "text": [
      "[[ 0.          0.        ]\n",
      " [ 0.1        -1.        ]\n",
      " [ 0.13333333  0.95      ]\n",
      " [ 0.33333333  0.125     ]\n",
      " [ 1.          0.        ]]\n"
     ]
    }
   ],
   "source": [
    "from sklearn.preprocessing import MaxAbsScaler\n",
    "\n",
    "# Define os dados\n",
    "dados = np.array([[0, 0], [300, -4], [400, 3.8], [1000, 0.5], [3000, 0]], dtype=np.float64)\n",
    "\n",
    "dados\n",
    "\n",
    "# Instancia o MaxAbsScaler\n",
    "p=MaxAbsScaler()\n",
    "\n",
    "# Analisa os dados e prepara o padronizador\n",
    "p.fit(dados)\n",
    "MaxAbsScaler(copy=True)\n",
    "\n",
    "# Transforma os dados\n",
    "print(p.transform(dados))"
   ]
  },
  {
   "cell_type": "code",
   "execution_count": null,
   "metadata": {},
   "outputs": [],
   "source": []
  }
 ],
 "metadata": {
  "kernelspec": {
   "display_name": "Python 3",
   "language": "python",
   "name": "python3"
  },
  "language_info": {
   "codemirror_mode": {
    "name": "ipython",
    "version": 3
   },
   "file_extension": ".py",
   "mimetype": "text/x-python",
   "name": "python",
   "nbconvert_exporter": "python",
   "pygments_lexer": "ipython3",
   "version": "3.7.4"
  }
 },
 "nbformat": 4,
 "nbformat_minor": 2
}
